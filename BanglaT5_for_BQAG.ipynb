{
 "cells": [
  {
   "cell_type": "code",
   "execution_count": 10,
   "metadata": {
    "colab": {
     "base_uri": "https://localhost:8080/",
     "height": 130
    },
    "id": "NT7_xKrfYV1J",
    "outputId": "5fa1c764-105f-4f82-e6eb-04dea6dee81b"
   },
   "outputs": [
    {
     "name": "stderr",
     "output_type": "stream",
     "text": [
      "ERROR: Could not find a version that satisfies the requirement git (from versions: none)\n",
      "ERROR: No matching distribution found for git\n"
     ]
    },
    {
     "name": "stdout",
     "output_type": "stream",
     "text": [
      "Requirement already satisfied: transformers[sentencepiece] in c:\\users\\razer\\anaconda3\\envs\\titanoboa\\lib\\site-packages (4.29.1)\n",
      "Requirement already satisfied: packaging>=20.0 in c:\\users\\razer\\anaconda3\\envs\\titanoboa\\lib\\site-packages (from transformers[sentencepiece]) (22.0)\n",
      "Requirement already satisfied: pyyaml>=5.1 in c:\\users\\razer\\anaconda3\\envs\\titanoboa\\lib\\site-packages (from transformers[sentencepiece]) (6.0)\n",
      "Requirement already satisfied: huggingface-hub<1.0,>=0.14.1 in c:\\users\\razer\\anaconda3\\envs\\titanoboa\\lib\\site-packages (from transformers[sentencepiece]) (0.14.1)\n",
      "Requirement already satisfied: tokenizers!=0.11.3,<0.14,>=0.11.1 in c:\\users\\razer\\anaconda3\\envs\\titanoboa\\lib\\site-packages (from transformers[sentencepiece]) (0.13.3)\n",
      "Requirement already satisfied: requests in c:\\users\\razer\\anaconda3\\envs\\titanoboa\\lib\\site-packages (from transformers[sentencepiece]) (2.28.1)\n",
      "Requirement already satisfied: regex!=2019.12.17 in c:\\users\\razer\\anaconda3\\envs\\titanoboa\\lib\\site-packages (from transformers[sentencepiece]) (2023.5.5)\n",
      "Requirement already satisfied: tqdm>=4.27 in c:\\users\\razer\\anaconda3\\envs\\titanoboa\\lib\\site-packages (from transformers[sentencepiece]) (4.64.1)\n",
      "Requirement already satisfied: filelock in c:\\users\\razer\\anaconda3\\envs\\titanoboa\\lib\\site-packages (from transformers[sentencepiece]) (3.9.0)\n",
      "Requirement already satisfied: numpy>=1.17 in c:\\users\\razer\\anaconda3\\envs\\titanoboa\\lib\\site-packages (from transformers[sentencepiece]) (1.23.5)\n",
      "Requirement already satisfied: protobuf<=3.20.2 in c:\\users\\razer\\anaconda3\\envs\\titanoboa\\lib\\site-packages (from transformers[sentencepiece]) (3.20.1)\n",
      "Requirement already satisfied: sentencepiece!=0.1.92,>=0.1.91 in c:\\users\\razer\\anaconda3\\envs\\titanoboa\\lib\\site-packages (from transformers[sentencepiece]) (0.1.99)\n",
      "Requirement already satisfied: typing-extensions>=3.7.4.3 in c:\\users\\razer\\anaconda3\\envs\\titanoboa\\lib\\site-packages (from huggingface-hub<1.0,>=0.14.1->transformers[sentencepiece]) (4.4.0)\n",
      "Requirement already satisfied: fsspec in c:\\users\\razer\\anaconda3\\envs\\titanoboa\\lib\\site-packages (from huggingface-hub<1.0,>=0.14.1->transformers[sentencepiece]) (2023.5.0)\n",
      "Requirement already satisfied: colorama in c:\\users\\razer\\anaconda3\\envs\\titanoboa\\lib\\site-packages (from tqdm>=4.27->transformers[sentencepiece]) (0.4.6)\n",
      "Requirement already satisfied: charset-normalizer<3,>=2 in c:\\users\\razer\\anaconda3\\envs\\titanoboa\\lib\\site-packages (from requests->transformers[sentencepiece]) (2.0.4)\n",
      "Requirement already satisfied: urllib3<1.27,>=1.21.1 in c:\\users\\razer\\anaconda3\\envs\\titanoboa\\lib\\site-packages (from requests->transformers[sentencepiece]) (1.26.13)\n",
      "Requirement already satisfied: certifi>=2017.4.17 in c:\\users\\razer\\anaconda3\\envs\\titanoboa\\lib\\site-packages (from requests->transformers[sentencepiece]) (2023.5.7)\n",
      "Requirement already satisfied: idna<4,>=2.5 in c:\\users\\razer\\anaconda3\\envs\\titanoboa\\lib\\site-packages (from requests->transformers[sentencepiece]) (3.4)\n",
      "Collecting git+https://github.com/csebuetnlp/normalizer\n",
      "  Cloning https://github.com/csebuetnlp/normalizer to c:\\users\\razer\\appdata\\local\\temp\\pip-req-build-sqkn7_pu\n",
      "  Resolved https://github.com/csebuetnlp/normalizer to commit d80c3c484e1b80268f2b2dfaf7557fe65e34f321\n",
      "  Preparing metadata (setup.py): started\n",
      "  Preparing metadata (setup.py): finished with status 'done'\n",
      "Requirement already satisfied: regex in c:\\users\\razer\\anaconda3\\envs\\titanoboa\\lib\\site-packages (from normalizer==0.0.1) (2023.5.5)\n",
      "Collecting emoji==1.4.2\n",
      "  Using cached emoji-1.4.2.tar.gz (184 kB)\n",
      "  Preparing metadata (setup.py): started\n",
      "  Preparing metadata (setup.py): finished with status 'done'\n",
      "Collecting ftfy==6.0.3\n",
      "  Using cached ftfy-6.0.3.tar.gz (64 kB)\n",
      "  Preparing metadata (setup.py): started\n",
      "  Preparing metadata (setup.py): finished with status 'done'\n",
      "Requirement already satisfied: wcwidth in c:\\users\\razer\\anaconda3\\envs\\titanoboa\\lib\\site-packages (from ftfy==6.0.3->normalizer==0.0.1) (0.2.5)\n",
      "Building wheels for collected packages: normalizer, emoji, ftfy\n",
      "  Building wheel for normalizer (setup.py): started\n",
      "  Building wheel for normalizer (setup.py): finished with status 'done'\n",
      "  Created wheel for normalizer: filename=normalizer-0.0.1-py3-none-any.whl size=6936 sha256=03f03148f61fafa003dccd4dbdcf2c88ad191413c6b473b1b2ef4873ebeccef9\n",
      "  Stored in directory: C:\\Users\\RAZER\\AppData\\Local\\Temp\\pip-ephem-wheel-cache-dwhefexc\\wheels\\50\\bb\\8c\\ac1cb7ca5df3b956b2f1cb661b9c774a71c73f0994c606e9fb\n",
      "  Building wheel for emoji (setup.py): started\n",
      "  Building wheel for emoji (setup.py): finished with status 'done'\n",
      "  Created wheel for emoji: filename=emoji-1.4.2-py3-none-any.whl size=186463 sha256=be7ea753cf6d23068e4b9b4cd72c26a464b64a6f30c26c938fa0a5d514b1b987\n",
      "  Stored in directory: c:\\users\\razer\\appdata\\local\\pip\\cache\\wheels\\5a\\72\\99\\e8a8db35c45340a1b10ea718185855ad47e33d4fce37b9dd89\n",
      "  Building wheel for ftfy (setup.py): started\n",
      "  Building wheel for ftfy (setup.py): finished with status 'done'\n",
      "  Created wheel for ftfy: filename=ftfy-6.0.3-py3-none-any.whl size=41937 sha256=9647d1de5451cb4efc04ba33be07a7c1b6f3ce4aaa1b2400391dc8abf12ad4b6\n",
      "  Stored in directory: c:\\users\\razer\\appdata\\local\\pip\\cache\\wheels\\d6\\a0\\b7\\f5b41dfd0ec902505d1dfb3d3092b11e82bad18686fb67d28e\n",
      "Successfully built normalizer emoji ftfy\n",
      "Installing collected packages: emoji, ftfy, normalizer\n",
      "Successfully installed emoji-1.4.2 ftfy-6.0.3 normalizer-0.0.1\n"
     ]
    },
    {
     "name": "stderr",
     "output_type": "stream",
     "text": [
      "  Running command git clone --filter=blob:none --quiet https://github.com/csebuetnlp/normalizer 'C:\\Users\\RAZER\\AppData\\Local\\Temp\\pip-req-build-sqkn7_pu'\n"
     ]
    },
    {
     "name": "stdout",
     "output_type": "stream",
     "text": [
      "Requirement already satisfied: nltk in c:\\users\\razer\\anaconda3\\envs\\titanoboa\\lib\\site-packages (3.8.1)\n",
      "Requirement already satisfied: click in c:\\users\\razer\\anaconda3\\envs\\titanoboa\\lib\\site-packages (from nltk) (8.0.4)\n",
      "Requirement already satisfied: tqdm in c:\\users\\razer\\anaconda3\\envs\\titanoboa\\lib\\site-packages (from nltk) (4.64.1)\n",
      "Requirement already satisfied: joblib in c:\\users\\razer\\anaconda3\\envs\\titanoboa\\lib\\site-packages (from nltk) (1.2.0)\n",
      "Requirement already satisfied: regex>=2021.8.3 in c:\\users\\razer\\anaconda3\\envs\\titanoboa\\lib\\site-packages (from nltk) (2023.5.5)\n",
      "Requirement already satisfied: colorama in c:\\users\\razer\\anaconda3\\envs\\titanoboa\\lib\\site-packages (from click->nltk) (0.4.6)\n"
     ]
    }
   ],
   "source": [
    "!pip install git\n",
    "!pip install transformers[sentencepiece]\n",
    "!pip install git+https://github.com/csebuetnlp/normalizer\n",
    "!pip install nltk"
   ]
  },
  {
   "cell_type": "code",
   "execution_count": 12,
   "metadata": {
    "id": "k2pbRMNvFuYi"
   },
   "outputs": [
    {
     "name": "stdout",
     "output_type": "stream",
     "text": [
      "Requirement already satisfied: evaluate in c:\\users\\razer\\anaconda3\\envs\\titanoboa\\lib\\site-packages (0.4.0)\n",
      "Requirement already satisfied: numpy>=1.17 in c:\\users\\razer\\anaconda3\\envs\\titanoboa\\lib\\site-packages (from evaluate) (1.23.5)\n",
      "Requirement already satisfied: multiprocess in c:\\users\\razer\\anaconda3\\envs\\titanoboa\\lib\\site-packages (from evaluate) (0.70.14)\n",
      "Requirement already satisfied: huggingface-hub>=0.7.0 in c:\\users\\razer\\anaconda3\\envs\\titanoboa\\lib\\site-packages (from evaluate) (0.14.1)\n",
      "Requirement already satisfied: datasets>=2.0.0 in c:\\users\\razer\\anaconda3\\envs\\titanoboa\\lib\\site-packages (from evaluate) (2.12.0)\n",
      "Requirement already satisfied: responses<0.19 in c:\\users\\razer\\anaconda3\\envs\\titanoboa\\lib\\site-packages (from evaluate) (0.18.0)\n",
      "Requirement already satisfied: requests>=2.19.0 in c:\\users\\razer\\anaconda3\\envs\\titanoboa\\lib\\site-packages (from evaluate) (2.28.1)\n",
      "Requirement already satisfied: pandas in c:\\users\\razer\\anaconda3\\envs\\titanoboa\\lib\\site-packages (from evaluate) (1.5.2)\n",
      "Requirement already satisfied: tqdm>=4.62.1 in c:\\users\\razer\\anaconda3\\envs\\titanoboa\\lib\\site-packages (from evaluate) (4.64.1)\n",
      "Requirement already satisfied: dill in c:\\users\\razer\\anaconda3\\envs\\titanoboa\\lib\\site-packages (from evaluate) (0.3.6)\n",
      "Requirement already satisfied: packaging in c:\\users\\razer\\anaconda3\\envs\\titanoboa\\lib\\site-packages (from evaluate) (22.0)\n",
      "Requirement already satisfied: xxhash in c:\\users\\razer\\anaconda3\\envs\\titanoboa\\lib\\site-packages (from evaluate) (3.2.0)\n",
      "Requirement already satisfied: fsspec[http]>=2021.05.0 in c:\\users\\razer\\anaconda3\\envs\\titanoboa\\lib\\site-packages (from evaluate) (2023.5.0)\n",
      "Requirement already satisfied: aiohttp in c:\\users\\razer\\anaconda3\\envs\\titanoboa\\lib\\site-packages (from datasets>=2.0.0->evaluate) (3.8.3)\n",
      "Requirement already satisfied: pyyaml>=5.1 in c:\\users\\razer\\anaconda3\\envs\\titanoboa\\lib\\site-packages (from datasets>=2.0.0->evaluate) (6.0)\n",
      "Requirement already satisfied: pyarrow>=8.0.0 in c:\\users\\razer\\anaconda3\\envs\\titanoboa\\lib\\site-packages (from datasets>=2.0.0->evaluate) (12.0.0)\n",
      "Requirement already satisfied: filelock in c:\\users\\razer\\anaconda3\\envs\\titanoboa\\lib\\site-packages (from huggingface-hub>=0.7.0->evaluate) (3.9.0)\n",
      "Requirement already satisfied: typing-extensions>=3.7.4.3 in c:\\users\\razer\\anaconda3\\envs\\titanoboa\\lib\\site-packages (from huggingface-hub>=0.7.0->evaluate) (4.4.0)\n",
      "Requirement already satisfied: charset-normalizer<3,>=2 in c:\\users\\razer\\anaconda3\\envs\\titanoboa\\lib\\site-packages (from requests>=2.19.0->evaluate) (2.0.4)\n",
      "Requirement already satisfied: idna<4,>=2.5 in c:\\users\\razer\\anaconda3\\envs\\titanoboa\\lib\\site-packages (from requests>=2.19.0->evaluate) (3.4)\n",
      "Requirement already satisfied: urllib3<1.27,>=1.21.1 in c:\\users\\razer\\anaconda3\\envs\\titanoboa\\lib\\site-packages (from requests>=2.19.0->evaluate) (1.26.13)\n",
      "Requirement already satisfied: certifi>=2017.4.17 in c:\\users\\razer\\anaconda3\\envs\\titanoboa\\lib\\site-packages (from requests>=2.19.0->evaluate) (2023.5.7)\n",
      "Requirement already satisfied: colorama in c:\\users\\razer\\anaconda3\\envs\\titanoboa\\lib\\site-packages (from tqdm>=4.62.1->evaluate) (0.4.6)\n",
      "Requirement already satisfied: pytz>=2020.1 in c:\\users\\razer\\anaconda3\\envs\\titanoboa\\lib\\site-packages (from pandas->evaluate) (2022.7)\n",
      "Requirement already satisfied: python-dateutil>=2.8.1 in c:\\users\\razer\\anaconda3\\envs\\titanoboa\\lib\\site-packages (from pandas->evaluate) (2.8.2)\n",
      "Requirement already satisfied: aiosignal>=1.1.2 in c:\\users\\razer\\anaconda3\\envs\\titanoboa\\lib\\site-packages (from aiohttp->datasets>=2.0.0->evaluate) (1.2.0)\n",
      "Requirement already satisfied: multidict<7.0,>=4.5 in c:\\users\\razer\\anaconda3\\envs\\titanoboa\\lib\\site-packages (from aiohttp->datasets>=2.0.0->evaluate) (6.0.2)\n",
      "Requirement already satisfied: attrs>=17.3.0 in c:\\users\\razer\\anaconda3\\envs\\titanoboa\\lib\\site-packages (from aiohttp->datasets>=2.0.0->evaluate) (22.1.0)\n",
      "Requirement already satisfied: frozenlist>=1.1.1 in c:\\users\\razer\\anaconda3\\envs\\titanoboa\\lib\\site-packages (from aiohttp->datasets>=2.0.0->evaluate) (1.3.3)\n",
      "Requirement already satisfied: async-timeout<5.0,>=4.0.0a3 in c:\\users\\razer\\anaconda3\\envs\\titanoboa\\lib\\site-packages (from aiohttp->datasets>=2.0.0->evaluate) (4.0.2)\n",
      "Requirement already satisfied: yarl<2.0,>=1.0 in c:\\users\\razer\\anaconda3\\envs\\titanoboa\\lib\\site-packages (from aiohttp->datasets>=2.0.0->evaluate) (1.8.1)\n",
      "Requirement already satisfied: six>=1.5 in c:\\users\\razer\\anaconda3\\envs\\titanoboa\\lib\\site-packages (from python-dateutil>=2.8.1->pandas->evaluate) (1.16.0)\n",
      "Requirement already satisfied: bert_score in c:\\users\\razer\\anaconda3\\envs\\titanoboa\\lib\\site-packages (0.3.13)\n",
      "Requirement already satisfied: tqdm>=4.31.1 in c:\\users\\razer\\anaconda3\\envs\\titanoboa\\lib\\site-packages (from bert_score) (4.64.1)\n",
      "Requirement already satisfied: pandas>=1.0.1 in c:\\users\\razer\\anaconda3\\envs\\titanoboa\\lib\\site-packages (from bert_score) (1.5.2)\n",
      "Requirement already satisfied: numpy in c:\\users\\razer\\anaconda3\\envs\\titanoboa\\lib\\site-packages (from bert_score) (1.23.5)\n",
      "Requirement already satisfied: matplotlib in c:\\users\\razer\\anaconda3\\envs\\titanoboa\\lib\\site-packages (from bert_score) (3.6.3)\n",
      "Requirement already satisfied: torch>=1.0.0 in c:\\users\\razer\\anaconda3\\envs\\titanoboa\\lib\\site-packages (from bert_score) (2.0.1)\n",
      "Requirement already satisfied: transformers>=3.0.0 in c:\\users\\razer\\anaconda3\\envs\\titanoboa\\lib\\site-packages (from bert_score) (4.29.1)\n",
      "Requirement already satisfied: requests in c:\\users\\razer\\anaconda3\\envs\\titanoboa\\lib\\site-packages (from bert_score) (2.28.1)\n",
      "Requirement already satisfied: packaging>=20.9 in c:\\users\\razer\\anaconda3\\envs\\titanoboa\\lib\\site-packages (from bert_score) (22.0)\n",
      "Requirement already satisfied: pytz>=2020.1 in c:\\users\\razer\\anaconda3\\envs\\titanoboa\\lib\\site-packages (from pandas>=1.0.1->bert_score) (2022.7)\n",
      "Requirement already satisfied: python-dateutil>=2.8.1 in c:\\users\\razer\\anaconda3\\envs\\titanoboa\\lib\\site-packages (from pandas>=1.0.1->bert_score) (2.8.2)\n",
      "Requirement already satisfied: filelock in c:\\users\\razer\\anaconda3\\envs\\titanoboa\\lib\\site-packages (from torch>=1.0.0->bert_score) (3.9.0)\n",
      "Requirement already satisfied: typing-extensions in c:\\users\\razer\\anaconda3\\envs\\titanoboa\\lib\\site-packages (from torch>=1.0.0->bert_score) (4.4.0)\n",
      "Requirement already satisfied: sympy in c:\\users\\razer\\anaconda3\\envs\\titanoboa\\lib\\site-packages (from torch>=1.0.0->bert_score) (1.11.1)\n",
      "Requirement already satisfied: networkx in c:\\users\\razer\\anaconda3\\envs\\titanoboa\\lib\\site-packages (from torch>=1.0.0->bert_score) (2.8.4)\n",
      "Requirement already satisfied: jinja2 in c:\\users\\razer\\anaconda3\\envs\\titanoboa\\lib\\site-packages (from torch>=1.0.0->bert_score) (3.1.2)\n",
      "Requirement already satisfied: colorama in c:\\users\\razer\\anaconda3\\envs\\titanoboa\\lib\\site-packages (from tqdm>=4.31.1->bert_score) (0.4.6)\n",
      "Requirement already satisfied: pyyaml>=5.1 in c:\\users\\razer\\anaconda3\\envs\\titanoboa\\lib\\site-packages (from transformers>=3.0.0->bert_score) (6.0)\n",
      "Requirement already satisfied: huggingface-hub<1.0,>=0.14.1 in c:\\users\\razer\\anaconda3\\envs\\titanoboa\\lib\\site-packages (from transformers>=3.0.0->bert_score) (0.14.1)\n",
      "Requirement already satisfied: tokenizers!=0.11.3,<0.14,>=0.11.1 in c:\\users\\razer\\anaconda3\\envs\\titanoboa\\lib\\site-packages (from transformers>=3.0.0->bert_score) (0.13.3)\n",
      "Requirement already satisfied: regex!=2019.12.17 in c:\\users\\razer\\anaconda3\\envs\\titanoboa\\lib\\site-packages (from transformers>=3.0.0->bert_score) (2023.5.5)\n",
      "Requirement already satisfied: pyparsing>=2.2.1 in c:\\users\\razer\\anaconda3\\envs\\titanoboa\\lib\\site-packages (from matplotlib->bert_score) (3.0.9)\n",
      "Requirement already satisfied: kiwisolver>=1.0.1 in c:\\users\\razer\\anaconda3\\envs\\titanoboa\\lib\\site-packages (from matplotlib->bert_score) (1.4.4)\n",
      "Requirement already satisfied: fonttools>=4.22.0 in c:\\users\\razer\\anaconda3\\envs\\titanoboa\\lib\\site-packages (from matplotlib->bert_score) (4.38.0)\n",
      "Requirement already satisfied: contourpy>=1.0.1 in c:\\users\\razer\\anaconda3\\envs\\titanoboa\\lib\\site-packages (from matplotlib->bert_score) (1.0.7)\n",
      "Requirement already satisfied: cycler>=0.10 in c:\\users\\razer\\anaconda3\\envs\\titanoboa\\lib\\site-packages (from matplotlib->bert_score) (0.11.0)\n",
      "Requirement already satisfied: pillow>=6.2.0 in c:\\users\\razer\\anaconda3\\envs\\titanoboa\\lib\\site-packages (from matplotlib->bert_score) (9.4.0)\n",
      "Requirement already satisfied: charset-normalizer<3,>=2 in c:\\users\\razer\\anaconda3\\envs\\titanoboa\\lib\\site-packages (from requests->bert_score) (2.0.4)\n",
      "Requirement already satisfied: certifi>=2017.4.17 in c:\\users\\razer\\anaconda3\\envs\\titanoboa\\lib\\site-packages (from requests->bert_score) (2023.5.7)\n",
      "Requirement already satisfied: idna<4,>=2.5 in c:\\users\\razer\\anaconda3\\envs\\titanoboa\\lib\\site-packages (from requests->bert_score) (3.4)\n",
      "Requirement already satisfied: urllib3<1.27,>=1.21.1 in c:\\users\\razer\\anaconda3\\envs\\titanoboa\\lib\\site-packages (from requests->bert_score) (1.26.13)\n",
      "Requirement already satisfied: fsspec in c:\\users\\razer\\anaconda3\\envs\\titanoboa\\lib\\site-packages (from huggingface-hub<1.0,>=0.14.1->transformers>=3.0.0->bert_score) (2023.5.0)\n",
      "Requirement already satisfied: six>=1.5 in c:\\users\\razer\\anaconda3\\envs\\titanoboa\\lib\\site-packages (from python-dateutil>=2.8.1->pandas>=1.0.1->bert_score) (1.16.0)\n",
      "Requirement already satisfied: MarkupSafe>=2.0 in c:\\users\\razer\\anaconda3\\envs\\titanoboa\\lib\\site-packages (from jinja2->torch>=1.0.0->bert_score) (2.1.1)\n",
      "Requirement already satisfied: mpmath>=0.19 in c:\\users\\razer\\anaconda3\\envs\\titanoboa\\lib\\site-packages (from sympy->torch>=1.0.0->bert_score) (1.2.1)\n"
     ]
    }
   ],
   "source": [
    "!pip install evaluate\n",
    "!pip install bert_score\n",
    "from evaluate import load\n",
    "bertscore = load(\"bertscore\")"
   ]
  },
  {
   "cell_type": "code",
   "execution_count": 13,
   "metadata": {
    "colab": {
     "base_uri": "https://localhost:8080/",
     "height": 177,
     "referenced_widgets": [
      "b6849e973a104919a5abc398eab5c86f",
      "7809b53f9eb64529b21b5f9161809887",
      "8f436c14abec427dbebdbe715e5861fc",
      "a7c3ced33d5241308a649e5258ef9379",
      "b1101b3a5ae24ad1b5d61a235b0b5518",
      "53f4c1741bb54248b3d9f6ca995501a3",
      "4bcdabcae5634d7ba5a4d08ddb9346df",
      "f43dc7e4ccd6428789a7465568d91905",
      "b2723344e59444a9aadc79309bc57d35",
      "1b63d86a6a534a33975b0f7de2701aa6",
      "495aa5cb195f405d97263e5f74b4e6a8",
      "dc358c1494c442da971580c7760c7bc6",
      "b1a6f18833cb474a897dae8b836bda5d",
      "5e0788f085c24b6c83bbdcda09426ca9",
      "6cf9934952fd488b9a3a907da805574c",
      "0e731d79bdb74870809ba2afbf94cfb2",
      "d08d5926a4ed44b2ad44ea63528523c8",
      "715c4c4b31be4a02b44bd2c745bb2be1",
      "1c05c5da3ee648c8bd036d41414a84e5",
      "82a0d160928345798694f378fc50f0da",
      "7322a51ffd7b410c903bed83164181e1",
      "b43fe2b775164c3ca294b88411d93501",
      "e854512a28984ddc88e9c35132ef33d5",
      "a315707888ba4bb682594139a0641af5",
      "fb03bd01e7d040ee964e1fce43f27d21",
      "eb262ba1b16f48e29fd29ef56dbdcee9",
      "e8cc6fe37e354eb381ab7d92fc90e332",
      "1318d4bb82d54a799209ca4d4febcb7f",
      "e9ebc193d48e4e13afd1733ab80bd6b3",
      "5911e5f31b754bbf9cb726dffa0e94f3",
      "8a9fd713852a448e85c09f8b76c636f7",
      "d3903bbbcae148199829c0e0eaf00625",
      "ddbbff7c31804d289b40a67fb1480795",
      "de6e786b1f944625b6c843f0e71bf13d",
      "c80373fa72f54bf885074193c70a74ac",
      "aa213584c456461dab8a6fc3c8850117",
      "46c440ab92b34fc2ba2b2485b5980ab3",
      "91afd27413ae4390ac641e43f626ff25",
      "a12b44e0761e47148f091b63238b615a",
      "01e965b1d9494d06aa4c6cb400c3c6bb",
      "96b7036739ce4fdf9bbc01418a7657ad",
      "640e2c5500c449798816e22771da7e81",
      "33cd4975680c46f3ae87778841b53763",
      "f4bcfba2a1a5492cb078ad9b62e38ea9",
      "94963f897ed14b78924bb97b809bc1ec",
      "8b39d24b2a804fd480338b8f42f01686",
      "a9130e16d6ca44bc9eb8659bcab8222d",
      "4d39f6b644344e05a262ae4d23e566b9",
      "88fb2e2c594246349a1792fb25103213",
      "baf8ae0b5bac4343b455eecbdf7e024a",
      "6eb17c4328bb4c5786759dfb6f8506be",
      "4c308317412b43da9d543f50e1c9e92d",
      "f99492779c074f8f9ca8114a37b3d190",
      "dcd8e9898f9d4519b914b7e0e95e5e0d",
      "496e187434d4443aad767a55019ec905"
     ]
    },
    "id": "s0D6T4wlTsmS",
    "outputId": "0918db5d-9bef-4cca-910d-707bd7a9ed66"
   },
   "outputs": [],
   "source": [
    "from transformers import AutoModelForSeq2SeqLM, AutoTokenizer\n",
    "from normalizer import normalize # pip install git+https://github.com/csebuetnlp/normalizer\n",
    "from nltk.translate.bleu_score import sentence_bleu\n",
    "\n",
    "# calling BanglaT5 model\n",
    "model = AutoModelForSeq2SeqLM.from_pretrained(\"csebuetnlp/banglat5\")\n",
    "tokenizer = AutoTokenizer.from_pretrained(\"csebuetnlp/banglat5\", use_fast=False)"
   ]
  },
  {
   "cell_type": "code",
   "execution_count": null,
   "metadata": {
    "colab": {
     "base_uri": "https://localhost:8080/"
    },
    "id": "xlgd96CffVaD",
    "outputId": "f39be65e-201d-4467-da5a-994f7e762e08"
   },
   "outputs": [
    {
     "name": "stdout",
     "output_type": "stream",
     "text": [
      "Mounted at /content/drive\n"
     ]
    }
   ],
   "source": [
    "\"\"\"# Mounting colab with Google Drive\n",
    "\n",
    "from google.colab import drive\n",
    "drive.mount('/content/drive')\"\"\""
   ]
  },
  {
   "cell_type": "code",
   "execution_count": 15,
   "metadata": {
    "id": "r3p9bqtDfxBs"
   },
   "outputs": [],
   "source": [
    "# It it recommended to not change the dataset's files' name\n",
    "\n",
    "# 'base' variable has to store the path to the folder where datasets are uploaded/available\n",
    "# so set the 'base' variable path to the folder of the where you have uploaded the datasets\n",
    "base = 'C:/Users/RAZER/Documents/Sartaj/BQAG'        # sample\n",
    "\n",
    "# 'checkpoint_dir' variable has to store the path to the folder where checkpoints will be saves\n",
    "# IT IS RECOMMENDED TO SET checkpoint_dir SAME AS base\n",
    "# so set the 'checkpoint_dir' variable path to the folder of the where you want the check points to be saved\n",
    "checkpoint_dir = 'C:/Users/RAZER/Documents/Sartaj/BQAG'          #sample\n",
    "#Documents/Sartaj/models\n",
    "# 'train_filename' variable has to store the filename of the Train set\n",
    "# so set the 'train_filename' variable as the name of the Train set's filename\n",
    "train_filename = 'Train.json'        #sample\n",
    "\n",
    "# 'validation_file_name' variable has to store the filename of the Validation set\n",
    "# so set the 'validation_file_name' variable as the name of the validation set's filename\n",
    "validation_file_name = 'Validation.json'     #sample"
   ]
  },
  {
   "cell_type": "code",
   "execution_count": 16,
   "metadata": {
    "colab": {
     "base_uri": "https://localhost:8080/"
    },
    "id": "af6donYTfP1y",
    "outputId": "edf0a4ed-bea4-43e9-e426-59a78b16c1c3"
   },
   "outputs": [
    {
     "data": {
      "text/plain": [
       "dict_keys(['data'])"
      ]
     },
     "execution_count": 16,
     "metadata": {},
     "output_type": "execute_result"
    }
   ],
   "source": [
    "# Loading the Train.json file for train set of BanglaRQA\n",
    "\n",
    "import json\n",
    "import os\n",
    "\n",
    "\n",
    "f = open(os.path.join(base,train_filename))\n",
    "data_test = json.load(f)\n",
    "\n",
    "data_test.keys()\n",
    "  "
   ]
  },
  {
   "cell_type": "code",
   "execution_count": 17,
   "metadata": {
    "colab": {
     "base_uri": "https://localhost:8080/"
    },
    "id": "fuYKmrnwfP1z",
    "outputId": "f973ce9e-7a96-423f-9e0f-19ccf91634e6"
   },
   "outputs": [
    {
     "data": {
      "text/plain": [
       "2400"
      ]
     },
     "execution_count": 17,
     "metadata": {},
     "output_type": "execute_result"
    }
   ],
   "source": [
    "data = data_test['data']\n",
    "len(data)"
   ]
  },
  {
   "cell_type": "code",
   "execution_count": 18,
   "metadata": {
    "colab": {
     "base_uri": "https://localhost:8080/"
    },
    "id": "9vTmb8mVfP10",
    "outputId": "9d5a8dd4-6cd3-4710-be79-6f70c277e0ec"
   },
   "outputs": [
    {
     "data": {
      "text/plain": [
       "{'passage_id': 'bn_wiki_2977',\n",
       " 'context': 'ফাজিল পরীক্ষা বাংলাদেশ ও ভারতের আলিয়া মাদ্রাসায় অনুষ্ঠিত একটি সরকারি পরীক্ষা। ফাজিল পরীক্ষা বাংলাদেশে ডিগ্রি সমমানের, কখনো স্নাতক সমমানের একটি পরীক্ষা, যা একটি ফাজিল মাদ্রাসায় অনুষ্ঠিত হয়ে থাকে। তবে ভারতে ফাজিল পরীক্ষাকে উচ্চ মাধ্যমিক শ্রেণীর (১১ বা ১২ ক্লাস) মান বলে বিবেচিত করা হয়। ফাজিল পরীক্ষা বাংলাদেশ ভারত ও পাকিস্তানের সরকারি স্বীকৃত আলিয়া মাদরাসায় প্রচলিত রয়েছে। বাংলাদেশের ফাজিল পরীক্ষা ইসলামি আরবি বিশ্ববিদ্যালয়ের অধীনে অনুষ্ঠিত হয়ে থাকে ও ভারতের ফাজিল পরীক্ষা পশ্চিমবঙ্গ মাদ্রাসা শিক্ষা পর্ষদের অধীনে অনুষ্ঠিত হয়ে থাকে।\\n\\n১৯৪৭ সালে ঢাকা আলিয়া মাদ্রাসা ঢাকায় স্থানান্তরের পূর্বে বাংলাদেশ ও ভারতের ফাজিল পরীক্ষা কলকাতা আলিয়া মাদ্রাসার অধীনে অনুষ্ঠিত হতো। ফাযিল পরীক্ষা বর্তমানে ইসলামি আরবী বিশ্ববিদ্যালয়ের অধীনে অনুষ্ঠিত হয়। যা পূর্বে মাদরাসা বোর্ড ও ইসলামি বিশ্ববিদ্যালয়ের আধীনে অনুষ্ঠিত হত। মাদ্রাসা-ই-আলিয়া ঢাকায় স্থানান্তরিত হলে ১৯৪৮ সালে মাদ্রাসা বোর্ডের ফাজিলগুলো পরীক্ষা ঢাকা বিশ্ববিদ্যালয় কর্তৃক গৃহীত হতো। ১৯৭৫ সালের কুদরত-এ-খুদা শিক্ষা কমিশনের সুপারিশে মাদ্রাসা বোর্ড নিয়ন্ত্রিত আলিয়া মাদ্রাসাসমূহে জাতীয় শিক্ষাক্রম ও বহুমুখী পাঠ্যসূচি প্রবর্তিত করা হয়। ১৯৮০ সালে অনুষ্ঠিত ফাজিল পরীক্ষায় এই পাঠ্যসুচী কার্যকর হয়। এই শিক্ষা কমিশন অনুসারে ফাজিল শ্রেণীতে ইসলামি শিক্ষার পাশাপাশি সাধারণ পাঠ্যসূচী অন্তর্ভুক্ত করে ফাজিল পরীক্ষাকে সাধারণ উচ্চ মাধ্যমিক এইচ এস সির সমমান ঘোষণা করা হয়।\\n\\n১৯৭৮ সালে অধ্যাপক মুস্তফা বিন কাসিমের নেতৃত্বে সিনিয়র মাদ্রাসা শিক্ষা ব্যবস্থা কমিটি গঠিত হয়। এই কমিটির নির্দেশনায় ১৯৮৪ সালে সাধারণ শিক্ষার স্তরের সঙ্গে বাংলাদেশ মাদ্রাসা বোর্ড নিয়ন্ত্রিত আলিয়া মাদ্রাসা শিক্ষা স্তরের সামঞ্জস্য করা হয়। ফাজিল স্তরকে ২ বছর মেয়াদী কোর্সে উন্নিত করে, মোট ১৬ বছর ব্যাপী আলিয়া মাদ্রাসার পূর্ণাঙ্গ আধুনিক শিক্ষা ব্যবস্থা প্রবর্তন করা হয়। এই কমিশনের মাধ্যমেই সরকার ফাজিল পরীক্ষাকে সাধারণ ডিগ্রি মান ঘোষণা করে।',\n",
       " 'title': 'ফাজিল পরীক্ষা',\n",
       " 'qas': [{'question_id': 'bn_wiki_2977_01',\n",
       "   'question_text': 'ফাজিল পরীক্ষা বাংলাদেশ ও ভারতের আলিয়া মাদ্রাসায় অনুষ্ঠিত একটি সরকারি পরীক্ষা ?',\n",
       "   'is_answerable': '1',\n",
       "   'question_type': 'confirmation',\n",
       "   'answers': {'answer_text': ['হ্যাঁ', 'হ্যাঁ '],\n",
       "    'answer_type': ['yes/no', 'yes/no']}},\n",
       "  {'question_id': 'bn_wiki_2977_02',\n",
       "   'question_text': ' বাংলাদেশের ফাজিল পরীক্ষা ইসলামি আরবি বিশ্ববিদ্যালয়ের অধীনে অনুষ্ঠিত হয়ে থাকে কেন ?',\n",
       "   'is_answerable': '0',\n",
       "   'question_type': 'causal',\n",
       "   'answers': {'answer_text': ['', ''], 'answer_type': ['', '']}},\n",
       "  {'question_id': 'bn_wiki_2977_03',\n",
       "   'question_text': 'কত সালে ঢাকা আলিয়া মাদ্রাসা ঢাকায় স্থানান্তরের পূর্বে বাংলাদেশ ও ভারতের ফাজিল পরীক্ষা কলকাতা আলিয়া মাদ্রাসার অধীনে অনুষ্ঠিত হতো ?',\n",
       "   'is_answerable': '1',\n",
       "   'question_type': 'factoid',\n",
       "   'answers': {'answer_text': ['১৯৪৭', '১৯৪৭'],\n",
       "    'answer_type': ['single span', 'single span']}},\n",
       "  {'question_id': 'bn_wiki_2977_04',\n",
       "   'question_text': 'মাদ্রাসা-ই-আলিয়া ঢাকায় স্থানান্তরিত হলে কত সালে মাদ্রাসা বোর্ডের ফাজিলগুলো পরীক্ষা ঢাকা বিশ্ববিদ্যালয় কর্তৃক গৃহীত হতো ?',\n",
       "   'is_answerable': '1',\n",
       "   'question_type': 'factoid',\n",
       "   'answers': {'answer_text': ['১৯৪৮', '১৯৪৮'],\n",
       "    'answer_type': ['single span', 'single span']}},\n",
       "  {'question_id': 'bn_wiki_2977_05',\n",
       "   'question_text': 'মোট কত বছর ব্যাপী আলিয়া মাদ্রাসার পূর্ণাঙ্গ আধুনিক শিক্ষা ব্যবস্থা প্রবর্তন করা হয় ?',\n",
       "   'is_answerable': '1',\n",
       "   'question_type': 'factoid',\n",
       "   'answers': {'answer_text': ['১৬', '১৬'],\n",
       "    'answer_type': ['single span', 'single span']}}]}"
      ]
     },
     "execution_count": 18,
     "metadata": {},
     "output_type": "execute_result"
    }
   ],
   "source": [
    "data[0]"
   ]
  },
  {
   "cell_type": "code",
   "execution_count": 19,
   "metadata": {
    "id": "yJwu3VU9fP10"
   },
   "outputs": [],
   "source": [
    "context = []\n",
    "question_answer_pairs = []\n",
    "\n",
    "for i in range(len(data)):\n",
    "  for j in range(len(data[i]['qas'])):\n",
    "    context.append('c: ' + normalize(data[i]['context']))\n",
    "    qa = 'q: ' + normalize(data[i]['qas'][j]['question_text'])\n",
    "    qa = qa + ' a: ' + normalize(data[i]['qas'][j]['answers']['answer_text'][0])\n",
    "    question_answer_pairs.append(qa)  \n",
    "    c =  'a: ' + normalize(data[i]['qas'][j]['answers']['answer_text'][0]) + '। c: ' + normalize(data[i]['context'])\n",
    "    context.append(c)\n",
    "    question_answer_pairs.append(normalize('q: ' + data[i]['qas'][j]['question_text']))"
   ]
  },
  {
   "cell_type": "code",
   "execution_count": 20,
   "metadata": {
    "colab": {
     "base_uri": "https://localhost:8080/"
    },
    "id": "Ov0NOLtMfP11",
    "outputId": "63ff99ed-7522-4eb1-ad4a-46c5a095addb"
   },
   "outputs": [
    {
     "name": "stdout",
     "output_type": "stream",
     "text": [
      "23824\n",
      "23824\n"
     ]
    }
   ],
   "source": [
    "print(len(context))\n",
    "print(len(question_answer_pairs))"
   ]
  },
  {
   "cell_type": "code",
   "execution_count": 21,
   "metadata": {
    "id": "fU_OMmyiO1xn"
   },
   "outputs": [],
   "source": [
    "# encoding the inputs and outputs\n",
    "\n",
    "train_encodings = tokenizer(context, max_length=1024, padding=\"max_length\", truncation=True, return_attention_mask=True, add_special_tokens=True, return_tensors=\"pt\")\n",
    "train_answer_encodings = tokenizer(question_answer_pairs, max_length=512, padding=\"max_length\", truncation=True, return_attention_mask=True, add_special_tokens=True, return_tensors=\"pt\")"
   ]
  },
  {
   "cell_type": "code",
   "execution_count": 22,
   "metadata": {
    "id": "eljdsKmjO632"
   },
   "outputs": [],
   "source": [
    "train_answer_encodings = train_answer_encodings['input_ids']\n",
    "train_answer_encodings[train_answer_encodings==0] = -100"
   ]
  },
  {
   "cell_type": "code",
   "execution_count": 23,
   "metadata": {
    "id": "GJrek8jAWD2S"
   },
   "outputs": [],
   "source": [
    "train_encodings.update({'train_answer_encodings': train_answer_encodings})"
   ]
  },
  {
   "cell_type": "code",
   "execution_count": 24,
   "metadata": {
    "colab": {
     "base_uri": "https://localhost:8080/"
    },
    "id": "i86i2JKE4ER9",
    "outputId": "482f883d-26ec-4bbf-cb3c-2852cba00f32"
   },
   "outputs": [
    {
     "data": {
      "text/plain": [
       "{'input_ids': tensor([[ 2636,    71, 19351,  ...,     0,     0,     0],\n",
       "        [  559,    71,   512,  ...,     0,     0,     0],\n",
       "        [ 2636,    71, 19351,  ...,     0,     0,     0],\n",
       "        ...,\n",
       "        [  559,    71,    31,  ...,     0,     0,     0],\n",
       "        [ 2636,    71, 15544,  ...,     0,     0,     0],\n",
       "        [  559,    71,    31,  ...,     0,     0,     0]]), 'attention_mask': tensor([[1, 1, 1,  ..., 0, 0, 0],\n",
       "        [1, 1, 1,  ..., 0, 0, 0],\n",
       "        [1, 1, 1,  ..., 0, 0, 0],\n",
       "        ...,\n",
       "        [1, 1, 1,  ..., 0, 0, 0],\n",
       "        [1, 1, 1,  ..., 0, 0, 0],\n",
       "        [1, 1, 1,  ..., 0, 0, 0]]), 'train_answer_encodings': tensor([[  20, 5125,   71,  ..., -100, -100, -100],\n",
       "        [  20, 5125,   71,  ..., -100, -100, -100],\n",
       "        [  20, 5125,   71,  ..., -100, -100, -100],\n",
       "        ...,\n",
       "        [  20, 5125,   71,  ..., -100, -100, -100],\n",
       "        [  20, 5125,   71,  ..., -100, -100, -100],\n",
       "        [  20, 5125,   71,  ..., -100, -100, -100]])}"
      ]
     },
     "execution_count": 24,
     "metadata": {},
     "output_type": "execute_result"
    }
   ],
   "source": [
    "train_encodings"
   ]
  },
  {
   "cell_type": "code",
   "execution_count": 25,
   "metadata": {
    "colab": {
     "base_uri": "https://localhost:8080/",
     "height": 36
    },
    "id": "xeifNjaw6waP",
    "outputId": "5443de10-9117-4bb4-b831-b6b54b8e620f"
   },
   "outputs": [
    {
     "data": {
      "text/plain": [
       "dict_keys(['data'])"
      ]
     },
     "execution_count": 25,
     "metadata": {},
     "output_type": "execute_result"
    }
   ],
   "source": [
    "# Loading the validation set of BanglaRQA\n",
    "import json\n",
    "import os\n",
    "\n",
    "f_val = open(os.path.join(base,validation_file_name))\n",
    "  \n",
    "data_val = json.load(f_val)\n",
    "\n",
    "data_val.keys()"
   ]
  },
  {
   "cell_type": "code",
   "execution_count": 26,
   "metadata": {
    "id": "ezRSAOGB7Cpk"
   },
   "outputs": [],
   "source": [
    "data_val = data_val['data']"
   ]
  },
  {
   "cell_type": "code",
   "execution_count": 27,
   "metadata": {
    "colab": {
     "base_uri": "https://localhost:8080/",
     "height": 53
    },
    "id": "qBJ9TEED6Z-g",
    "outputId": "881afdb8-566e-4bbd-fd68-5d99a99914e6"
   },
   "outputs": [],
   "source": [
    "context_val = []\n",
    "question_answer_pairs_val = []\n",
    "\n",
    "for i in range(len(data_val)):\n",
    "    for j in range(len(data_val[i]['qas'])):\n",
    "        c =  'a: ' + normalize(data_val[i]['qas'][j]['answers']['answer_text'][0]) + '। c: ' + normalize(data_val[i]['context'])\n",
    "        context_val.append(c)\n",
    "        question_answer_pairs_val.append(normalize(data_val[i]['qas'][j]['question_text']))"
   ]
  },
  {
   "cell_type": "code",
   "execution_count": 28,
   "metadata": {
    "id": "iQ3zw34p7Q_R"
   },
   "outputs": [
    {
     "data": {
      "text/plain": [
       "'a: ল্যুভর জাদুঘরে। c: আস্যাইরিয়ান ও ব্যাবলিয়ান সাহিত্যে সরগন তার অবনমিত অবস্থান থেকে ক্ষমতায় উত্থান ও মেসোপটেমিয়া অভিযানের জন্য কিংবদন্তি গল্পের মুল উপজীব্যে পরিনত হয়েছিলেন, এরকম আরও কিছু কিছু আংশিক কিংবদন্তী উপাখ্যান ছাড়াও সারগনের খোদ নিজের অনেক লিপি আছে যদিও তার বেশিরভাগ পরবর্তী সংস্করনগুলি থেকে নেওয়া। ল্যুভর জাদুঘরে দুটি সারগনিক বিজয় ফলক এর অংশবিশেষ আছে যা সুসা (যেখানে এগুলি খুব সম্ভবত মেসোপটেমিয়া ত্থেকে দ্বাদশ শতাব্দীতে স্থানান্তরিত করা হয়েছিল) থেকে পুনঃউদ্ধার করা হয়েছিল। দৃশ্যত সরগন সেমেটিক (আক্কাদীয়ান) ভাষার লিপির লিখিত আকারে প্রসার ঘটিয়েছিলেন, তিনি আক্কাদ শহর প্রতিষ্ঠিত করার প্রথমদিকে নিজেকে প্রায়শয়ই আক্কাদীয়ান রাজা হিসিবে প্রচার করতেন, পরে তিনি কোন এক সময় কিস শহর অধিগ্রহণ করে নেন, পরবর্তীতে মেসোপটেমিয়ার বৃহদাংশও দখল করে নেন, এবং ক্রমে ক্রমে \"সরগন, আক্কদীয়ান রাজা, ইনান্নার তত্ত্বাবধায়ক, কিস এর রাজা, আনুর স্থলাভিষিক্ত, রাজ্যের[মেসোপটেমিয়া] রাজা, এনলিলের রাজ্যপাল[এনসি]\" নামে নিজেকে প্রচার করে ছিলেন। যদিও সুমেরিয়ান রাজাদের তালিকার অনেক অনুলিপিতে সারগনের শাসনকাল ৫৬, ৫৫ বা ৫৪ বছর বলা হয়েছে, কিন্তু তারিখ সংবলিত নথি অনুযায়ী তার আসল শাসনকালের শুধুমাত্র ৪ টি ভিন্ন ভিন্ন বছরের উল্লেখ পাওয়া যায়, এই চার শাসন-বছরে তিনি এলাম, মারি, সিমুররাম(একটি হুঋয়ান অঞ্চল) এবং উরুয়ার (একটি এলামিটে নগররাষ্ট্র) বিরুদ্ধে অভিযান পরিচালনা করেন বলে বিবরন পাওয়া যায়। সারগনের শাসনামলে, কীলকাকার লিপির জন্য পূর্ব সেমেটিক ভাষাকে প্রমিতকরণ ও স্বীকৃতকরণ করা হয়েছিল, যা পূর্বে সুমেরিয়ান ভাষার সাথে ব্যবহৃত হত এবং বর্তমানের \\'আক্কাদীয়ান ভাষা\\' হিসেবে প্রচলিত।মাটির ফলক ও স্তম্ভে, পুরাণ এবং ধর্মীয় আচার-অনুষ্ঠানের দৃশ্য প্রথিত করার এক শিল্পস্বরুপহস্তলিপি (ক্যালিগ্রাফি) এই সময়ে বিকশিত হয়েছিল।'"
      ]
     },
     "execution_count": 28,
     "metadata": {},
     "output_type": "execute_result"
    }
   ],
   "source": [
    "context_val[0]"
   ]
  },
  {
   "cell_type": "code",
   "execution_count": 29,
   "metadata": {
    "id": "-wk2wVqjCXpe"
   },
   "outputs": [
    {
     "data": {
      "text/plain": [
       "'কোন জাদুঘরে সারগনিক বিজয় ফলক আছে?'"
      ]
     },
     "execution_count": 29,
     "metadata": {},
     "output_type": "execute_result"
    }
   ],
   "source": [
    "question_answer_pairs_val[0]"
   ]
  },
  {
   "cell_type": "code",
   "execution_count": 30,
   "metadata": {
    "id": "h6PGmcol7cOD"
   },
   "outputs": [],
   "source": [
    "import numpy\n",
    "\n",
    "def get_question_answer(context):\n",
    "      source_encoding=tokenizer(\n",
    "        context,\n",
    "        max_length=1024,\n",
    "        padding=\"max_length\",\n",
    "        truncation=True,\n",
    "        return_attention_mask=True,\n",
    "        add_special_tokens=True,\n",
    "        return_tensors=\"pt\").to(device)\n",
    "\n",
    "      #print(source_encoding)\n",
    "\n",
    "      generated_ids=model.generate(\n",
    "          input_ids=source_encoding[\"input_ids\"],\n",
    "          attention_mask=source_encoding[\"attention_mask\"],\n",
    "          num_beams = 1,\n",
    "          max_length=512,\n",
    "          repetition_penalty=2.5,\n",
    "          length_penalty=1.0,\n",
    "          early_stopping= True,\n",
    "          use_cache = True,\n",
    "      )\n",
    "\n",
    "    #print(generated_ids)\n",
    "\n",
    "      preds=[tokenizer.decode(gen_id, skip_special_tokens=True, clean_up_tokenization_spaces=True) for gen_id in generated_ids]\n",
    "\n",
    "      #return \"\".join(preds), generated_ids\n",
    "      return \"\".join(preds)"
   ]
  },
  {
   "cell_type": "code",
   "execution_count": 31,
   "metadata": {
    "id": "9I73spC1VZSo"
   },
   "outputs": [],
   "source": [
    "import torch\n",
    "\n",
    "class BanglaRQADataset(torch.utils.data.Dataset):\n",
    "    def __init__(self, encodings):\n",
    "        self.encodings = encodings\n",
    "\n",
    "    def __getitem__(self, idx):\n",
    "        return {key: torch.tensor(val[idx]) for key, val in self.encodings.items()}\n",
    "\n",
    "    def __len__(self):\n",
    "        return len(self.encodings.input_ids)\n",
    "\n",
    "# build datasets for both our training and validation sets\n",
    "train_dataset = BanglaRQADataset(train_encodings)"
   ]
  },
  {
   "cell_type": "code",
   "execution_count": null,
   "metadata": {},
   "outputs": [],
   "source": []
  },
  {
   "cell_type": "code",
   "execution_count": 32,
   "metadata": {},
   "outputs": [
    {
     "data": {
      "text/plain": [
       "True"
      ]
     },
     "execution_count": 32,
     "metadata": {},
     "output_type": "execute_result"
    }
   ],
   "source": [
    "from torch.utils.data import DataLoader\n",
    "torch.cuda.is_available()\n"
   ]
  },
  {
   "cell_type": "code",
   "execution_count": 33,
   "metadata": {
    "colab": {
     "base_uri": "https://localhost:8080/"
    },
    "id": "-fYTN2eJPFv0",
    "outputId": "2ebf5ced-86ff-4773-ae2b-2cc9c9995386"
   },
   "outputs": [
    {
     "name": "stderr",
     "output_type": "stream",
     "text": [
      "C:\\Users\\RAZER\\anaconda3\\envs\\TitanoBoa\\lib\\site-packages\\transformers\\optimization.py:407: FutureWarning: This implementation of AdamW is deprecated and will be removed in a future version. Use the PyTorch implementation torch.optim.AdamW instead, or set `no_deprecation_warning=True` to disable this warning\n",
      "  warnings.warn(\n",
      "  0%|          | 0/11912 [00:00<?, ?it/s]C:\\Users\\RAZER\\AppData\\Local\\Temp\\ipykernel_20088\\4134177422.py:8: UserWarning: To copy construct from a tensor, it is recommended to use sourceTensor.clone().detach() or sourceTensor.clone().detach().requires_grad_(True), rather than torch.tensor(sourceTensor).\n",
      "  return {key: torch.tensor(val[idx]) for key, val in self.encodings.items()}\n",
      "Epoch 0: 100%|██████████| 11912/11912 [2:12:32<00:00,  1.50it/s, loss=1.84]    \n"
     ]
    },
    {
     "data": {
      "application/vnd.jupyter.widget-view+json": {
       "model_id": "e08849274ecf4c81b3f11ec104777b11",
       "version_major": 2,
       "version_minor": 0
      },
      "text/plain": [
       "Downloading (…)okenizer_config.json:   0%|          | 0.00/29.0 [00:00<?, ?B/s]"
      ]
     },
     "metadata": {},
     "output_type": "display_data"
    },
    {
     "name": "stderr",
     "output_type": "stream",
     "text": [
      "C:\\Users\\RAZER\\anaconda3\\envs\\TitanoBoa\\lib\\site-packages\\huggingface_hub\\file_download.py:133: UserWarning: `huggingface_hub` cache-system uses symlinks by default to efficiently store duplicated files but your machine does not support them in C:\\Users\\RAZER\\.cache\\huggingface\\hub. Caching files will still work but in a degraded version that might require more space on your disk. This warning can be disabled by setting the `HF_HUB_DISABLE_SYMLINKS_WARNING` environment variable. For more details, see https://huggingface.co/docs/huggingface_hub/how-to-cache#limitations.\n",
      "To support symlinks on Windows, you either need to activate Developer Mode or to run Python as an administrator. In order to see activate developer mode, see this article: https://docs.microsoft.com/en-us/windows/apps/get-started/enable-your-device-for-development\n",
      "  warnings.warn(message)\n"
     ]
    },
    {
     "data": {
      "application/vnd.jupyter.widget-view+json": {
       "model_id": "462c31baf50548688c7be77417392758",
       "version_major": 2,
       "version_minor": 0
      },
      "text/plain": [
       "Downloading (…)lve/main/config.json:   0%|          | 0.00/625 [00:00<?, ?B/s]"
      ]
     },
     "metadata": {},
     "output_type": "display_data"
    },
    {
     "data": {
      "application/vnd.jupyter.widget-view+json": {
       "model_id": "b2270dc751924bcabad1309f67e2f334",
       "version_major": 2,
       "version_minor": 0
      },
      "text/plain": [
       "Downloading (…)solve/main/vocab.txt:   0%|          | 0.00/996k [00:00<?, ?B/s]"
      ]
     },
     "metadata": {},
     "output_type": "display_data"
    },
    {
     "data": {
      "application/vnd.jupyter.widget-view+json": {
       "model_id": "472cc692f98147fb9255ff7da3ba13f7",
       "version_major": 2,
       "version_minor": 0
      },
      "text/plain": [
       "Downloading pytorch_model.bin:   0%|          | 0.00/714M [00:00<?, ?B/s]"
      ]
     },
     "metadata": {},
     "output_type": "display_data"
    },
    {
     "name": "stderr",
     "output_type": "stream",
     "text": [
      "C:\\Users\\RAZER\\anaconda3\\envs\\TitanoBoa\\lib\\site-packages\\nltk\\translate\\bleu_score.py:552: UserWarning: \n",
      "The hypothesis contains 0 counts of 4-gram overlaps.\n",
      "Therefore the BLEU score evaluates to 0, independently of\n",
      "how many N-gram overlaps of lower order it contains.\n",
      "Consider using lower n-gram order or use SmoothingFunction()\n",
      "  warnings.warn(_msg)\n",
      "C:\\Users\\RAZER\\anaconda3\\envs\\TitanoBoa\\lib\\site-packages\\nltk\\translate\\bleu_score.py:552: UserWarning: \n",
      "The hypothesis contains 0 counts of 3-gram overlaps.\n",
      "Therefore the BLEU score evaluates to 0, independently of\n",
      "how many N-gram overlaps of lower order it contains.\n",
      "Consider using lower n-gram order or use SmoothingFunction()\n",
      "  warnings.warn(_msg)\n",
      "C:\\Users\\RAZER\\anaconda3\\envs\\TitanoBoa\\lib\\site-packages\\nltk\\translate\\bleu_score.py:552: UserWarning: \n",
      "The hypothesis contains 0 counts of 2-gram overlaps.\n",
      "Therefore the BLEU score evaluates to 0, independently of\n",
      "how many N-gram overlaps of lower order it contains.\n",
      "Consider using lower n-gram order or use SmoothingFunction()\n",
      "  warnings.warn(_msg)\n"
     ]
    },
    {
     "name": "stdout",
     "output_type": "stream",
     "text": [
      "Epoch 0\n",
      "BertScore Precision:  0.7640235311580155\n",
      "BertScore Recall:  0.7567409209886973\n",
      "BertScore F1:  0.7591963957824476\n",
      "BleuScore:  0.02189958547082304\n",
      "\n"
     ]
    },
    {
     "name": "stderr",
     "output_type": "stream",
     "text": [
      "Epoch 1: 100%|██████████| 11912/11912 [1:59:27<00:00,  1.66it/s, loss=1.95]  \n"
     ]
    },
    {
     "name": "stdout",
     "output_type": "stream",
     "text": [
      "Epoch 1\n",
      "BertScore Precision:  0.6955376744993292\n",
      "BertScore Recall:  0.6051940593436722\n",
      "BertScore F1:  0.6449110510374979\n",
      "BleuScore:  0.020744848667236065\n",
      "\n"
     ]
    },
    {
     "name": "stderr",
     "output_type": "stream",
     "text": [
      "Epoch 2: 100%|██████████| 11912/11912 [3:02:09<00:00,  1.09it/s, loss=1.21]     \n"
     ]
    },
    {
     "name": "stdout",
     "output_type": "stream",
     "text": [
      "Epoch 2\n",
      "BertScore Precision:  0.828305996572875\n",
      "BertScore Recall:  0.819696071776097\n",
      "BertScore F1:  0.8229060702407457\n",
      "BleuScore:  0.138160941269445\n",
      "\n"
     ]
    },
    {
     "name": "stderr",
     "output_type": "stream",
     "text": [
      "Epoch 3: 100%|██████████| 11912/11912 [2:01:00<00:00,  1.64it/s, loss=0.939] \n"
     ]
    },
    {
     "name": "stdout",
     "output_type": "stream",
     "text": [
      "Epoch 3\n",
      "BertScore Precision:  0.8334449836105671\n",
      "BertScore Recall:  0.817257356852534\n",
      "BertScore F1:  0.8241720313653149\n",
      "BleuScore:  0.14387412948100164\n",
      "\n"
     ]
    },
    {
     "name": "stderr",
     "output_type": "stream",
     "text": [
      "Epoch 4: 100%|██████████| 11912/11912 [2:00:38<00:00,  1.65it/s, loss=0.973] \n"
     ]
    },
    {
     "name": "stdout",
     "output_type": "stream",
     "text": [
      "Epoch 4\n",
      "BertScore Precision:  0.8408153347891939\n",
      "BertScore Recall:  0.8380934121714769\n",
      "BertScore F1:  0.8384225477748162\n",
      "BleuScore:  0.1746983267766148\n",
      "\n"
     ]
    },
    {
     "name": "stderr",
     "output_type": "stream",
     "text": [
      "Epoch 5: 100%|██████████| 11912/11912 [3:04:09<00:00,  1.08it/s, loss=0.484]    \n"
     ]
    },
    {
     "name": "stdout",
     "output_type": "stream",
     "text": [
      "Epoch 5\n",
      "BertScore Precision:  0.8490222724219859\n",
      "BertScore Recall:  0.8432057593871319\n",
      "BertScore F1:  0.8451448621132945\n",
      "BleuScore:  0.19526170656402006\n",
      "\n"
     ]
    },
    {
     "name": "stderr",
     "output_type": "stream",
     "text": [
      "Epoch 6: 100%|██████████| 11912/11912 [5:06:48<00:00,  1.55s/it, loss=0.328]      \n"
     ]
    },
    {
     "name": "stdout",
     "output_type": "stream",
     "text": [
      "Epoch 6\n",
      "BertScore Precision:  0.8483976100814953\n",
      "BertScore Recall:  0.8441624723354761\n",
      "BertScore F1:  0.8453487221683774\n",
      "BleuScore:  0.19999761644155506\n",
      "\n"
     ]
    },
    {
     "name": "stderr",
     "output_type": "stream",
     "text": [
      "Epoch 7: 100%|██████████| 11912/11912 [2:00:07<00:00,  1.65it/s, loss=0.834] \n"
     ]
    },
    {
     "name": "stdout",
     "output_type": "stream",
     "text": [
      "Epoch 7\n",
      "BertScore Precision:  0.8500207103487616\n",
      "BertScore Recall:  0.8496024167200305\n",
      "BertScore F1:  0.848870311785901\n",
      "BleuScore:  0.21457117186159105\n",
      "\n"
     ]
    },
    {
     "name": "stderr",
     "output_type": "stream",
     "text": [
      "Epoch 8: 100%|██████████| 11912/11912 [2:00:16<00:00,  1.65it/s, loss=0.554]  \n"
     ]
    },
    {
     "name": "stdout",
     "output_type": "stream",
     "text": [
      "Epoch 8\n",
      "BertScore Precision:  0.8501621330523427\n",
      "BertScore Recall:  0.8456776863882806\n",
      "BertScore F1:  0.846993457596257\n",
      "BleuScore:  0.19982942614360097\n",
      "\n"
     ]
    },
    {
     "name": "stderr",
     "output_type": "stream",
     "text": [
      "Epoch 9: 100%|██████████| 11912/11912 [2:00:22<00:00,  1.65it/s, loss=0.325] \n"
     ]
    },
    {
     "name": "stdout",
     "output_type": "stream",
     "text": [
      "Epoch 9\n",
      "BertScore Precision:  0.8531638409972512\n",
      "BertScore Recall:  0.8494068395416692\n",
      "BertScore F1:  0.8504153253897181\n",
      "BleuScore:  0.2107640185814615\n",
      "\n"
     ]
    }
   ],
   "source": [
    "# Training part \n",
    "# no of epoch = 15\n",
    "# opimizer = Adam\n",
    "# at every epoch EM and F1 scores were calculated on validation set of BanglaRQA\n",
    "# at every epoch model was also saved\n",
    "\n",
    "\n",
    "from torch.utils.data import DataLoader\n",
    "from transformers import AdamW\n",
    "from tqdm import tqdm\n",
    "\n",
    "# setup GPU/CPU\n",
    "device = torch.device('cuda') if torch.cuda.is_available() else torch.device('cpu')\n",
    "# move model over to detected device\n",
    "model.to(device)\n",
    "# activate training mode of model\n",
    "model.train()\n",
    "# initialize adam optimizer with weight decay (reduces chance of overfitting)\n",
    "optim = AdamW(model.parameters(), lr=5e-5)\n",
    "\n",
    "# initialize data loader for training data\n",
    "train_loader = DataLoader(train_dataset, batch_size=2, shuffle=True)\n",
    "\n",
    "for epoch in range(10):\n",
    "    # set model to train mode\n",
    "    model.train()\n",
    "    model_name = 'model_weights_epoch_' + str(epoch) + '.pth'\n",
    "    # setup loop (we use tqdm for the progress bar)\n",
    "    loop = tqdm(train_loader, leave=True)\n",
    "    for batch in loop:\n",
    "        # initialize calculated gradients (from prev step)\n",
    "        \n",
    "        \n",
    "\n",
    "        optim.zero_grad()\n",
    "        # pull all the tensor batches required for training\n",
    "        input_ids = batch['input_ids'].to(device)\n",
    "        attention_mask = batch['attention_mask'].to(device)\n",
    "        labels = batch['train_answer_encodings'].to(device)\n",
    "        outputs = model(input_ids=input_ids, \n",
    "                          attention_mask=attention_mask, \n",
    "                            labels = labels)\n",
    "        \n",
    "        # extract loss\n",
    "        loss = outputs[0]\n",
    "        # calculate loss for every parameter that needs grad update \n",
    "        loss.backward()\n",
    "        # update parameters\n",
    "        optim.step()\n",
    "        # print relevant info to progress bar\n",
    "        loop.set_description(f'Epoch {epoch}')\n",
    "        loop.set_postfix(loss=loss.item())\n",
    "    torch.save({\n",
    "        'epoch': epoch,\n",
    "        'model_state_dict': model.state_dict(),\n",
    "        'optimizer_state_dict': optim.state_dict(),\n",
    "        'loss': loss,\n",
    "        \n",
    "        }, os.path.join(checkpoint_dir,model_name))\n",
    "    \n",
    "    optim.zero_grad()\n",
    "    model.eval()\n",
    "\n",
    "    bertscore_f1_total = 0.0\n",
    "    bertscore_precision_total = 0.0\n",
    "    bertscore_recall_total = 0.0\n",
    "\n",
    "    bleu_total = 0.0\n",
    "\n",
    "    with torch.no_grad():\n",
    "      l = len(context_val)\n",
    "      for i in range(l):\n",
    "          pred = get_question_answer(context_val[i])\n",
    "          pred = pred.replace(\"q: \", \"\")\n",
    "\n",
    "          results = bertscore.compute(predictions=[pred], references=[question_answer_pairs_val[i]], lang=\"bn\")\n",
    "          bertscore_precision_total = bertscore_precision_total + results['precision'][0]\n",
    "          bertscore_recall_total = bertscore_recall_total + results['recall'][0]\n",
    "          bertscore_f1_total = bertscore_f1_total + results['f1'][0]\n",
    "\n",
    "          reference = [question_answer_pairs_val[i].split()]\n",
    "          candidate = pred.split()\n",
    "          bleu_total = bleu_total + sentence_bleu(reference, candidate)\n",
    "\n",
    "      print(\"Epoch\", epoch)\n",
    "      print('BertScore Precision: ', bertscore_precision_total/l)\n",
    "      print('BertScore Recall: ', bertscore_recall_total/l)\n",
    "      print('BertScore F1: ', bertscore_f1_total/l)\n",
    "      print('BleuScore: ', bleu_total/l)\n",
    "      print()"
   ]
  },
  {
   "cell_type": "code",
   "execution_count": 34,
   "metadata": {
    "colab": {
     "base_uri": "https://localhost:8080/",
     "height": 105
    },
    "id": "UJeRynuRdpcS",
    "outputId": "2bc93999-6fc3-4f99-d790-200dbce553eb"
   },
   "outputs": [
    {
     "name": "stdout",
     "output_type": "stream",
     "text": [
      "c: ফাজিল পরীক্ষা বাংলাদেশ ও ভারতের আলিয়া মাদ্রাসায় অনুষ্ঠিত একটি সরকারি পরীক্ষা। ফাজিল পরীক্ষা বাংলাদেশে ডিগ্রি সমমানের, কখনো স্নাতক সমমানের একটি পরীক্ষা, যা একটি ফাজিল মাদ্রাসায় অনুষ্ঠিত হয়ে থাকে। তবে ভারতে ফাজিল পরীক্ষাকে উচ্চ মাধ্যমিক শ্রেণীর (১১ বা ১২ ক্লাস) মান বলে বিবেচিত করা হয়। ফাজিল পরীক্ষা বাংলাদেশ ভারত ও পাকিস্তানের সরকারি স্বীকৃত আলিয়া মাদরাসায় প্রচলিত রয়েছে। বাংলাদেশের ফাজিল পরীক্ষা ইসলামি আরবি বিশ্ববিদ্যালয়ের অধীনে অনুষ্ঠিত হয়ে থাকে ও ভারতের ফাজিল পরীক্ষা পশ্চিমবঙ্গ মাদ্রাসা শিক্ষা পর্ষদের অধীনে অনুষ্ঠিত হয়ে থাকে। ১৯৪৭ সালে ঢাকা আলিয়া মাদ্রাসা ঢাকায় স্থানান্তরের পূর্বে বাংলাদেশ ও ভারতের ফাজিল পরীক্ষা কলকাতা আলিয়া মাদ্রাসার অধীনে অনুষ্ঠিত হতো। ফাযিল পরীক্ষা বর্তমানে ইসলামি আরবী বিশ্ববিদ্যালয়ের অধীনে অনুষ্ঠিত হয়। যা পূর্বে মাদরাসা বোর্ড ও ইসলামি বিশ্ববিদ্যালয়ের আধীনে অনুষ্ঠিত হত। মাদ্রাসা-ই-আলিয়া ঢাকায় স্থানান্তরিত হলে ১৯৪৮ সালে মাদ্রাসা বোর্ডের ফাজিলগুলো পরীক্ষা ঢাকা বিশ্ববিদ্যালয় কর্তৃক গৃহীত হতো। ১৯৭৫ সালের কুদরত-এ-খুদা শিক্ষা কমিশনের সুপারিশে মাদ্রাসা বোর্ড নিয়ন্ত্রিত আলিয়া মাদ্রাসাসমূহে জাতীয় শিক্ষাক্রম ও বহুমুখী পাঠ্যসূচি প্রবর্তিত করা হয়। ১৯৮০ সালে অনুষ্ঠিত ফাজিল পরীক্ষায় এই পাঠ্যসুচী কার্যকর হয়। এই শিক্ষা কমিশন অনুসারে ফাজিল শ্রেণীতে ইসলামি শিক্ষার পাশাপাশি সাধারণ পাঠ্যসূচী অন্তর্ভুক্ত করে ফাজিল পরীক্ষাকে সাধারণ উচ্চ মাধ্যমিক এইচ এস সির সমমান ঘোষণা করা হয়। ১৯৭৮ সালে অধ্যাপক মুস্তফা বিন কাসিমের নেতৃত্বে সিনিয়র মাদ্রাসা শিক্ষা ব্যবস্থা কমিটি গঠিত হয়। এই কমিটির নির্দেশনায় ১৯৮৪ সালে সাধারণ শিক্ষার স্তরের সঙ্গে বাংলাদেশ মাদ্রাসা বোর্ড নিয়ন্ত্রিত আলিয়া মাদ্রাসা শিক্ষা স্তরের সামঞ্জস্য করা হয়। ফাজিল স্তরকে ২ বছর মেয়াদী কোর্সে উন্নিত করে, মোট ১৬ বছর ব্যাপী আলিয়া মাদ্রাসার পূর্ণাঙ্গ আধুনিক শিক্ষা ব্যবস্থা প্রবর্তন করা হয়। এই কমিশনের মাধ্যমেই সরকার ফাজিল পরীক্ষাকে সাধারণ ডিগ্রি মান ঘোষণা করে।\n",
      "q: ফাজিল পরীক্ষা বাংলাদেশ ও ভারতের আলিয়া মাদ্রাসায় অনুষ্ঠিত একটি সরকারি পরীক্ষা ? a: হ্যাঁ\n",
      "q: ফাজিল পরীক্ষা বাংলাদেশ ও ভারতের আলিয়া মাদ্রাসায় অনুষ্ঠিত একটি সরকারি পরীক্ষা? a: হ্যাঁ\n"
     ]
    }
   ],
   "source": [
    "print(context[0])\n",
    "print(question_answer_pairs[0])\n",
    "print(get_question_answer(context[0]))"
   ]
  },
  {
   "cell_type": "code",
   "execution_count": 35,
   "metadata": {
    "colab": {
     "base_uri": "https://localhost:8080/",
     "height": 105
    },
    "id": "H8gOjqF1hhEL",
    "outputId": "1d17b739-a5c1-4652-a74c-05f3e1a1d276"
   },
   "outputs": [
    {
     "name": "stdout",
     "output_type": "stream",
     "text": [
      "a: হ্যাঁ। c: ফাজিল পরীক্ষা বাংলাদেশ ও ভারতের আলিয়া মাদ্রাসায় অনুষ্ঠিত একটি সরকারি পরীক্ষা। ফাজিল পরীক্ষা বাংলাদেশে ডিগ্রি সমমানের, কখনো স্নাতক সমমানের একটি পরীক্ষা, যা একটি ফাজিল মাদ্রাসায় অনুষ্ঠিত হয়ে থাকে। তবে ভারতে ফাজিল পরীক্ষাকে উচ্চ মাধ্যমিক শ্রেণীর (১১ বা ১২ ক্লাস) মান বলে বিবেচিত করা হয়। ফাজিল পরীক্ষা বাংলাদেশ ভারত ও পাকিস্তানের সরকারি স্বীকৃত আলিয়া মাদরাসায় প্রচলিত রয়েছে। বাংলাদেশের ফাজিল পরীক্ষা ইসলামি আরবি বিশ্ববিদ্যালয়ের অধীনে অনুষ্ঠিত হয়ে থাকে ও ভারতের ফাজিল পরীক্ষা পশ্চিমবঙ্গ মাদ্রাসা শিক্ষা পর্ষদের অধীনে অনুষ্ঠিত হয়ে থাকে। ১৯৪৭ সালে ঢাকা আলিয়া মাদ্রাসা ঢাকায় স্থানান্তরের পূর্বে বাংলাদেশ ও ভারতের ফাজিল পরীক্ষা কলকাতা আলিয়া মাদ্রাসার অধীনে অনুষ্ঠিত হতো। ফাযিল পরীক্ষা বর্তমানে ইসলামি আরবী বিশ্ববিদ্যালয়ের অধীনে অনুষ্ঠিত হয়। যা পূর্বে মাদরাসা বোর্ড ও ইসলামি বিশ্ববিদ্যালয়ের আধীনে অনুষ্ঠিত হত। মাদ্রাসা-ই-আলিয়া ঢাকায় স্থানান্তরিত হলে ১৯৪৮ সালে মাদ্রাসা বোর্ডের ফাজিলগুলো পরীক্ষা ঢাকা বিশ্ববিদ্যালয় কর্তৃক গৃহীত হতো। ১৯৭৫ সালের কুদরত-এ-খুদা শিক্ষা কমিশনের সুপারিশে মাদ্রাসা বোর্ড নিয়ন্ত্রিত আলিয়া মাদ্রাসাসমূহে জাতীয় শিক্ষাক্রম ও বহুমুখী পাঠ্যসূচি প্রবর্তিত করা হয়। ১৯৮০ সালে অনুষ্ঠিত ফাজিল পরীক্ষায় এই পাঠ্যসুচী কার্যকর হয়। এই শিক্ষা কমিশন অনুসারে ফাজিল শ্রেণীতে ইসলামি শিক্ষার পাশাপাশি সাধারণ পাঠ্যসূচী অন্তর্ভুক্ত করে ফাজিল পরীক্ষাকে সাধারণ উচ্চ মাধ্যমিক এইচ এস সির সমমান ঘোষণা করা হয়। ১৯৭৮ সালে অধ্যাপক মুস্তফা বিন কাসিমের নেতৃত্বে সিনিয়র মাদ্রাসা শিক্ষা ব্যবস্থা কমিটি গঠিত হয়। এই কমিটির নির্দেশনায় ১৯৮৪ সালে সাধারণ শিক্ষার স্তরের সঙ্গে বাংলাদেশ মাদ্রাসা বোর্ড নিয়ন্ত্রিত আলিয়া মাদ্রাসা শিক্ষা স্তরের সামঞ্জস্য করা হয়। ফাজিল স্তরকে ২ বছর মেয়াদী কোর্সে উন্নিত করে, মোট ১৬ বছর ব্যাপী আলিয়া মাদ্রাসার পূর্ণাঙ্গ আধুনিক শিক্ষা ব্যবস্থা প্রবর্তন করা হয়। এই কমিশনের মাধ্যমেই সরকার ফাজিল পরীক্ষাকে সাধারণ ডিগ্রি মান ঘোষণা করে।\n",
      "q: ফাজিল পরীক্ষা বাংলাদেশ ও ভারতের আলিয়া মাদ্রাসায় অনুষ্ঠিত একটি সরকারি পরীক্ষা ?\n",
      "q: বাংলাদেশে ফাজিল পরীক্ষা ইসলামি আরবি বিশ্ববিদ্যালয়ের অধীনে অনুষ্ঠিত হয়ে থাকে?\n"
     ]
    }
   ],
   "source": [
    "print(context[1])\n",
    "print(question_answer_pairs[1])\n",
    "print(get_question_answer(context[1]))"
   ]
  },
  {
   "cell_type": "code",
   "execution_count": null,
   "metadata": {
    "id": "0zFFqCTRJLsU"
   },
   "outputs": [],
   "source": []
  },
  {
   "cell_type": "code",
   "execution_count": null,
   "metadata": {},
   "outputs": [],
   "source": []
  },
  {
   "cell_type": "code",
   "execution_count": null,
   "metadata": {},
   "outputs": [],
   "source": []
  }
 ],
 "metadata": {
  "accelerator": "GPU",
  "colab": {
   "provenance": []
  },
  "gpuClass": "standard",
  "kernelspec": {
   "display_name": "Python 3 (ipykernel)",
   "language": "python",
   "name": "python3"
  },
  "language_info": {
   "codemirror_mode": {
    "name": "ipython",
    "version": 3
   },
   "file_extension": ".py",
   "mimetype": "text/x-python",
   "name": "python",
   "nbconvert_exporter": "python",
   "pygments_lexer": "ipython3",
   "version": "3.9.15"
  },
  "widgets": {
   "application/vnd.jupyter.widget-state+json": {
    "01e965b1d9494d06aa4c6cb400c3c6bb": {
     "model_module": "@jupyter-widgets/controls",
     "model_module_version": "1.5.0",
     "model_name": "DescriptionStyleModel",
     "state": {
      "_model_module": "@jupyter-widgets/controls",
      "_model_module_version": "1.5.0",
      "_model_name": "DescriptionStyleModel",
      "_view_count": null,
      "_view_module": "@jupyter-widgets/base",
      "_view_module_version": "1.2.0",
      "_view_name": "StyleView",
      "description_width": ""
     }
    },
    "0e731d79bdb74870809ba2afbf94cfb2": {
     "model_module": "@jupyter-widgets/base",
     "model_module_version": "1.2.0",
     "model_name": "LayoutModel",
     "state": {
      "_model_module": "@jupyter-widgets/base",
      "_model_module_version": "1.2.0",
      "_model_name": "LayoutModel",
      "_view_count": null,
      "_view_module": "@jupyter-widgets/base",
      "_view_module_version": "1.2.0",
      "_view_name": "LayoutView",
      "align_content": null,
      "align_items": null,
      "align_self": null,
      "border": null,
      "bottom": null,
      "display": null,
      "flex": null,
      "flex_flow": null,
      "grid_area": null,
      "grid_auto_columns": null,
      "grid_auto_flow": null,
      "grid_auto_rows": null,
      "grid_column": null,
      "grid_gap": null,
      "grid_row": null,
      "grid_template_areas": null,
      "grid_template_columns": null,
      "grid_template_rows": null,
      "height": null,
      "justify_content": null,
      "justify_items": null,
      "left": null,
      "margin": null,
      "max_height": null,
      "max_width": null,
      "min_height": null,
      "min_width": null,
      "object_fit": null,
      "object_position": null,
      "order": null,
      "overflow": null,
      "overflow_x": null,
      "overflow_y": null,
      "padding": null,
      "right": null,
      "top": null,
      "visibility": null,
      "width": null
     }
    },
    "1318d4bb82d54a799209ca4d4febcb7f": {
     "model_module": "@jupyter-widgets/base",
     "model_module_version": "1.2.0",
     "model_name": "LayoutModel",
     "state": {
      "_model_module": "@jupyter-widgets/base",
      "_model_module_version": "1.2.0",
      "_model_name": "LayoutModel",
      "_view_count": null,
      "_view_module": "@jupyter-widgets/base",
      "_view_module_version": "1.2.0",
      "_view_name": "LayoutView",
      "align_content": null,
      "align_items": null,
      "align_self": null,
      "border": null,
      "bottom": null,
      "display": null,
      "flex": null,
      "flex_flow": null,
      "grid_area": null,
      "grid_auto_columns": null,
      "grid_auto_flow": null,
      "grid_auto_rows": null,
      "grid_column": null,
      "grid_gap": null,
      "grid_row": null,
      "grid_template_areas": null,
      "grid_template_columns": null,
      "grid_template_rows": null,
      "height": null,
      "justify_content": null,
      "justify_items": null,
      "left": null,
      "margin": null,
      "max_height": null,
      "max_width": null,
      "min_height": null,
      "min_width": null,
      "object_fit": null,
      "object_position": null,
      "order": null,
      "overflow": null,
      "overflow_x": null,
      "overflow_y": null,
      "padding": null,
      "right": null,
      "top": null,
      "visibility": null,
      "width": null
     }
    },
    "1b63d86a6a534a33975b0f7de2701aa6": {
     "model_module": "@jupyter-widgets/base",
     "model_module_version": "1.2.0",
     "model_name": "LayoutModel",
     "state": {
      "_model_module": "@jupyter-widgets/base",
      "_model_module_version": "1.2.0",
      "_model_name": "LayoutModel",
      "_view_count": null,
      "_view_module": "@jupyter-widgets/base",
      "_view_module_version": "1.2.0",
      "_view_name": "LayoutView",
      "align_content": null,
      "align_items": null,
      "align_self": null,
      "border": null,
      "bottom": null,
      "display": null,
      "flex": null,
      "flex_flow": null,
      "grid_area": null,
      "grid_auto_columns": null,
      "grid_auto_flow": null,
      "grid_auto_rows": null,
      "grid_column": null,
      "grid_gap": null,
      "grid_row": null,
      "grid_template_areas": null,
      "grid_template_columns": null,
      "grid_template_rows": null,
      "height": null,
      "justify_content": null,
      "justify_items": null,
      "left": null,
      "margin": null,
      "max_height": null,
      "max_width": null,
      "min_height": null,
      "min_width": null,
      "object_fit": null,
      "object_position": null,
      "order": null,
      "overflow": null,
      "overflow_x": null,
      "overflow_y": null,
      "padding": null,
      "right": null,
      "top": null,
      "visibility": null,
      "width": null
     }
    },
    "1c05c5da3ee648c8bd036d41414a84e5": {
     "model_module": "@jupyter-widgets/base",
     "model_module_version": "1.2.0",
     "model_name": "LayoutModel",
     "state": {
      "_model_module": "@jupyter-widgets/base",
      "_model_module_version": "1.2.0",
      "_model_name": "LayoutModel",
      "_view_count": null,
      "_view_module": "@jupyter-widgets/base",
      "_view_module_version": "1.2.0",
      "_view_name": "LayoutView",
      "align_content": null,
      "align_items": null,
      "align_self": null,
      "border": null,
      "bottom": null,
      "display": null,
      "flex": null,
      "flex_flow": null,
      "grid_area": null,
      "grid_auto_columns": null,
      "grid_auto_flow": null,
      "grid_auto_rows": null,
      "grid_column": null,
      "grid_gap": null,
      "grid_row": null,
      "grid_template_areas": null,
      "grid_template_columns": null,
      "grid_template_rows": null,
      "height": null,
      "justify_content": null,
      "justify_items": null,
      "left": null,
      "margin": null,
      "max_height": null,
      "max_width": null,
      "min_height": null,
      "min_width": null,
      "object_fit": null,
      "object_position": null,
      "order": null,
      "overflow": null,
      "overflow_x": null,
      "overflow_y": null,
      "padding": null,
      "right": null,
      "top": null,
      "visibility": null,
      "width": null
     }
    },
    "33cd4975680c46f3ae87778841b53763": {
     "model_module": "@jupyter-widgets/base",
     "model_module_version": "1.2.0",
     "model_name": "LayoutModel",
     "state": {
      "_model_module": "@jupyter-widgets/base",
      "_model_module_version": "1.2.0",
      "_model_name": "LayoutModel",
      "_view_count": null,
      "_view_module": "@jupyter-widgets/base",
      "_view_module_version": "1.2.0",
      "_view_name": "LayoutView",
      "align_content": null,
      "align_items": null,
      "align_self": null,
      "border": null,
      "bottom": null,
      "display": null,
      "flex": null,
      "flex_flow": null,
      "grid_area": null,
      "grid_auto_columns": null,
      "grid_auto_flow": null,
      "grid_auto_rows": null,
      "grid_column": null,
      "grid_gap": null,
      "grid_row": null,
      "grid_template_areas": null,
      "grid_template_columns": null,
      "grid_template_rows": null,
      "height": null,
      "justify_content": null,
      "justify_items": null,
      "left": null,
      "margin": null,
      "max_height": null,
      "max_width": null,
      "min_height": null,
      "min_width": null,
      "object_fit": null,
      "object_position": null,
      "order": null,
      "overflow": null,
      "overflow_x": null,
      "overflow_y": null,
      "padding": null,
      "right": null,
      "top": null,
      "visibility": null,
      "width": null
     }
    },
    "46c440ab92b34fc2ba2b2485b5980ab3": {
     "model_module": "@jupyter-widgets/controls",
     "model_module_version": "1.5.0",
     "model_name": "HTMLModel",
     "state": {
      "_dom_classes": [],
      "_model_module": "@jupyter-widgets/controls",
      "_model_module_version": "1.5.0",
      "_model_name": "HTMLModel",
      "_view_count": null,
      "_view_module": "@jupyter-widgets/controls",
      "_view_module_version": "1.5.0",
      "_view_name": "HTMLView",
      "description": "",
      "description_tooltip": null,
      "layout": "IPY_MODEL_33cd4975680c46f3ae87778841b53763",
      "placeholder": "​",
      "style": "IPY_MODEL_f4bcfba2a1a5492cb078ad9b62e38ea9",
      "value": " 1.11M/1.11M [00:00&lt;00:00, 13.9MB/s]"
     }
    },
    "495aa5cb195f405d97263e5f74b4e6a8": {
     "model_module": "@jupyter-widgets/controls",
     "model_module_version": "1.5.0",
     "model_name": "DescriptionStyleModel",
     "state": {
      "_model_module": "@jupyter-widgets/controls",
      "_model_module_version": "1.5.0",
      "_model_name": "DescriptionStyleModel",
      "_view_count": null,
      "_view_module": "@jupyter-widgets/base",
      "_view_module_version": "1.2.0",
      "_view_name": "StyleView",
      "description_width": ""
     }
    },
    "496e187434d4443aad767a55019ec905": {
     "model_module": "@jupyter-widgets/controls",
     "model_module_version": "1.5.0",
     "model_name": "DescriptionStyleModel",
     "state": {
      "_model_module": "@jupyter-widgets/controls",
      "_model_module_version": "1.5.0",
      "_model_name": "DescriptionStyleModel",
      "_view_count": null,
      "_view_module": "@jupyter-widgets/base",
      "_view_module_version": "1.2.0",
      "_view_name": "StyleView",
      "description_width": ""
     }
    },
    "4bcdabcae5634d7ba5a4d08ddb9346df": {
     "model_module": "@jupyter-widgets/controls",
     "model_module_version": "1.5.0",
     "model_name": "DescriptionStyleModel",
     "state": {
      "_model_module": "@jupyter-widgets/controls",
      "_model_module_version": "1.5.0",
      "_model_name": "DescriptionStyleModel",
      "_view_count": null,
      "_view_module": "@jupyter-widgets/base",
      "_view_module_version": "1.2.0",
      "_view_name": "StyleView",
      "description_width": ""
     }
    },
    "4c308317412b43da9d543f50e1c9e92d": {
     "model_module": "@jupyter-widgets/base",
     "model_module_version": "1.2.0",
     "model_name": "LayoutModel",
     "state": {
      "_model_module": "@jupyter-widgets/base",
      "_model_module_version": "1.2.0",
      "_model_name": "LayoutModel",
      "_view_count": null,
      "_view_module": "@jupyter-widgets/base",
      "_view_module_version": "1.2.0",
      "_view_name": "LayoutView",
      "align_content": null,
      "align_items": null,
      "align_self": null,
      "border": null,
      "bottom": null,
      "display": null,
      "flex": null,
      "flex_flow": null,
      "grid_area": null,
      "grid_auto_columns": null,
      "grid_auto_flow": null,
      "grid_auto_rows": null,
      "grid_column": null,
      "grid_gap": null,
      "grid_row": null,
      "grid_template_areas": null,
      "grid_template_columns": null,
      "grid_template_rows": null,
      "height": null,
      "justify_content": null,
      "justify_items": null,
      "left": null,
      "margin": null,
      "max_height": null,
      "max_width": null,
      "min_height": null,
      "min_width": null,
      "object_fit": null,
      "object_position": null,
      "order": null,
      "overflow": null,
      "overflow_x": null,
      "overflow_y": null,
      "padding": null,
      "right": null,
      "top": null,
      "visibility": null,
      "width": null
     }
    },
    "4d39f6b644344e05a262ae4d23e566b9": {
     "model_module": "@jupyter-widgets/controls",
     "model_module_version": "1.5.0",
     "model_name": "HTMLModel",
     "state": {
      "_dom_classes": [],
      "_model_module": "@jupyter-widgets/controls",
      "_model_module_version": "1.5.0",
      "_model_name": "HTMLModel",
      "_view_count": null,
      "_view_module": "@jupyter-widgets/controls",
      "_view_module_version": "1.5.0",
      "_view_name": "HTMLView",
      "description": "",
      "description_tooltip": null,
      "layout": "IPY_MODEL_dcd8e9898f9d4519b914b7e0e95e5e0d",
      "placeholder": "​",
      "style": "IPY_MODEL_496e187434d4443aad767a55019ec905",
      "value": " 1.79k/1.79k [00:00&lt;00:00, 48.7kB/s]"
     }
    },
    "53f4c1741bb54248b3d9f6ca995501a3": {
     "model_module": "@jupyter-widgets/base",
     "model_module_version": "1.2.0",
     "model_name": "LayoutModel",
     "state": {
      "_model_module": "@jupyter-widgets/base",
      "_model_module_version": "1.2.0",
      "_model_name": "LayoutModel",
      "_view_count": null,
      "_view_module": "@jupyter-widgets/base",
      "_view_module_version": "1.2.0",
      "_view_name": "LayoutView",
      "align_content": null,
      "align_items": null,
      "align_self": null,
      "border": null,
      "bottom": null,
      "display": null,
      "flex": null,
      "flex_flow": null,
      "grid_area": null,
      "grid_auto_columns": null,
      "grid_auto_flow": null,
      "grid_auto_rows": null,
      "grid_column": null,
      "grid_gap": null,
      "grid_row": null,
      "grid_template_areas": null,
      "grid_template_columns": null,
      "grid_template_rows": null,
      "height": null,
      "justify_content": null,
      "justify_items": null,
      "left": null,
      "margin": null,
      "max_height": null,
      "max_width": null,
      "min_height": null,
      "min_width": null,
      "object_fit": null,
      "object_position": null,
      "order": null,
      "overflow": null,
      "overflow_x": null,
      "overflow_y": null,
      "padding": null,
      "right": null,
      "top": null,
      "visibility": null,
      "width": null
     }
    },
    "5911e5f31b754bbf9cb726dffa0e94f3": {
     "model_module": "@jupyter-widgets/base",
     "model_module_version": "1.2.0",
     "model_name": "LayoutModel",
     "state": {
      "_model_module": "@jupyter-widgets/base",
      "_model_module_version": "1.2.0",
      "_model_name": "LayoutModel",
      "_view_count": null,
      "_view_module": "@jupyter-widgets/base",
      "_view_module_version": "1.2.0",
      "_view_name": "LayoutView",
      "align_content": null,
      "align_items": null,
      "align_self": null,
      "border": null,
      "bottom": null,
      "display": null,
      "flex": null,
      "flex_flow": null,
      "grid_area": null,
      "grid_auto_columns": null,
      "grid_auto_flow": null,
      "grid_auto_rows": null,
      "grid_column": null,
      "grid_gap": null,
      "grid_row": null,
      "grid_template_areas": null,
      "grid_template_columns": null,
      "grid_template_rows": null,
      "height": null,
      "justify_content": null,
      "justify_items": null,
      "left": null,
      "margin": null,
      "max_height": null,
      "max_width": null,
      "min_height": null,
      "min_width": null,
      "object_fit": null,
      "object_position": null,
      "order": null,
      "overflow": null,
      "overflow_x": null,
      "overflow_y": null,
      "padding": null,
      "right": null,
      "top": null,
      "visibility": null,
      "width": null
     }
    },
    "5e0788f085c24b6c83bbdcda09426ca9": {
     "model_module": "@jupyter-widgets/controls",
     "model_module_version": "1.5.0",
     "model_name": "FloatProgressModel",
     "state": {
      "_dom_classes": [],
      "_model_module": "@jupyter-widgets/controls",
      "_model_module_version": "1.5.0",
      "_model_name": "FloatProgressModel",
      "_view_count": null,
      "_view_module": "@jupyter-widgets/controls",
      "_view_module_version": "1.5.0",
      "_view_name": "ProgressView",
      "bar_style": "success",
      "description": "",
      "description_tooltip": null,
      "layout": "IPY_MODEL_1c05c5da3ee648c8bd036d41414a84e5",
      "max": 990441433,
      "min": 0,
      "orientation": "horizontal",
      "style": "IPY_MODEL_82a0d160928345798694f378fc50f0da",
      "value": 990441433
     }
    },
    "640e2c5500c449798816e22771da7e81": {
     "model_module": "@jupyter-widgets/controls",
     "model_module_version": "1.5.0",
     "model_name": "ProgressStyleModel",
     "state": {
      "_model_module": "@jupyter-widgets/controls",
      "_model_module_version": "1.5.0",
      "_model_name": "ProgressStyleModel",
      "_view_count": null,
      "_view_module": "@jupyter-widgets/base",
      "_view_module_version": "1.2.0",
      "_view_name": "StyleView",
      "bar_color": null,
      "description_width": ""
     }
    },
    "6cf9934952fd488b9a3a907da805574c": {
     "model_module": "@jupyter-widgets/controls",
     "model_module_version": "1.5.0",
     "model_name": "HTMLModel",
     "state": {
      "_dom_classes": [],
      "_model_module": "@jupyter-widgets/controls",
      "_model_module_version": "1.5.0",
      "_model_name": "HTMLModel",
      "_view_count": null,
      "_view_module": "@jupyter-widgets/controls",
      "_view_module_version": "1.5.0",
      "_view_name": "HTMLView",
      "description": "",
      "description_tooltip": null,
      "layout": "IPY_MODEL_7322a51ffd7b410c903bed83164181e1",
      "placeholder": "​",
      "style": "IPY_MODEL_b43fe2b775164c3ca294b88411d93501",
      "value": " 990M/990M [00:25&lt;00:00, 63.4MB/s]"
     }
    },
    "6eb17c4328bb4c5786759dfb6f8506be": {
     "model_module": "@jupyter-widgets/controls",
     "model_module_version": "1.5.0",
     "model_name": "DescriptionStyleModel",
     "state": {
      "_model_module": "@jupyter-widgets/controls",
      "_model_module_version": "1.5.0",
      "_model_name": "DescriptionStyleModel",
      "_view_count": null,
      "_view_module": "@jupyter-widgets/base",
      "_view_module_version": "1.2.0",
      "_view_name": "StyleView",
      "description_width": ""
     }
    },
    "715c4c4b31be4a02b44bd2c745bb2be1": {
     "model_module": "@jupyter-widgets/controls",
     "model_module_version": "1.5.0",
     "model_name": "DescriptionStyleModel",
     "state": {
      "_model_module": "@jupyter-widgets/controls",
      "_model_module_version": "1.5.0",
      "_model_name": "DescriptionStyleModel",
      "_view_count": null,
      "_view_module": "@jupyter-widgets/base",
      "_view_module_version": "1.2.0",
      "_view_name": "StyleView",
      "description_width": ""
     }
    },
    "7322a51ffd7b410c903bed83164181e1": {
     "model_module": "@jupyter-widgets/base",
     "model_module_version": "1.2.0",
     "model_name": "LayoutModel",
     "state": {
      "_model_module": "@jupyter-widgets/base",
      "_model_module_version": "1.2.0",
      "_model_name": "LayoutModel",
      "_view_count": null,
      "_view_module": "@jupyter-widgets/base",
      "_view_module_version": "1.2.0",
      "_view_name": "LayoutView",
      "align_content": null,
      "align_items": null,
      "align_self": null,
      "border": null,
      "bottom": null,
      "display": null,
      "flex": null,
      "flex_flow": null,
      "grid_area": null,
      "grid_auto_columns": null,
      "grid_auto_flow": null,
      "grid_auto_rows": null,
      "grid_column": null,
      "grid_gap": null,
      "grid_row": null,
      "grid_template_areas": null,
      "grid_template_columns": null,
      "grid_template_rows": null,
      "height": null,
      "justify_content": null,
      "justify_items": null,
      "left": null,
      "margin": null,
      "max_height": null,
      "max_width": null,
      "min_height": null,
      "min_width": null,
      "object_fit": null,
      "object_position": null,
      "order": null,
      "overflow": null,
      "overflow_x": null,
      "overflow_y": null,
      "padding": null,
      "right": null,
      "top": null,
      "visibility": null,
      "width": null
     }
    },
    "7809b53f9eb64529b21b5f9161809887": {
     "model_module": "@jupyter-widgets/controls",
     "model_module_version": "1.5.0",
     "model_name": "HTMLModel",
     "state": {
      "_dom_classes": [],
      "_model_module": "@jupyter-widgets/controls",
      "_model_module_version": "1.5.0",
      "_model_name": "HTMLModel",
      "_view_count": null,
      "_view_module": "@jupyter-widgets/controls",
      "_view_module_version": "1.5.0",
      "_view_name": "HTMLView",
      "description": "",
      "description_tooltip": null,
      "layout": "IPY_MODEL_53f4c1741bb54248b3d9f6ca995501a3",
      "placeholder": "​",
      "style": "IPY_MODEL_4bcdabcae5634d7ba5a4d08ddb9346df",
      "value": "Downloading: 100%"
     }
    },
    "82a0d160928345798694f378fc50f0da": {
     "model_module": "@jupyter-widgets/controls",
     "model_module_version": "1.5.0",
     "model_name": "ProgressStyleModel",
     "state": {
      "_model_module": "@jupyter-widgets/controls",
      "_model_module_version": "1.5.0",
      "_model_name": "ProgressStyleModel",
      "_view_count": null,
      "_view_module": "@jupyter-widgets/base",
      "_view_module_version": "1.2.0",
      "_view_name": "StyleView",
      "bar_color": null,
      "description_width": ""
     }
    },
    "88fb2e2c594246349a1792fb25103213": {
     "model_module": "@jupyter-widgets/base",
     "model_module_version": "1.2.0",
     "model_name": "LayoutModel",
     "state": {
      "_model_module": "@jupyter-widgets/base",
      "_model_module_version": "1.2.0",
      "_model_name": "LayoutModel",
      "_view_count": null,
      "_view_module": "@jupyter-widgets/base",
      "_view_module_version": "1.2.0",
      "_view_name": "LayoutView",
      "align_content": null,
      "align_items": null,
      "align_self": null,
      "border": null,
      "bottom": null,
      "display": null,
      "flex": null,
      "flex_flow": null,
      "grid_area": null,
      "grid_auto_columns": null,
      "grid_auto_flow": null,
      "grid_auto_rows": null,
      "grid_column": null,
      "grid_gap": null,
      "grid_row": null,
      "grid_template_areas": null,
      "grid_template_columns": null,
      "grid_template_rows": null,
      "height": null,
      "justify_content": null,
      "justify_items": null,
      "left": null,
      "margin": null,
      "max_height": null,
      "max_width": null,
      "min_height": null,
      "min_width": null,
      "object_fit": null,
      "object_position": null,
      "order": null,
      "overflow": null,
      "overflow_x": null,
      "overflow_y": null,
      "padding": null,
      "right": null,
      "top": null,
      "visibility": null,
      "width": null
     }
    },
    "8a9fd713852a448e85c09f8b76c636f7": {
     "model_module": "@jupyter-widgets/controls",
     "model_module_version": "1.5.0",
     "model_name": "ProgressStyleModel",
     "state": {
      "_model_module": "@jupyter-widgets/controls",
      "_model_module_version": "1.5.0",
      "_model_name": "ProgressStyleModel",
      "_view_count": null,
      "_view_module": "@jupyter-widgets/base",
      "_view_module_version": "1.2.0",
      "_view_name": "StyleView",
      "bar_color": null,
      "description_width": ""
     }
    },
    "8b39d24b2a804fd480338b8f42f01686": {
     "model_module": "@jupyter-widgets/controls",
     "model_module_version": "1.5.0",
     "model_name": "HTMLModel",
     "state": {
      "_dom_classes": [],
      "_model_module": "@jupyter-widgets/controls",
      "_model_module_version": "1.5.0",
      "_model_name": "HTMLModel",
      "_view_count": null,
      "_view_module": "@jupyter-widgets/controls",
      "_view_module_version": "1.5.0",
      "_view_name": "HTMLView",
      "description": "",
      "description_tooltip": null,
      "layout": "IPY_MODEL_baf8ae0b5bac4343b455eecbdf7e024a",
      "placeholder": "​",
      "style": "IPY_MODEL_6eb17c4328bb4c5786759dfb6f8506be",
      "value": "Downloading: 100%"
     }
    },
    "8f436c14abec427dbebdbe715e5861fc": {
     "model_module": "@jupyter-widgets/controls",
     "model_module_version": "1.5.0",
     "model_name": "FloatProgressModel",
     "state": {
      "_dom_classes": [],
      "_model_module": "@jupyter-widgets/controls",
      "_model_module_version": "1.5.0",
      "_model_name": "FloatProgressModel",
      "_view_count": null,
      "_view_module": "@jupyter-widgets/controls",
      "_view_module_version": "1.5.0",
      "_view_name": "ProgressView",
      "bar_style": "success",
      "description": "",
      "description_tooltip": null,
      "layout": "IPY_MODEL_f43dc7e4ccd6428789a7465568d91905",
      "max": 659,
      "min": 0,
      "orientation": "horizontal",
      "style": "IPY_MODEL_b2723344e59444a9aadc79309bc57d35",
      "value": 659
     }
    },
    "91afd27413ae4390ac641e43f626ff25": {
     "model_module": "@jupyter-widgets/base",
     "model_module_version": "1.2.0",
     "model_name": "LayoutModel",
     "state": {
      "_model_module": "@jupyter-widgets/base",
      "_model_module_version": "1.2.0",
      "_model_name": "LayoutModel",
      "_view_count": null,
      "_view_module": "@jupyter-widgets/base",
      "_view_module_version": "1.2.0",
      "_view_name": "LayoutView",
      "align_content": null,
      "align_items": null,
      "align_self": null,
      "border": null,
      "bottom": null,
      "display": null,
      "flex": null,
      "flex_flow": null,
      "grid_area": null,
      "grid_auto_columns": null,
      "grid_auto_flow": null,
      "grid_auto_rows": null,
      "grid_column": null,
      "grid_gap": null,
      "grid_row": null,
      "grid_template_areas": null,
      "grid_template_columns": null,
      "grid_template_rows": null,
      "height": null,
      "justify_content": null,
      "justify_items": null,
      "left": null,
      "margin": null,
      "max_height": null,
      "max_width": null,
      "min_height": null,
      "min_width": null,
      "object_fit": null,
      "object_position": null,
      "order": null,
      "overflow": null,
      "overflow_x": null,
      "overflow_y": null,
      "padding": null,
      "right": null,
      "top": null,
      "visibility": null,
      "width": null
     }
    },
    "94963f897ed14b78924bb97b809bc1ec": {
     "model_module": "@jupyter-widgets/controls",
     "model_module_version": "1.5.0",
     "model_name": "HBoxModel",
     "state": {
      "_dom_classes": [],
      "_model_module": "@jupyter-widgets/controls",
      "_model_module_version": "1.5.0",
      "_model_name": "HBoxModel",
      "_view_count": null,
      "_view_module": "@jupyter-widgets/controls",
      "_view_module_version": "1.5.0",
      "_view_name": "HBoxView",
      "box_style": "",
      "children": [
       "IPY_MODEL_8b39d24b2a804fd480338b8f42f01686",
       "IPY_MODEL_a9130e16d6ca44bc9eb8659bcab8222d",
       "IPY_MODEL_4d39f6b644344e05a262ae4d23e566b9"
      ],
      "layout": "IPY_MODEL_88fb2e2c594246349a1792fb25103213"
     }
    },
    "96b7036739ce4fdf9bbc01418a7657ad": {
     "model_module": "@jupyter-widgets/base",
     "model_module_version": "1.2.0",
     "model_name": "LayoutModel",
     "state": {
      "_model_module": "@jupyter-widgets/base",
      "_model_module_version": "1.2.0",
      "_model_name": "LayoutModel",
      "_view_count": null,
      "_view_module": "@jupyter-widgets/base",
      "_view_module_version": "1.2.0",
      "_view_name": "LayoutView",
      "align_content": null,
      "align_items": null,
      "align_self": null,
      "border": null,
      "bottom": null,
      "display": null,
      "flex": null,
      "flex_flow": null,
      "grid_area": null,
      "grid_auto_columns": null,
      "grid_auto_flow": null,
      "grid_auto_rows": null,
      "grid_column": null,
      "grid_gap": null,
      "grid_row": null,
      "grid_template_areas": null,
      "grid_template_columns": null,
      "grid_template_rows": null,
      "height": null,
      "justify_content": null,
      "justify_items": null,
      "left": null,
      "margin": null,
      "max_height": null,
      "max_width": null,
      "min_height": null,
      "min_width": null,
      "object_fit": null,
      "object_position": null,
      "order": null,
      "overflow": null,
      "overflow_x": null,
      "overflow_y": null,
      "padding": null,
      "right": null,
      "top": null,
      "visibility": null,
      "width": null
     }
    },
    "a12b44e0761e47148f091b63238b615a": {
     "model_module": "@jupyter-widgets/base",
     "model_module_version": "1.2.0",
     "model_name": "LayoutModel",
     "state": {
      "_model_module": "@jupyter-widgets/base",
      "_model_module_version": "1.2.0",
      "_model_name": "LayoutModel",
      "_view_count": null,
      "_view_module": "@jupyter-widgets/base",
      "_view_module_version": "1.2.0",
      "_view_name": "LayoutView",
      "align_content": null,
      "align_items": null,
      "align_self": null,
      "border": null,
      "bottom": null,
      "display": null,
      "flex": null,
      "flex_flow": null,
      "grid_area": null,
      "grid_auto_columns": null,
      "grid_auto_flow": null,
      "grid_auto_rows": null,
      "grid_column": null,
      "grid_gap": null,
      "grid_row": null,
      "grid_template_areas": null,
      "grid_template_columns": null,
      "grid_template_rows": null,
      "height": null,
      "justify_content": null,
      "justify_items": null,
      "left": null,
      "margin": null,
      "max_height": null,
      "max_width": null,
      "min_height": null,
      "min_width": null,
      "object_fit": null,
      "object_position": null,
      "order": null,
      "overflow": null,
      "overflow_x": null,
      "overflow_y": null,
      "padding": null,
      "right": null,
      "top": null,
      "visibility": null,
      "width": null
     }
    },
    "a315707888ba4bb682594139a0641af5": {
     "model_module": "@jupyter-widgets/controls",
     "model_module_version": "1.5.0",
     "model_name": "HTMLModel",
     "state": {
      "_dom_classes": [],
      "_model_module": "@jupyter-widgets/controls",
      "_model_module_version": "1.5.0",
      "_model_name": "HTMLModel",
      "_view_count": null,
      "_view_module": "@jupyter-widgets/controls",
      "_view_module_version": "1.5.0",
      "_view_name": "HTMLView",
      "description": "",
      "description_tooltip": null,
      "layout": "IPY_MODEL_1318d4bb82d54a799209ca4d4febcb7f",
      "placeholder": "​",
      "style": "IPY_MODEL_e9ebc193d48e4e13afd1733ab80bd6b3",
      "value": "Downloading: 100%"
     }
    },
    "a7c3ced33d5241308a649e5258ef9379": {
     "model_module": "@jupyter-widgets/controls",
     "model_module_version": "1.5.0",
     "model_name": "HTMLModel",
     "state": {
      "_dom_classes": [],
      "_model_module": "@jupyter-widgets/controls",
      "_model_module_version": "1.5.0",
      "_model_name": "HTMLModel",
      "_view_count": null,
      "_view_module": "@jupyter-widgets/controls",
      "_view_module_version": "1.5.0",
      "_view_name": "HTMLView",
      "description": "",
      "description_tooltip": null,
      "layout": "IPY_MODEL_1b63d86a6a534a33975b0f7de2701aa6",
      "placeholder": "​",
      "style": "IPY_MODEL_495aa5cb195f405d97263e5f74b4e6a8",
      "value": " 659/659 [00:00&lt;00:00, 18.2kB/s]"
     }
    },
    "a9130e16d6ca44bc9eb8659bcab8222d": {
     "model_module": "@jupyter-widgets/controls",
     "model_module_version": "1.5.0",
     "model_name": "FloatProgressModel",
     "state": {
      "_dom_classes": [],
      "_model_module": "@jupyter-widgets/controls",
      "_model_module_version": "1.5.0",
      "_model_name": "FloatProgressModel",
      "_view_count": null,
      "_view_module": "@jupyter-widgets/controls",
      "_view_module_version": "1.5.0",
      "_view_name": "ProgressView",
      "bar_style": "success",
      "description": "",
      "description_tooltip": null,
      "layout": "IPY_MODEL_4c308317412b43da9d543f50e1c9e92d",
      "max": 1786,
      "min": 0,
      "orientation": "horizontal",
      "style": "IPY_MODEL_f99492779c074f8f9ca8114a37b3d190",
      "value": 1786
     }
    },
    "aa213584c456461dab8a6fc3c8850117": {
     "model_module": "@jupyter-widgets/controls",
     "model_module_version": "1.5.0",
     "model_name": "FloatProgressModel",
     "state": {
      "_dom_classes": [],
      "_model_module": "@jupyter-widgets/controls",
      "_model_module_version": "1.5.0",
      "_model_name": "FloatProgressModel",
      "_view_count": null,
      "_view_module": "@jupyter-widgets/controls",
      "_view_module_version": "1.5.0",
      "_view_name": "ProgressView",
      "bar_style": "success",
      "description": "",
      "description_tooltip": null,
      "layout": "IPY_MODEL_96b7036739ce4fdf9bbc01418a7657ad",
      "max": 1111492,
      "min": 0,
      "orientation": "horizontal",
      "style": "IPY_MODEL_640e2c5500c449798816e22771da7e81",
      "value": 1111492
     }
    },
    "b1101b3a5ae24ad1b5d61a235b0b5518": {
     "model_module": "@jupyter-widgets/base",
     "model_module_version": "1.2.0",
     "model_name": "LayoutModel",
     "state": {
      "_model_module": "@jupyter-widgets/base",
      "_model_module_version": "1.2.0",
      "_model_name": "LayoutModel",
      "_view_count": null,
      "_view_module": "@jupyter-widgets/base",
      "_view_module_version": "1.2.0",
      "_view_name": "LayoutView",
      "align_content": null,
      "align_items": null,
      "align_self": null,
      "border": null,
      "bottom": null,
      "display": null,
      "flex": null,
      "flex_flow": null,
      "grid_area": null,
      "grid_auto_columns": null,
      "grid_auto_flow": null,
      "grid_auto_rows": null,
      "grid_column": null,
      "grid_gap": null,
      "grid_row": null,
      "grid_template_areas": null,
      "grid_template_columns": null,
      "grid_template_rows": null,
      "height": null,
      "justify_content": null,
      "justify_items": null,
      "left": null,
      "margin": null,
      "max_height": null,
      "max_width": null,
      "min_height": null,
      "min_width": null,
      "object_fit": null,
      "object_position": null,
      "order": null,
      "overflow": null,
      "overflow_x": null,
      "overflow_y": null,
      "padding": null,
      "right": null,
      "top": null,
      "visibility": null,
      "width": null
     }
    },
    "b1a6f18833cb474a897dae8b836bda5d": {
     "model_module": "@jupyter-widgets/controls",
     "model_module_version": "1.5.0",
     "model_name": "HTMLModel",
     "state": {
      "_dom_classes": [],
      "_model_module": "@jupyter-widgets/controls",
      "_model_module_version": "1.5.0",
      "_model_name": "HTMLModel",
      "_view_count": null,
      "_view_module": "@jupyter-widgets/controls",
      "_view_module_version": "1.5.0",
      "_view_name": "HTMLView",
      "description": "",
      "description_tooltip": null,
      "layout": "IPY_MODEL_d08d5926a4ed44b2ad44ea63528523c8",
      "placeholder": "​",
      "style": "IPY_MODEL_715c4c4b31be4a02b44bd2c745bb2be1",
      "value": "Downloading: 100%"
     }
    },
    "b2723344e59444a9aadc79309bc57d35": {
     "model_module": "@jupyter-widgets/controls",
     "model_module_version": "1.5.0",
     "model_name": "ProgressStyleModel",
     "state": {
      "_model_module": "@jupyter-widgets/controls",
      "_model_module_version": "1.5.0",
      "_model_name": "ProgressStyleModel",
      "_view_count": null,
      "_view_module": "@jupyter-widgets/base",
      "_view_module_version": "1.2.0",
      "_view_name": "StyleView",
      "bar_color": null,
      "description_width": ""
     }
    },
    "b43fe2b775164c3ca294b88411d93501": {
     "model_module": "@jupyter-widgets/controls",
     "model_module_version": "1.5.0",
     "model_name": "DescriptionStyleModel",
     "state": {
      "_model_module": "@jupyter-widgets/controls",
      "_model_module_version": "1.5.0",
      "_model_name": "DescriptionStyleModel",
      "_view_count": null,
      "_view_module": "@jupyter-widgets/base",
      "_view_module_version": "1.2.0",
      "_view_name": "StyleView",
      "description_width": ""
     }
    },
    "b6849e973a104919a5abc398eab5c86f": {
     "model_module": "@jupyter-widgets/controls",
     "model_module_version": "1.5.0",
     "model_name": "HBoxModel",
     "state": {
      "_dom_classes": [],
      "_model_module": "@jupyter-widgets/controls",
      "_model_module_version": "1.5.0",
      "_model_name": "HBoxModel",
      "_view_count": null,
      "_view_module": "@jupyter-widgets/controls",
      "_view_module_version": "1.5.0",
      "_view_name": "HBoxView",
      "box_style": "",
      "children": [
       "IPY_MODEL_7809b53f9eb64529b21b5f9161809887",
       "IPY_MODEL_8f436c14abec427dbebdbe715e5861fc",
       "IPY_MODEL_a7c3ced33d5241308a649e5258ef9379"
      ],
      "layout": "IPY_MODEL_b1101b3a5ae24ad1b5d61a235b0b5518"
     }
    },
    "baf8ae0b5bac4343b455eecbdf7e024a": {
     "model_module": "@jupyter-widgets/base",
     "model_module_version": "1.2.0",
     "model_name": "LayoutModel",
     "state": {
      "_model_module": "@jupyter-widgets/base",
      "_model_module_version": "1.2.0",
      "_model_name": "LayoutModel",
      "_view_count": null,
      "_view_module": "@jupyter-widgets/base",
      "_view_module_version": "1.2.0",
      "_view_name": "LayoutView",
      "align_content": null,
      "align_items": null,
      "align_self": null,
      "border": null,
      "bottom": null,
      "display": null,
      "flex": null,
      "flex_flow": null,
      "grid_area": null,
      "grid_auto_columns": null,
      "grid_auto_flow": null,
      "grid_auto_rows": null,
      "grid_column": null,
      "grid_gap": null,
      "grid_row": null,
      "grid_template_areas": null,
      "grid_template_columns": null,
      "grid_template_rows": null,
      "height": null,
      "justify_content": null,
      "justify_items": null,
      "left": null,
      "margin": null,
      "max_height": null,
      "max_width": null,
      "min_height": null,
      "min_width": null,
      "object_fit": null,
      "object_position": null,
      "order": null,
      "overflow": null,
      "overflow_x": null,
      "overflow_y": null,
      "padding": null,
      "right": null,
      "top": null,
      "visibility": null,
      "width": null
     }
    },
    "c80373fa72f54bf885074193c70a74ac": {
     "model_module": "@jupyter-widgets/controls",
     "model_module_version": "1.5.0",
     "model_name": "HTMLModel",
     "state": {
      "_dom_classes": [],
      "_model_module": "@jupyter-widgets/controls",
      "_model_module_version": "1.5.0",
      "_model_name": "HTMLModel",
      "_view_count": null,
      "_view_module": "@jupyter-widgets/controls",
      "_view_module_version": "1.5.0",
      "_view_name": "HTMLView",
      "description": "",
      "description_tooltip": null,
      "layout": "IPY_MODEL_a12b44e0761e47148f091b63238b615a",
      "placeholder": "​",
      "style": "IPY_MODEL_01e965b1d9494d06aa4c6cb400c3c6bb",
      "value": "Downloading: 100%"
     }
    },
    "d08d5926a4ed44b2ad44ea63528523c8": {
     "model_module": "@jupyter-widgets/base",
     "model_module_version": "1.2.0",
     "model_name": "LayoutModel",
     "state": {
      "_model_module": "@jupyter-widgets/base",
      "_model_module_version": "1.2.0",
      "_model_name": "LayoutModel",
      "_view_count": null,
      "_view_module": "@jupyter-widgets/base",
      "_view_module_version": "1.2.0",
      "_view_name": "LayoutView",
      "align_content": null,
      "align_items": null,
      "align_self": null,
      "border": null,
      "bottom": null,
      "display": null,
      "flex": null,
      "flex_flow": null,
      "grid_area": null,
      "grid_auto_columns": null,
      "grid_auto_flow": null,
      "grid_auto_rows": null,
      "grid_column": null,
      "grid_gap": null,
      "grid_row": null,
      "grid_template_areas": null,
      "grid_template_columns": null,
      "grid_template_rows": null,
      "height": null,
      "justify_content": null,
      "justify_items": null,
      "left": null,
      "margin": null,
      "max_height": null,
      "max_width": null,
      "min_height": null,
      "min_width": null,
      "object_fit": null,
      "object_position": null,
      "order": null,
      "overflow": null,
      "overflow_x": null,
      "overflow_y": null,
      "padding": null,
      "right": null,
      "top": null,
      "visibility": null,
      "width": null
     }
    },
    "d3903bbbcae148199829c0e0eaf00625": {
     "model_module": "@jupyter-widgets/base",
     "model_module_version": "1.2.0",
     "model_name": "LayoutModel",
     "state": {
      "_model_module": "@jupyter-widgets/base",
      "_model_module_version": "1.2.0",
      "_model_name": "LayoutModel",
      "_view_count": null,
      "_view_module": "@jupyter-widgets/base",
      "_view_module_version": "1.2.0",
      "_view_name": "LayoutView",
      "align_content": null,
      "align_items": null,
      "align_self": null,
      "border": null,
      "bottom": null,
      "display": null,
      "flex": null,
      "flex_flow": null,
      "grid_area": null,
      "grid_auto_columns": null,
      "grid_auto_flow": null,
      "grid_auto_rows": null,
      "grid_column": null,
      "grid_gap": null,
      "grid_row": null,
      "grid_template_areas": null,
      "grid_template_columns": null,
      "grid_template_rows": null,
      "height": null,
      "justify_content": null,
      "justify_items": null,
      "left": null,
      "margin": null,
      "max_height": null,
      "max_width": null,
      "min_height": null,
      "min_width": null,
      "object_fit": null,
      "object_position": null,
      "order": null,
      "overflow": null,
      "overflow_x": null,
      "overflow_y": null,
      "padding": null,
      "right": null,
      "top": null,
      "visibility": null,
      "width": null
     }
    },
    "dc358c1494c442da971580c7760c7bc6": {
     "model_module": "@jupyter-widgets/controls",
     "model_module_version": "1.5.0",
     "model_name": "HBoxModel",
     "state": {
      "_dom_classes": [],
      "_model_module": "@jupyter-widgets/controls",
      "_model_module_version": "1.5.0",
      "_model_name": "HBoxModel",
      "_view_count": null,
      "_view_module": "@jupyter-widgets/controls",
      "_view_module_version": "1.5.0",
      "_view_name": "HBoxView",
      "box_style": "",
      "children": [
       "IPY_MODEL_b1a6f18833cb474a897dae8b836bda5d",
       "IPY_MODEL_5e0788f085c24b6c83bbdcda09426ca9",
       "IPY_MODEL_6cf9934952fd488b9a3a907da805574c"
      ],
      "layout": "IPY_MODEL_0e731d79bdb74870809ba2afbf94cfb2"
     }
    },
    "dcd8e9898f9d4519b914b7e0e95e5e0d": {
     "model_module": "@jupyter-widgets/base",
     "model_module_version": "1.2.0",
     "model_name": "LayoutModel",
     "state": {
      "_model_module": "@jupyter-widgets/base",
      "_model_module_version": "1.2.0",
      "_model_name": "LayoutModel",
      "_view_count": null,
      "_view_module": "@jupyter-widgets/base",
      "_view_module_version": "1.2.0",
      "_view_name": "LayoutView",
      "align_content": null,
      "align_items": null,
      "align_self": null,
      "border": null,
      "bottom": null,
      "display": null,
      "flex": null,
      "flex_flow": null,
      "grid_area": null,
      "grid_auto_columns": null,
      "grid_auto_flow": null,
      "grid_auto_rows": null,
      "grid_column": null,
      "grid_gap": null,
      "grid_row": null,
      "grid_template_areas": null,
      "grid_template_columns": null,
      "grid_template_rows": null,
      "height": null,
      "justify_content": null,
      "justify_items": null,
      "left": null,
      "margin": null,
      "max_height": null,
      "max_width": null,
      "min_height": null,
      "min_width": null,
      "object_fit": null,
      "object_position": null,
      "order": null,
      "overflow": null,
      "overflow_x": null,
      "overflow_y": null,
      "padding": null,
      "right": null,
      "top": null,
      "visibility": null,
      "width": null
     }
    },
    "ddbbff7c31804d289b40a67fb1480795": {
     "model_module": "@jupyter-widgets/controls",
     "model_module_version": "1.5.0",
     "model_name": "DescriptionStyleModel",
     "state": {
      "_model_module": "@jupyter-widgets/controls",
      "_model_module_version": "1.5.0",
      "_model_name": "DescriptionStyleModel",
      "_view_count": null,
      "_view_module": "@jupyter-widgets/base",
      "_view_module_version": "1.2.0",
      "_view_name": "StyleView",
      "description_width": ""
     }
    },
    "de6e786b1f944625b6c843f0e71bf13d": {
     "model_module": "@jupyter-widgets/controls",
     "model_module_version": "1.5.0",
     "model_name": "HBoxModel",
     "state": {
      "_dom_classes": [],
      "_model_module": "@jupyter-widgets/controls",
      "_model_module_version": "1.5.0",
      "_model_name": "HBoxModel",
      "_view_count": null,
      "_view_module": "@jupyter-widgets/controls",
      "_view_module_version": "1.5.0",
      "_view_name": "HBoxView",
      "box_style": "",
      "children": [
       "IPY_MODEL_c80373fa72f54bf885074193c70a74ac",
       "IPY_MODEL_aa213584c456461dab8a6fc3c8850117",
       "IPY_MODEL_46c440ab92b34fc2ba2b2485b5980ab3"
      ],
      "layout": "IPY_MODEL_91afd27413ae4390ac641e43f626ff25"
     }
    },
    "e854512a28984ddc88e9c35132ef33d5": {
     "model_module": "@jupyter-widgets/controls",
     "model_module_version": "1.5.0",
     "model_name": "HBoxModel",
     "state": {
      "_dom_classes": [],
      "_model_module": "@jupyter-widgets/controls",
      "_model_module_version": "1.5.0",
      "_model_name": "HBoxModel",
      "_view_count": null,
      "_view_module": "@jupyter-widgets/controls",
      "_view_module_version": "1.5.0",
      "_view_name": "HBoxView",
      "box_style": "",
      "children": [
       "IPY_MODEL_a315707888ba4bb682594139a0641af5",
       "IPY_MODEL_fb03bd01e7d040ee964e1fce43f27d21",
       "IPY_MODEL_eb262ba1b16f48e29fd29ef56dbdcee9"
      ],
      "layout": "IPY_MODEL_e8cc6fe37e354eb381ab7d92fc90e332"
     }
    },
    "e8cc6fe37e354eb381ab7d92fc90e332": {
     "model_module": "@jupyter-widgets/base",
     "model_module_version": "1.2.0",
     "model_name": "LayoutModel",
     "state": {
      "_model_module": "@jupyter-widgets/base",
      "_model_module_version": "1.2.0",
      "_model_name": "LayoutModel",
      "_view_count": null,
      "_view_module": "@jupyter-widgets/base",
      "_view_module_version": "1.2.0",
      "_view_name": "LayoutView",
      "align_content": null,
      "align_items": null,
      "align_self": null,
      "border": null,
      "bottom": null,
      "display": null,
      "flex": null,
      "flex_flow": null,
      "grid_area": null,
      "grid_auto_columns": null,
      "grid_auto_flow": null,
      "grid_auto_rows": null,
      "grid_column": null,
      "grid_gap": null,
      "grid_row": null,
      "grid_template_areas": null,
      "grid_template_columns": null,
      "grid_template_rows": null,
      "height": null,
      "justify_content": null,
      "justify_items": null,
      "left": null,
      "margin": null,
      "max_height": null,
      "max_width": null,
      "min_height": null,
      "min_width": null,
      "object_fit": null,
      "object_position": null,
      "order": null,
      "overflow": null,
      "overflow_x": null,
      "overflow_y": null,
      "padding": null,
      "right": null,
      "top": null,
      "visibility": null,
      "width": null
     }
    },
    "e9ebc193d48e4e13afd1733ab80bd6b3": {
     "model_module": "@jupyter-widgets/controls",
     "model_module_version": "1.5.0",
     "model_name": "DescriptionStyleModel",
     "state": {
      "_model_module": "@jupyter-widgets/controls",
      "_model_module_version": "1.5.0",
      "_model_name": "DescriptionStyleModel",
      "_view_count": null,
      "_view_module": "@jupyter-widgets/base",
      "_view_module_version": "1.2.0",
      "_view_name": "StyleView",
      "description_width": ""
     }
    },
    "eb262ba1b16f48e29fd29ef56dbdcee9": {
     "model_module": "@jupyter-widgets/controls",
     "model_module_version": "1.5.0",
     "model_name": "HTMLModel",
     "state": {
      "_dom_classes": [],
      "_model_module": "@jupyter-widgets/controls",
      "_model_module_version": "1.5.0",
      "_model_name": "HTMLModel",
      "_view_count": null,
      "_view_module": "@jupyter-widgets/controls",
      "_view_module_version": "1.5.0",
      "_view_name": "HTMLView",
      "description": "",
      "description_tooltip": null,
      "layout": "IPY_MODEL_d3903bbbcae148199829c0e0eaf00625",
      "placeholder": "​",
      "style": "IPY_MODEL_ddbbff7c31804d289b40a67fb1480795",
      "value": " 1.83k/1.83k [00:00&lt;00:00, 57.9kB/s]"
     }
    },
    "f43dc7e4ccd6428789a7465568d91905": {
     "model_module": "@jupyter-widgets/base",
     "model_module_version": "1.2.0",
     "model_name": "LayoutModel",
     "state": {
      "_model_module": "@jupyter-widgets/base",
      "_model_module_version": "1.2.0",
      "_model_name": "LayoutModel",
      "_view_count": null,
      "_view_module": "@jupyter-widgets/base",
      "_view_module_version": "1.2.0",
      "_view_name": "LayoutView",
      "align_content": null,
      "align_items": null,
      "align_self": null,
      "border": null,
      "bottom": null,
      "display": null,
      "flex": null,
      "flex_flow": null,
      "grid_area": null,
      "grid_auto_columns": null,
      "grid_auto_flow": null,
      "grid_auto_rows": null,
      "grid_column": null,
      "grid_gap": null,
      "grid_row": null,
      "grid_template_areas": null,
      "grid_template_columns": null,
      "grid_template_rows": null,
      "height": null,
      "justify_content": null,
      "justify_items": null,
      "left": null,
      "margin": null,
      "max_height": null,
      "max_width": null,
      "min_height": null,
      "min_width": null,
      "object_fit": null,
      "object_position": null,
      "order": null,
      "overflow": null,
      "overflow_x": null,
      "overflow_y": null,
      "padding": null,
      "right": null,
      "top": null,
      "visibility": null,
      "width": null
     }
    },
    "f4bcfba2a1a5492cb078ad9b62e38ea9": {
     "model_module": "@jupyter-widgets/controls",
     "model_module_version": "1.5.0",
     "model_name": "DescriptionStyleModel",
     "state": {
      "_model_module": "@jupyter-widgets/controls",
      "_model_module_version": "1.5.0",
      "_model_name": "DescriptionStyleModel",
      "_view_count": null,
      "_view_module": "@jupyter-widgets/base",
      "_view_module_version": "1.2.0",
      "_view_name": "StyleView",
      "description_width": ""
     }
    },
    "f99492779c074f8f9ca8114a37b3d190": {
     "model_module": "@jupyter-widgets/controls",
     "model_module_version": "1.5.0",
     "model_name": "ProgressStyleModel",
     "state": {
      "_model_module": "@jupyter-widgets/controls",
      "_model_module_version": "1.5.0",
      "_model_name": "ProgressStyleModel",
      "_view_count": null,
      "_view_module": "@jupyter-widgets/base",
      "_view_module_version": "1.2.0",
      "_view_name": "StyleView",
      "bar_color": null,
      "description_width": ""
     }
    },
    "fb03bd01e7d040ee964e1fce43f27d21": {
     "model_module": "@jupyter-widgets/controls",
     "model_module_version": "1.5.0",
     "model_name": "FloatProgressModel",
     "state": {
      "_dom_classes": [],
      "_model_module": "@jupyter-widgets/controls",
      "_model_module_version": "1.5.0",
      "_model_name": "FloatProgressModel",
      "_view_count": null,
      "_view_module": "@jupyter-widgets/controls",
      "_view_module_version": "1.5.0",
      "_view_name": "ProgressView",
      "bar_style": "success",
      "description": "",
      "description_tooltip": null,
      "layout": "IPY_MODEL_5911e5f31b754bbf9cb726dffa0e94f3",
      "max": 1829,
      "min": 0,
      "orientation": "horizontal",
      "style": "IPY_MODEL_8a9fd713852a448e85c09f8b76c636f7",
      "value": 1829
     }
    }
   }
  }
 },
 "nbformat": 4,
 "nbformat_minor": 4
}
