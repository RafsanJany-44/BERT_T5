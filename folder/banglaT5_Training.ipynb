{
 "cells": [
  {
   "cell_type": "code",
   "execution_count": 1,
   "metadata": {
    "colab": {
     "base_uri": "https://localhost:8080/"
    },
    "executionInfo": {
     "elapsed": 9537,
     "status": "ok",
     "timestamp": 1661622159357,
     "user": {
      "displayName": "Mukta's Cuisine",
      "userId": "09477569564665203851"
     },
     "user_tz": -360
    },
    "id": "NT7_xKrfYV1J",
    "outputId": "cf68f9cb-bc46-4e4d-9628-4e2c612710f1"
   },
   "outputs": [
    {
     "name": "stdout",
     "output_type": "stream",
     "text": [
      "Requirement already satisfied: transformers[sentencepiece] in c:\\users\\razer\\anaconda3\\envs\\titanoboa\\lib\\site-packages (4.29.1)\n",
      "Requirement already satisfied: requests in c:\\users\\razer\\anaconda3\\envs\\titanoboa\\lib\\site-packages (from transformers[sentencepiece]) (2.28.1)\n",
      "Requirement already satisfied: numpy>=1.17 in c:\\users\\razer\\anaconda3\\envs\\titanoboa\\lib\\site-packages (from transformers[sentencepiece]) (1.23.5)\n",
      "Requirement already satisfied: huggingface-hub<1.0,>=0.14.1 in c:\\users\\razer\\anaconda3\\envs\\titanoboa\\lib\\site-packages (from transformers[sentencepiece]) (0.14.1)\n",
      "Requirement already satisfied: pyyaml>=5.1 in c:\\users\\razer\\anaconda3\\envs\\titanoboa\\lib\\site-packages (from transformers[sentencepiece]) (6.0)\n",
      "Requirement already satisfied: filelock in c:\\users\\razer\\anaconda3\\envs\\titanoboa\\lib\\site-packages (from transformers[sentencepiece]) (3.9.0)\n",
      "Requirement already satisfied: tokenizers!=0.11.3,<0.14,>=0.11.1 in c:\\users\\razer\\anaconda3\\envs\\titanoboa\\lib\\site-packages (from transformers[sentencepiece]) (0.13.3)\n",
      "Requirement already satisfied: regex!=2019.12.17 in c:\\users\\razer\\anaconda3\\envs\\titanoboa\\lib\\site-packages (from transformers[sentencepiece]) (2023.5.5)\n",
      "Requirement already satisfied: tqdm>=4.27 in c:\\users\\razer\\anaconda3\\envs\\titanoboa\\lib\\site-packages (from transformers[sentencepiece]) (4.64.1)\n",
      "Requirement already satisfied: packaging>=20.0 in c:\\users\\razer\\anaconda3\\envs\\titanoboa\\lib\\site-packages (from transformers[sentencepiece]) (22.0)\n",
      "Requirement already satisfied: protobuf<=3.20.2 in c:\\users\\razer\\anaconda3\\envs\\titanoboa\\lib\\site-packages (from transformers[sentencepiece]) (3.20.1)\n",
      "Requirement already satisfied: sentencepiece!=0.1.92,>=0.1.91 in c:\\users\\razer\\anaconda3\\envs\\titanoboa\\lib\\site-packages (from transformers[sentencepiece]) (0.1.99)\n",
      "Requirement already satisfied: fsspec in c:\\users\\razer\\anaconda3\\envs\\titanoboa\\lib\\site-packages (from huggingface-hub<1.0,>=0.14.1->transformers[sentencepiece]) (2023.5.0)\n",
      "Requirement already satisfied: typing-extensions>=3.7.4.3 in c:\\users\\razer\\anaconda3\\envs\\titanoboa\\lib\\site-packages (from huggingface-hub<1.0,>=0.14.1->transformers[sentencepiece]) (4.4.0)\n",
      "Requirement already satisfied: colorama in c:\\users\\razer\\anaconda3\\envs\\titanoboa\\lib\\site-packages (from tqdm>=4.27->transformers[sentencepiece]) (0.4.6)\n",
      "Requirement already satisfied: certifi>=2017.4.17 in c:\\users\\razer\\anaconda3\\envs\\titanoboa\\lib\\site-packages (from requests->transformers[sentencepiece]) (2022.12.7)\n",
      "Requirement already satisfied: urllib3<1.27,>=1.21.1 in c:\\users\\razer\\anaconda3\\envs\\titanoboa\\lib\\site-packages (from requests->transformers[sentencepiece]) (1.26.13)\n",
      "Requirement already satisfied: charset-normalizer<3,>=2 in c:\\users\\razer\\anaconda3\\envs\\titanoboa\\lib\\site-packages (from requests->transformers[sentencepiece]) (2.0.4)\n",
      "Requirement already satisfied: idna<4,>=2.5 in c:\\users\\razer\\anaconda3\\envs\\titanoboa\\lib\\site-packages (from requests->transformers[sentencepiece]) (3.4)\n"
     ]
    }
   ],
   "source": [
    "!pip install transformers[sentencepiece]"
   ]
  },
  {
   "cell_type": "code",
   "execution_count": 2,
   "metadata": {
    "colab": {
     "base_uri": "https://localhost:8080/"
    },
    "executionInfo": {
     "elapsed": 8048,
     "status": "ok",
     "timestamp": 1661622167398,
     "user": {
      "displayName": "Mukta's Cuisine",
      "userId": "09477569564665203851"
     },
     "user_tz": -360
    },
    "id": "Od-loGaKfP1x",
    "outputId": "ec00948a-d122-4f0a-95ee-5a08ccba86c9"
   },
   "outputs": [
    {
     "name": "stdout",
     "output_type": "stream",
     "text": [
      "Collecting git+https://github.com/csebuetnlp/normalizer\n",
      "  Cloning https://github.com/csebuetnlp/normalizer to c:\\users\\razer\\appdata\\local\\temp\\pip-req-build-g84uil3n\n",
      "  Resolved https://github.com/csebuetnlp/normalizer to commit d80c3c484e1b80268f2b2dfaf7557fe65e34f321\n",
      "  Preparing metadata (setup.py): started\n",
      "  Preparing metadata (setup.py): finished with status 'done'\n",
      "Requirement already satisfied: regex in c:\\users\\razer\\anaconda3\\envs\\titanoboa\\lib\\site-packages (from normalizer==0.0.1) (2023.5.5)\n",
      "Requirement already satisfied: emoji==1.4.2 in c:\\users\\razer\\anaconda3\\envs\\titanoboa\\lib\\site-packages (from normalizer==0.0.1) (1.4.2)\n",
      "Requirement already satisfied: ftfy==6.0.3 in c:\\users\\razer\\anaconda3\\envs\\titanoboa\\lib\\site-packages (from normalizer==0.0.1) (6.0.3)\n",
      "Requirement already satisfied: wcwidth in c:\\users\\razer\\anaconda3\\envs\\titanoboa\\lib\\site-packages (from ftfy==6.0.3->normalizer==0.0.1) (0.2.5)\n",
      "Note: you may need to restart the kernel to use updated packages.\n"
     ]
    },
    {
     "name": "stderr",
     "output_type": "stream",
     "text": [
      "  Running command git clone --filter=blob:none --quiet https://github.com/csebuetnlp/normalizer 'C:\\Users\\RAZER\\AppData\\Local\\Temp\\pip-req-build-g84uil3n'\n"
     ]
    }
   ],
   "source": [
    "pip install git+https://github.com/csebuetnlp/normalizer"
   ]
  },
  {
   "cell_type": "code",
   "execution_count": 10,
   "metadata": {
    "colab": {
     "base_uri": "https://localhost:8080/",
     "height": 177,
     "referenced_widgets": [
      "3231402a9a784d6588dba90cb34fbcb8",
      "70135d4b8cd54a289d0fa90648a0f94d",
      "9f84ee1c23a6484c91b119ec1bb62807",
      "62d4eb95cd3d4d1390dde86eb9614d7c",
      "9c3e86a77197490c81899b4be90bb04f",
      "61d1ac8d5dc049199b4363fa5ffd3dec",
      "a16b132d38524ad4b6a584d4d36851af",
      "8e16ea1f21024093b6d8fe5409e2f567",
      "9b2b81f52282420f8dbee029890a5afa",
      "f2417786bd4d4e388d2ecad6c5b52db3",
      "d0a04c37b2e746fd92e61bf86ad46b13",
      "c45fae7cd08645aa97161e157f05fcc8",
      "eddca892685246efb472264072966f71",
      "ce3790ab239c4490bca99fa715033366",
      "c588b06f7fe5424cad51ed493a0d51ac",
      "3dc66634831b405f81e99d6d18e1e81c",
      "8aaa7aa829014601b968f40657630fcb",
      "92b26897c3214876b301b2be59e5dfe8",
      "d024078b847d49f19450fba433ae1b81",
      "14d9c19ddffb47cea2130c7e4b983e72",
      "5a2c21bec52644bc97f982203d379048",
      "e8b84dc390234d8781a193a6cbca6e21",
      "5062541be19b4940976cba19fc85bcb3",
      "51ce890b836740318df0b4c7f930d21c",
      "3e8e792cbed54a2db7ba337e9078d17d",
      "dd6bc024a76443369afb4f4fc8cd5bba",
      "20618a489eb842729828a70961752951",
      "369daf1bf4c74da9bfa8665f80e6b137",
      "fdc18b90b7554021be6c66b08e58c5e9",
      "d369c529d87d4ed0994f9e6b0f8aa9ed",
      "21a622cb9fe1409e856ddea510961df5",
      "346c864c0dae4c7884a7f45a820a604b",
      "8c55dd731d6a493bb8168418b295ee86",
      "821728b9d5c84906a7bc7f2783632111",
      "ec369ae1d04d4401ba8de45017620118",
      "fe94ed5a21864dcc8858bf4729466af2",
      "511bdbaf396c41f18a96847840f20a8d",
      "f9b471b93879435b8f83c56608c1438e",
      "b569b62daa284013b0fb94acd9e0568f",
      "376638383b2049878c003cedb9b46b43",
      "adb7919bca584fa99f3495244fe8e45c",
      "39abd6a7e7cb483a960c7690a52e0ee8",
      "be45e88f4267455eaeab6fe2375771ce",
      "3c7222c3562c4262950367a0c8dcbad0",
      "bf445bb92da64d3097d1c81efa1ae201",
      "60613851ac8946478363669cc7407076",
      "1fed79e6f7d541699ce59acf155c126f",
      "0ffddd64ccb94c5183d13cbe0f13620f",
      "4b27bf73b972429697dac3d7447f6c73",
      "8a286c9c5e1247aa9d9c9eec3a04b881",
      "0ac9fe4b06cc40078428fc3bfdff884d",
      "411668f7d85f4319bf74a979c778c284",
      "52e7bbfadff44594820cc46af2b9f077",
      "1d2624eefc9f4e408d2e5df7d2c5db8f",
      "da7d3398a4c74c03bf57b013617b218e"
     ]
    },
    "executionInfo": {
     "elapsed": 26681,
     "status": "ok",
     "timestamp": 1661622194076,
     "user": {
      "displayName": "Mukta's Cuisine",
      "userId": "09477569564665203851"
     },
     "user_tz": -360
    },
    "id": "s0D6T4wlTsmS",
    "outputId": "28e5b86b-c3bb-4524-a33a-c67703410cb8"
   },
   "outputs": [],
   "source": [
    "from transformers import AutoModelForSeq2SeqLM, AutoTokenizer\n",
    "from normalizer import normalize # pip install git+https://github.com/csebuetnlp/normalizer\n",
    "\n",
    "\n",
    "# calling BanglaT5 model\n",
    "model = AutoModelForSeq2SeqLM.from_pretrained(\"csebuetnlp/banglat5\")\n",
    "tokenizer = AutoTokenizer.from_pretrained(\"csebuetnlp/banglat5\", use_fast=False)"
   ]
  },
  {
   "cell_type": "code",
   "execution_count": 11,
   "metadata": {
    "colab": {
     "base_uri": "https://localhost:8080/"
    },
    "executionInfo": {
     "elapsed": 26060,
     "status": "ok",
     "timestamp": 1661622220131,
     "user": {
      "displayName": "Mukta's Cuisine",
      "userId": "09477569564665203851"
     },
     "user_tz": -360
    },
    "id": "xlgd96CffVaD",
    "outputId": "e4b78ff2-9548-4487-fbc5-1517bb33705f"
   },
   "outputs": [
    {
     "data": {
      "text/plain": [
       "\"# Mounting colab with Google Drive\\n\\nfrom google.colab import drive\\ndrive.mount('/content/drive')\""
      ]
     },
     "execution_count": 11,
     "metadata": {},
     "output_type": "execute_result"
    }
   ],
   "source": [
    "\"\"\"# Mounting colab with Google Drive\n",
    "\n",
    "from google.colab import drive\n",
    "drive.mount('/content/drive')\"\"\""
   ]
  },
  {
   "cell_type": "code",
   "execution_count": 12,
   "metadata": {
    "id": "r3p9bqtDfxBs"
   },
   "outputs": [],
   "source": [
    "# It it recommended to not change the dataset's files' name\n",
    "\n",
    "# 'base' variable has to store the path to the folder where datasets are uploaded/available\n",
    "# so set the 'base' variable path to the folder of the where you have uploaded the datasets\n",
    "base = 'C:/Users/RAZER/Documents/Sartaj/BQA'        # sample\n",
    "\n",
    "# 'checkpoint_dir' variable has to store the path to the folder where checkpoints will be saves\n",
    "# IT IS RECOMMENDED TO SET checkpoint_dir SAME AS base\n",
    "# so set the 'checkpoint_dir' variable path to the folder of the where you want the check points to be saved\n",
    "checkpoint_dir = 'C:/Users/RAZER/Documents/Sartaj/BQA'          #sample\n",
    "#Documents/Sartaj/models\n",
    "# 'train_filename' variable has to store the filename of the Train set\n",
    "# so set the 'train_filename' variable as the name of the Train set's filename\n",
    "train_filename = 'Train.json'        #sample\n",
    "\n",
    "# 'validation_file_name' variable has to store the filename of the Validation set\n",
    "# so set the 'validation_file_name' variable as the name of the validation set's filename\n",
    "validation_file_name = 'Validation.json'     #sample"
   ]
  },
  {
   "cell_type": "code",
   "execution_count": null,
   "metadata": {},
   "outputs": [],
   "source": [
    "\n",
    "\n",
    "    "
   ]
  },
  {
   "cell_type": "code",
   "execution_count": 13,
   "metadata": {
    "colab": {
     "base_uri": "https://localhost:8080/"
    },
    "executionInfo": {
     "elapsed": 4214,
     "status": "ok",
     "timestamp": 1661622224339,
     "user": {
      "displayName": "Mukta's Cuisine",
      "userId": "09477569564665203851"
     },
     "user_tz": -360
    },
    "id": "af6donYTfP1y",
    "outputId": "4eb396b1-80fe-4bdb-b4a1-e0275a7f9e95"
   },
   "outputs": [
    {
     "data": {
      "text/plain": [
       "dict_keys(['data'])"
      ]
     },
     "execution_count": 13,
     "metadata": {},
     "output_type": "execute_result"
    }
   ],
   "source": [
    "# Loading the Train.json file for train set of BanglaRQA\n",
    "\n",
    "import json\n",
    "import os\n",
    "\n",
    "f = open(os.path.join(base,train_filename))\n",
    "  \n",
    "data_test = json.load(f)\n",
    "\n",
    "data_test.keys()\n",
    "  "
   ]
  },
  {
   "cell_type": "code",
   "execution_count": 14,
   "metadata": {
    "colab": {
     "base_uri": "https://localhost:8080/"
    },
    "executionInfo": {
     "elapsed": 26,
     "status": "ok",
     "timestamp": 1661622224339,
     "user": {
      "displayName": "Mukta's Cuisine",
      "userId": "09477569564665203851"
     },
     "user_tz": -360
    },
    "id": "fuYKmrnwfP1z",
    "outputId": "cb9d331d-ba70-4aeb-a172-ebad51111910"
   },
   "outputs": [
    {
     "data": {
      "text/plain": [
       "2400"
      ]
     },
     "execution_count": 14,
     "metadata": {},
     "output_type": "execute_result"
    }
   ],
   "source": [
    "data = data_test['data']\n",
    "len(data)"
   ]
  },
  {
   "cell_type": "code",
   "execution_count": 15,
   "metadata": {
    "colab": {
     "base_uri": "https://localhost:8080/"
    },
    "executionInfo": {
     "elapsed": 22,
     "status": "ok",
     "timestamp": 1661622224340,
     "user": {
      "displayName": "Mukta's Cuisine",
      "userId": "09477569564665203851"
     },
     "user_tz": -360
    },
    "id": "9vTmb8mVfP10",
    "outputId": "3f17e459-f616-4f9e-8669-50a2320e440f"
   },
   "outputs": [
    {
     "data": {
      "text/plain": [
       "{'passage_id': 'bn_wiki_2977',\n",
       " 'context': 'ফাজিল পরীক্ষা বাংলাদেশ ও ভারতের আলিয়া মাদ্রাসায় অনুষ্ঠিত একটি সরকারি পরীক্ষা। ফাজিল পরীক্ষা বাংলাদেশে ডিগ্রি সমমানের, কখনো স্নাতক সমমানের একটি পরীক্ষা, যা একটি ফাজিল মাদ্রাসায় অনুষ্ঠিত হয়ে থাকে। তবে ভারতে ফাজিল পরীক্ষাকে উচ্চ মাধ্যমিক শ্রেণীর (১১ বা ১২ ক্লাস) মান বলে বিবেচিত করা হয়। ফাজিল পরীক্ষা বাংলাদেশ ভারত ও পাকিস্তানের সরকারি স্বীকৃত আলিয়া মাদরাসায় প্রচলিত রয়েছে। বাংলাদেশের ফাজিল পরীক্ষা ইসলামি আরবি বিশ্ববিদ্যালয়ের অধীনে অনুষ্ঠিত হয়ে থাকে ও ভারতের ফাজিল পরীক্ষা পশ্চিমবঙ্গ মাদ্রাসা শিক্ষা পর্ষদের অধীনে অনুষ্ঠিত হয়ে থাকে।\\n\\n১৯৪৭ সালে ঢাকা আলিয়া মাদ্রাসা ঢাকায় স্থানান্তরের পূর্বে বাংলাদেশ ও ভারতের ফাজিল পরীক্ষা কলকাতা আলিয়া মাদ্রাসার অধীনে অনুষ্ঠিত হতো। ফাযিল পরীক্ষা বর্তমানে ইসলামি আরবী বিশ্ববিদ্যালয়ের অধীনে অনুষ্ঠিত হয়। যা পূর্বে মাদরাসা বোর্ড ও ইসলামি বিশ্ববিদ্যালয়ের আধীনে অনুষ্ঠিত হত। মাদ্রাসা-ই-আলিয়া ঢাকায় স্থানান্তরিত হলে ১৯৪৮ সালে মাদ্রাসা বোর্ডের ফাজিলগুলো পরীক্ষা ঢাকা বিশ্ববিদ্যালয় কর্তৃক গৃহীত হতো। ১৯৭৫ সালের কুদরত-এ-খুদা শিক্ষা কমিশনের সুপারিশে মাদ্রাসা বোর্ড নিয়ন্ত্রিত আলিয়া মাদ্রাসাসমূহে জাতীয় শিক্ষাক্রম ও বহুমুখী পাঠ্যসূচি প্রবর্তিত করা হয়। ১৯৮০ সালে অনুষ্ঠিত ফাজিল পরীক্ষায় এই পাঠ্যসুচী কার্যকর হয়। এই শিক্ষা কমিশন অনুসারে ফাজিল শ্রেণীতে ইসলামি শিক্ষার পাশাপাশি সাধারণ পাঠ্যসূচী অন্তর্ভুক্ত করে ফাজিল পরীক্ষাকে সাধারণ উচ্চ মাধ্যমিক এইচ এস সির সমমান ঘোষণা করা হয়।\\n\\n১৯৭৮ সালে অধ্যাপক মুস্তফা বিন কাসিমের নেতৃত্বে সিনিয়র মাদ্রাসা শিক্ষা ব্যবস্থা কমিটি গঠিত হয়। এই কমিটির নির্দেশনায় ১৯৮৪ সালে সাধারণ শিক্ষার স্তরের সঙ্গে বাংলাদেশ মাদ্রাসা বোর্ড নিয়ন্ত্রিত আলিয়া মাদ্রাসা শিক্ষা স্তরের সামঞ্জস্য করা হয়। ফাজিল স্তরকে ২ বছর মেয়াদী কোর্সে উন্নিত করে, মোট ১৬ বছর ব্যাপী আলিয়া মাদ্রাসার পূর্ণাঙ্গ আধুনিক শিক্ষা ব্যবস্থা প্রবর্তন করা হয়। এই কমিশনের মাধ্যমেই সরকার ফাজিল পরীক্ষাকে সাধারণ ডিগ্রি মান ঘোষণা করে।',\n",
       " 'title': 'ফাজিল পরীক্ষা',\n",
       " 'qas': [{'question_id': 'bn_wiki_2977_01',\n",
       "   'question_text': 'ফাজিল পরীক্ষা বাংলাদেশ ও ভারতের আলিয়া মাদ্রাসায় অনুষ্ঠিত একটি সরকারি পরীক্ষা ?',\n",
       "   'is_answerable': '1',\n",
       "   'question_type': 'confirmation',\n",
       "   'answers': {'answer_text': ['হ্যাঁ', 'হ্যাঁ '],\n",
       "    'answer_type': ['yes/no', 'yes/no']}},\n",
       "  {'question_id': 'bn_wiki_2977_02',\n",
       "   'question_text': ' বাংলাদেশের ফাজিল পরীক্ষা ইসলামি আরবি বিশ্ববিদ্যালয়ের অধীনে অনুষ্ঠিত হয়ে থাকে কেন ?',\n",
       "   'is_answerable': '0',\n",
       "   'question_type': 'causal',\n",
       "   'answers': {'answer_text': ['', ''], 'answer_type': ['', '']}},\n",
       "  {'question_id': 'bn_wiki_2977_03',\n",
       "   'question_text': 'কত সালে ঢাকা আলিয়া মাদ্রাসা ঢাকায় স্থানান্তরের পূর্বে বাংলাদেশ ও ভারতের ফাজিল পরীক্ষা কলকাতা আলিয়া মাদ্রাসার অধীনে অনুষ্ঠিত হতো ?',\n",
       "   'is_answerable': '1',\n",
       "   'question_type': 'factoid',\n",
       "   'answers': {'answer_text': ['১৯৪৭', '১৯৪৭'],\n",
       "    'answer_type': ['single span', 'single span']}},\n",
       "  {'question_id': 'bn_wiki_2977_04',\n",
       "   'question_text': 'মাদ্রাসা-ই-আলিয়া ঢাকায় স্থানান্তরিত হলে কত সালে মাদ্রাসা বোর্ডের ফাজিলগুলো পরীক্ষা ঢাকা বিশ্ববিদ্যালয় কর্তৃক গৃহীত হতো ?',\n",
       "   'is_answerable': '1',\n",
       "   'question_type': 'factoid',\n",
       "   'answers': {'answer_text': ['১৯৪৮', '১৯৪৮'],\n",
       "    'answer_type': ['single span', 'single span']}},\n",
       "  {'question_id': 'bn_wiki_2977_05',\n",
       "   'question_text': 'মোট কত বছর ব্যাপী আলিয়া মাদ্রাসার পূর্ণাঙ্গ আধুনিক শিক্ষা ব্যবস্থা প্রবর্তন করা হয় ?',\n",
       "   'is_answerable': '1',\n",
       "   'question_type': 'factoid',\n",
       "   'answers': {'answer_text': ['১৬', '১৬'],\n",
       "    'answer_type': ['single span', 'single span']}}]}"
      ]
     },
     "execution_count": 15,
     "metadata": {},
     "output_type": "execute_result"
    }
   ],
   "source": [
    "data[0]"
   ]
  },
  {
   "cell_type": "code",
   "execution_count": null,
   "metadata": {},
   "outputs": [],
   "source": []
  },
  {
   "cell_type": "code",
   "execution_count": 16,
   "metadata": {
    "id": "yJwu3VU9fP10"
   },
   "outputs": [],
   "source": [
    "import pandas\n",
    "\n",
    "context = []\n",
    "question = []\n",
    "answer = []\n",
    "\n",
    "\n",
    "path = \"C:/Users/RAZER/Documents/Sartaj/new_data/New_data.csv\"\n",
    "\n",
    "df = pandas.read_csv(path)\n",
    "df = df.dropna()\n",
    "context = list(df['Context'])\n",
    "question = list(df['Question'])\n",
    "answer = list(df['Answer'])\n",
    "\n",
    "\n",
    "\n",
    "\n",
    "for i in range(len(data)):\n",
    "    for j in range(len(data[i]['qas'])):\n",
    "        context.append(normalize(data[i]['context']))\n",
    "        question.append(normalize(data[i]['qas'][j]['question_text']))\n",
    "        answer.append(normalize(data[i]['qas'][j]['answers']['answer_text'][0]))"
   ]
  },
  {
   "cell_type": "code",
   "execution_count": 18,
   "metadata": {
    "colab": {
     "base_uri": "https://localhost:8080/"
    },
    "executionInfo": {
     "elapsed": 834,
     "status": "ok",
     "timestamp": 1661622248042,
     "user": {
      "displayName": "Mukta's Cuisine",
      "userId": "09477569564665203851"
     },
     "user_tz": -360
    },
    "id": "Ov0NOLtMfP11",
    "outputId": "e8921339-225b-4574-96ea-c33a26aaa0c0"
   },
   "outputs": [
    {
     "name": "stdout",
     "output_type": "stream",
     "text": [
      "23951\n",
      "23951\n",
      "23951\n"
     ]
    }
   ],
   "source": [
    "print(len(context))\n",
    "print(len(question))\n",
    "print(len(answer))"
   ]
  },
  {
   "cell_type": "code",
   "execution_count": 19,
   "metadata": {
    "id": "fU_OMmyiO1xn"
   },
   "outputs": [],
   "source": [
    "# encoding the inputs and outputs\n",
    "\n",
    "train_encodings = tokenizer(question, context, max_length=1024, padding=\"max_length\", truncation=\"only_second\", return_attention_mask=True, add_special_tokens=True, return_tensors=\"pt\")\n",
    "train_answer_encodings = tokenizer(answer, max_length=256, padding=\"max_length\", truncation=True, return_attention_mask=True, add_special_tokens=True, return_tensors=\"pt\")"
   ]
  },
  {
   "cell_type": "code",
   "execution_count": 20,
   "metadata": {
    "id": "eljdsKmjO632"
   },
   "outputs": [],
   "source": [
    "train_answer_encodings = train_answer_encodings['input_ids']\n",
    "train_answer_encodings[train_answer_encodings==0] = -100"
   ]
  },
  {
   "cell_type": "code",
   "execution_count": 21,
   "metadata": {
    "id": "GJrek8jAWD2S"
   },
   "outputs": [],
   "source": [
    "train_encodings.update({'train_answer_encodings': train_answer_encodings})"
   ]
  },
  {
   "cell_type": "code",
   "execution_count": 22,
   "metadata": {
    "colab": {
     "base_uri": "https://localhost:8080/"
    },
    "executionInfo": {
     "elapsed": 14,
     "status": "ok",
     "timestamp": 1661622270279,
     "user": {
      "displayName": "Mukta's Cuisine",
      "userId": "09477569564665203851"
     },
     "user_tz": -360
    },
    "id": "i86i2JKE4ER9",
    "outputId": "2f0f6303-3ebc-4bd9-93db-3b9f01ada653"
   },
   "outputs": [
    {
     "data": {
      "text/plain": [
       "{'input_ids': tensor([[ 1456,  1681,  4186,  ...,     0,     0,     0],\n",
       "        [ 1998,  3442, 24240,  ...,     0,     0,     0],\n",
       "        [   96,    14, 18309,  ...,     0,     0,     0],\n",
       "        ...,\n",
       "        [  265,     8,   398,  ...,     0,     0,     0],\n",
       "        [ 1119,   845,  1103,  ...,     0,     0,     0],\n",
       "        [ 1119,   845,  1103,  ...,     0,     0,     0]]), 'attention_mask': tensor([[1, 1, 1,  ..., 0, 0, 0],\n",
       "        [1, 1, 1,  ..., 0, 0, 0],\n",
       "        [1, 1, 1,  ..., 0, 0, 0],\n",
       "        ...,\n",
       "        [1, 1, 1,  ..., 0, 0, 0],\n",
       "        [1, 1, 1,  ..., 0, 0, 0],\n",
       "        [1, 1, 1,  ..., 0, 0, 0]]), 'train_answer_encodings': tensor([[ 1018,  1542,     1,  ...,  -100,  -100,  -100],\n",
       "        [ 5549,    57, 15357,  ...,  -100,  -100,  -100],\n",
       "        [27073,    58,  5851,  ...,  -100,  -100,  -100],\n",
       "        ...,\n",
       "        [  503, 12897,   584,  ...,  -100,  -100,  -100],\n",
       "        [    1,  -100,  -100,  ...,  -100,  -100,  -100],\n",
       "        [    1,  -100,  -100,  ...,  -100,  -100,  -100]])}"
      ]
     },
     "execution_count": 22,
     "metadata": {},
     "output_type": "execute_result"
    }
   ],
   "source": [
    "train_encodings"
   ]
  },
  {
   "cell_type": "code",
   "execution_count": 23,
   "metadata": {
    "colab": {
     "base_uri": "https://localhost:8080/"
    },
    "executionInfo": {
     "elapsed": 908,
     "status": "ok",
     "timestamp": 1661622271178,
     "user": {
      "displayName": "Mukta's Cuisine",
      "userId": "09477569564665203851"
     },
     "user_tz": -360
    },
    "id": "xeifNjaw6waP",
    "outputId": "a53d2fe2-ea69-4fb3-995a-e580131ea60c"
   },
   "outputs": [
    {
     "data": {
      "text/plain": [
       "dict_keys(['data'])"
      ]
     },
     "execution_count": 23,
     "metadata": {},
     "output_type": "execute_result"
    }
   ],
   "source": [
    "# Loading the validation set of BanglaRQA\n",
    "\n",
    "import json\n",
    "import os\n",
    "\n",
    "f_val = open(os.path.join(base,validation_file_name))\n",
    "  \n",
    "data_val = json.load(f_val)\n",
    "\n",
    "data_val.keys()\n",
    "  "
   ]
  },
  {
   "cell_type": "code",
   "execution_count": 24,
   "metadata": {
    "id": "ezRSAOGB7Cpk"
   },
   "outputs": [],
   "source": [
    "data_val = data_val['data']"
   ]
  },
  {
   "cell_type": "code",
   "execution_count": 25,
   "metadata": {
    "id": "qBJ9TEED6Z-g"
   },
   "outputs": [],
   "source": [
    "context_val = []\n",
    "question_val = []\n",
    "answer_val = []\n",
    "\n",
    "for i in range(len(data_val)):\n",
    "    for j in range(len(data_val[i]['qas'])):\n",
    "        context_val.append(normalize(data_val[i]['context']))\n",
    "        question_val.append(normalize(data_val[i]['qas'][j]['question_text']))\n",
    "        answer_val.append(normalize(data_val[i]['qas'][j]['answers']['answer_text'][0]))"
   ]
  },
  {
   "cell_type": "code",
   "execution_count": 27,
   "metadata": {
    "colab": {
     "base_uri": "https://localhost:8080/",
     "height": 105
    },
    "executionInfo": {
     "elapsed": 22,
     "status": "ok",
     "timestamp": 1661622274121,
     "user": {
      "displayName": "Mukta's Cuisine",
      "userId": "09477569564665203851"
     },
     "user_tz": -360
    },
    "id": "iQ3zw34p7Q_R",
    "outputId": "f6c63954-7907-4715-ab6a-2fc9499644d2"
   },
   "outputs": [
    {
     "data": {
      "text/plain": [
       "'আস্যাইরিয়ান ও ব্যাবলিয়ান সাহিত্যে সরগন তার অবনমিত অবস্থান থেকে ক্ষমতায় উত্থান ও মেসোপটেমিয়া অভিযানের জন্য কিংবদন্তি গল্পের মুল উপজীব্যে পরিনত হয়েছিলেন, এরকম আরও কিছু কিছু আংশিক কিংবদন্তী উপাখ্যান ছাড়াও সারগনের খোদ নিজের অনেক লিপি আছে যদিও তার বেশিরভাগ পরবর্তী সংস্করনগুলি থেকে নেওয়া। ল্যুভর জাদুঘরে দুটি সারগনিক বিজয় ফলক এর অংশবিশেষ আছে যা সুসা (যেখানে এগুলি খুব সম্ভবত মেসোপটেমিয়া ত্থেকে দ্বাদশ শতাব্দীতে স্থানান্তরিত করা হয়েছিল) থেকে পুনঃউদ্ধার করা হয়েছিল। দৃশ্যত সরগন সেমেটিক (আক্কাদীয়ান) ভাষার লিপির লিখিত আকারে প্রসার ঘটিয়েছিলেন, তিনি আক্কাদ শহর প্রতিষ্ঠিত করার প্রথমদিকে নিজেকে প্রায়শয়ই আক্কাদীয়ান রাজা হিসিবে প্রচার করতেন, পরে তিনি কোন এক সময় কিস শহর অধিগ্রহণ করে নেন, পরবর্তীতে মেসোপটেমিয়ার বৃহদাংশও দখল করে নেন, এবং ক্রমে ক্রমে \"সরগন, আক্কদীয়ান রাজা, ইনান্নার তত্ত্বাবধায়ক, কিস এর রাজা, আনুর স্থলাভিষিক্ত, রাজ্যের[মেসোপটেমিয়া] রাজা, এনলিলের রাজ্যপাল[এনসি]\" নামে নিজেকে প্রচার করে ছিলেন। যদিও সুমেরিয়ান রাজাদের তালিকার অনেক অনুলিপিতে সারগনের শাসনকাল ৫৬, ৫৫ বা ৫৪ বছর বলা হয়েছে, কিন্তু তারিখ সংবলিত নথি অনুযায়ী তার আসল শাসনকালের শুধুমাত্র ৪ টি ভিন্ন ভিন্ন বছরের উল্লেখ পাওয়া যায়, এই চার শাসন-বছরে তিনি এলাম, মারি, সিমুররাম(একটি হুঋয়ান অঞ্চল) এবং উরুয়ার (একটি এলামিটে নগররাষ্ট্র) বিরুদ্ধে অভিযান পরিচালনা করেন বলে বিবরন পাওয়া যায়। সারগনের শাসনামলে, কীলকাকার লিপির জন্য পূর্ব সেমেটিক ভাষাকে প্রমিতকরণ ও স্বীকৃতকরণ করা হয়েছিল, যা পূর্বে সুমেরিয়ান ভাষার সাথে ব্যবহৃত হত এবং বর্তমানের \\'আক্কাদীয়ান ভাষা\\' হিসেবে প্রচলিত।মাটির ফলক ও স্তম্ভে, পুরাণ এবং ধর্মীয় আচার-অনুষ্ঠানের দৃশ্য প্রথিত করার এক শিল্পস্বরুপহস্তলিপি (ক্যালিগ্রাফি) এই সময়ে বিকশিত হয়েছিল।'"
      ]
     },
     "execution_count": 27,
     "metadata": {},
     "output_type": "execute_result"
    }
   ],
   "source": [
    "context_val[0]"
   ]
  },
  {
   "cell_type": "code",
   "execution_count": 28,
   "metadata": {
    "id": "WDgGfxJy7YPe"
   },
   "outputs": [],
   "source": [
    "from collections import Counter\n",
    "\n",
    "# these functions are heavily influenced by the HF squad_metrics.py script\n",
    "def normalize_text(s):\n",
    "    \"\"\"Removing articles and punctuation, and standardizing whitespace are all typical text processing steps.\"\"\"\n",
    "    import string, re\n",
    "\n",
    "    def remove_articles(text):\n",
    "        regex = re.compile(r\"\\b(a|an|the)\\b\", re.UNICODE)\n",
    "        return re.sub(regex, \" \", text)\n",
    "\n",
    "    def white_space_fix(text):\n",
    "        return \" \".join(text.split())\n",
    "\n",
    "    def remove_punc(text):\n",
    "        exclude = set(string.punctuation)\n",
    "        return \"\".join(ch for ch in text if ch not in exclude)\n",
    "\n",
    "    def lower(text):\n",
    "        return text.lower()\n",
    "\n",
    "    return white_space_fix(remove_articles(remove_punc(lower(s))))\n",
    "\n",
    "def compute_exact_match(prediction, truth):\n",
    "    return int(normalize_text(prediction) == normalize_text(truth))\n",
    "\n",
    "def compute_f1(prediction, truth):\n",
    "    pred_tokens = normalize_text(prediction).split()\n",
    "    truth_tokens = normalize_text(truth).split()\n",
    "    \n",
    "    # if either the prediction or the truth is no-answer then f1 = 1 if they agree, 0 otherwise\n",
    "    if len(pred_tokens) == 0 or len(truth_tokens) == 0:\n",
    "        return int(pred_tokens == truth_tokens)\n",
    "    \n",
    "    common_tokens = Counter(pred_tokens) & Counter(truth_tokens)\n",
    "    common_tokens = sum(common_tokens.values())\n",
    "    \n",
    "    # if there are no common tokens then f1 = 0\n",
    "    if common_tokens == 0:\n",
    "        return 0\n",
    "    \n",
    "    prec = 1.0 * common_tokens / len(pred_tokens)\n",
    "    rec = 1.0 * common_tokens / len(truth_tokens)\n",
    "    \n",
    "    return 2 * (prec * rec) / (prec + rec)\n"
   ]
  },
  {
   "cell_type": "code",
   "execution_count": 29,
   "metadata": {
    "id": "h6PGmcol7cOD"
   },
   "outputs": [],
   "source": [
    "import numpy\n",
    "\n",
    "def get_answer(question,context):\n",
    "  source_encoding=tokenizer(\n",
    "    question,\n",
    "    context,\n",
    "    max_length=1024,\n",
    "    padding=\"max_length\",\n",
    "    truncation=\"only_second\",\n",
    "    return_attention_mask=True,\n",
    "    add_special_tokens=True,\n",
    "    return_tensors=\"pt\").to(device)\n",
    "  \n",
    "  #print(source_encoding)\n",
    "  \n",
    "  generated_ids=model.generate(\n",
    "      input_ids=source_encoding[\"input_ids\"],\n",
    "      attention_mask=source_encoding[\"attention_mask\"],\n",
    "      num_beams = 1,\n",
    "      max_length=256,\n",
    "      repetition_penalty=2.5,\n",
    "      length_penalty=1.0,\n",
    "      early_stopping= True,\n",
    "      use_cache = True,\n",
    "  )\n",
    "  \n",
    "  #print(generated_ids)\n",
    "\n",
    "  preds=[tokenizer.decode(gen_id, skip_special_tokens=True, clean_up_tokenization_spaces=True) for gen_id in generated_ids]\n",
    "\n",
    "  return \"\".join(preds), generated_ids"
   ]
  },
  {
   "cell_type": "code",
   "execution_count": 30,
   "metadata": {
    "id": "9I73spC1VZSo"
   },
   "outputs": [],
   "source": [
    "import torch\n",
    "\n",
    "class BanglaRQADataset(torch.utils.data.Dataset):\n",
    "    def __init__(self, encodings):\n",
    "        self.encodings = encodings\n",
    "\n",
    "    def __getitem__(self, idx):\n",
    "        return {key: torch.tensor(val[idx]) for key, val in self.encodings.items()}\n",
    "\n",
    "    def __len__(self):\n",
    "        return len(self.encodings.input_ids)\n",
    "\n",
    "# build datasets for both our training and validation sets\n",
    "train_dataset = BanglaRQADataset(train_encodings)"
   ]
  },
  {
   "cell_type": "code",
   "execution_count": null,
   "metadata": {
    "colab": {
     "base_uri": "https://localhost:8080/"
    },
    "executionInfo": {
     "elapsed": 265421,
     "status": "ok",
     "timestamp": 1661667996717,
     "user": {
      "displayName": "Mukta's Cuisine",
      "userId": "09477569564665203851"
     },
     "user_tz": -360
    },
    "id": "-fYTN2eJPFv0",
    "outputId": "696c601a-da4a-440a-cfb6-9ed8e07d9369"
   },
   "outputs": [
    {
     "name": "stderr",
     "output_type": "stream",
     "text": [
      "C:\\Users\\RAZER\\anaconda3\\envs\\TitanoBoa\\lib\\site-packages\\transformers\\optimization.py:407: FutureWarning: This implementation of AdamW is deprecated and will be removed in a future version. Use the PyTorch implementation torch.optim.AdamW instead, or set `no_deprecation_warning=True` to disable this warning\n",
      "  warnings.warn(\n",
      "  0%|          | 0/11976 [00:00<?, ?it/s]C:\\Users\\RAZER\\AppData\\Local\\Temp\\ipykernel_79260\\4134177422.py:8: UserWarning: To copy construct from a tensor, it is recommended to use sourceTensor.clone().detach() or sourceTensor.clone().detach().requires_grad_(True), rather than torch.tensor(sourceTensor).\n",
      "  return {key: torch.tensor(val[idx]) for key, val in self.encodings.items()}\n",
      "Epoch 0: 100%|██████████| 11976/11976 [1:37:09<00:00,  2.05it/s, loss=3.7]  \n"
     ]
    },
    {
     "name": "stdout",
     "output_type": "stream",
     "text": [
      "Epoch 0\n",
      "F1:  0.24123989218328842\n",
      "EM:  0.24123989218328842\n"
     ]
    },
    {
     "name": "stderr",
     "output_type": "stream",
     "text": [
      "Epoch 1: 100%|██████████| 11976/11976 [3:51:45<00:00,  1.16s/it, loss=2.18]       \n"
     ]
    },
    {
     "name": "stdout",
     "output_type": "stream",
     "text": [
      "Epoch 1\n",
      "F1:  0.5548486146526651\n",
      "EM:  0.42452830188679247\n"
     ]
    },
    {
     "name": "stderr",
     "output_type": "stream",
     "text": [
      "Epoch 2: 100%|██████████| 11976/11976 [1:36:38<00:00,  2.07it/s, loss=0.0702] \n"
     ]
    },
    {
     "name": "stdout",
     "output_type": "stream",
     "text": [
      "Epoch 2\n",
      "F1:  0.702669918887276\n",
      "EM:  0.5357142857142857\n"
     ]
    },
    {
     "name": "stderr",
     "output_type": "stream",
     "text": [
      "Epoch 3: 100%|██████████| 11976/11976 [1:36:53<00:00,  2.06it/s, loss=1.72]    \n"
     ]
    },
    {
     "name": "stdout",
     "output_type": "stream",
     "text": [
      "Epoch 3\n",
      "F1:  0.7524386674597965\n",
      "EM:  0.5673854447439353\n"
     ]
    },
    {
     "name": "stderr",
     "output_type": "stream",
     "text": [
      "Epoch 4: 100%|██████████| 11976/11976 [1:37:07<00:00,  2.05it/s, loss=0.00372] \n"
     ]
    },
    {
     "name": "stdout",
     "output_type": "stream",
     "text": [
      "Epoch 4\n",
      "F1:  0.753124354117918\n",
      "EM:  0.5680592991913747\n"
     ]
    },
    {
     "name": "stderr",
     "output_type": "stream",
     "text": [
      "Epoch 5: 100%|██████████| 11976/11976 [1:36:17<00:00,  2.07it/s, loss=0.103]   \n"
     ]
    },
    {
     "name": "stdout",
     "output_type": "stream",
     "text": [
      "Epoch 5\n",
      "F1:  0.7735247745658503\n",
      "EM:  0.5923180592991913\n"
     ]
    },
    {
     "name": "stderr",
     "output_type": "stream",
     "text": [
      "Epoch 6: 100%|██████████| 11976/11976 [1:36:14<00:00,  2.07it/s, loss=0.0054]  \n"
     ]
    },
    {
     "name": "stdout",
     "output_type": "stream",
     "text": [
      "Epoch 6\n",
      "F1:  0.7825225146593802\n",
      "EM:  0.6064690026954178\n"
     ]
    },
    {
     "name": "stderr",
     "output_type": "stream",
     "text": [
      "Epoch 7: 100%|██████████| 11976/11976 [1:36:17<00:00,  2.07it/s, loss=0.000189]\n"
     ]
    },
    {
     "name": "stdout",
     "output_type": "stream",
     "text": [
      "Epoch 7\n",
      "F1:  0.7685402481974268\n",
      "EM:  0.5889487870619946\n"
     ]
    },
    {
     "name": "stderr",
     "output_type": "stream",
     "text": [
      "Epoch 8: 100%|██████████| 11976/11976 [6:02:49<00:00,  1.82s/it, loss=0.00173]     \n"
     ]
    }
   ],
   "source": [
    "# Training part \n",
    "# no of epoch = 15\n",
    "# opimizer = Adam\n",
    "# at every epoch EM and F1 scores were calculated on validation set of BanglaRQA\n",
    "# at every epoch model was also saved\n",
    "\n",
    "\n",
    "from torch.utils.data import DataLoader\n",
    "from transformers import AdamW\n",
    "from tqdm import tqdm\n",
    "\n",
    "# setup GPU/CPU\n",
    "device = torch.device('cuda') if torch.cuda.is_available() else torch.device('cpu')\n",
    "# move model over to detected device\n",
    "model.to(device)\n",
    "# activate training mode of model\n",
    "model.train()\n",
    "# initialize adam optimizer with weight decay (reduces chance of overfitting)\n",
    "optim = AdamW(model.parameters(), lr=5e-5)\n",
    "\n",
    "# initialize data loader for training data\n",
    "train_loader = DataLoader(train_dataset, batch_size=2, shuffle=True)\n",
    "\n",
    "for epoch in range(15):\n",
    "    # set model to train mode\n",
    "    model.train()\n",
    "    model_name = 'model_weights_epoch_' + str(epoch) + '.pth'\n",
    "    # setup loop (we use tqdm for the progress bar)\n",
    "    loop = tqdm(train_loader, leave=True)\n",
    "    for batch in loop:\n",
    "        # initialize calculated gradients (from prev step)\n",
    "        \n",
    "        \n",
    "\n",
    "        optim.zero_grad()\n",
    "        # pull all the tensor batches required for training\n",
    "        input_ids = batch['input_ids'].to(device)\n",
    "        attention_mask = batch['attention_mask'].to(device)\n",
    "        labels = batch['train_answer_encodings'].to(device)\n",
    "        outputs = model(input_ids=input_ids, \n",
    "                          attention_mask=attention_mask, \n",
    "                            labels = labels)\n",
    "        \n",
    "        # extract loss\n",
    "        loss = outputs[0]\n",
    "        # calculate loss for every parameter that needs grad update \n",
    "        loss.backward()\n",
    "        # update parameters\n",
    "        optim.step()\n",
    "        # print relevant info to progress bar\n",
    "        loop.set_description(f'Epoch {epoch}')\n",
    "        loop.set_postfix(loss=loss.item())\n",
    "    torch.save({\n",
    "        'epoch': epoch,\n",
    "        'model_state_dict': model.state_dict(),\n",
    "        'optimizer_state_dict': optim.state_dict(),\n",
    "        'loss': loss,\n",
    "        \n",
    "        }, os.path.join(checkpoint_dir,model_name))\n",
    "    \n",
    "    optim.zero_grad()\n",
    "    model.eval()\n",
    "    f1_total = 0.0\n",
    "    em_total = 0.0\n",
    "\n",
    "    with torch.no_grad():\n",
    "      l = len(context_val)\n",
    "      for i in range(l):\n",
    "          question = {\n",
    "              \"context\": context_val[i],\n",
    "              \"question\": question_val[i]\n",
    "              }\n",
    "\n",
    "          pred, ids = get_answer(question[\"question\"],question[\"context\"])\n",
    "          f1_total = f1_total + compute_f1(pred, answer_val[i])\n",
    "          em_total = em_total + compute_exact_match(pred, answer_val[i])\n",
    "\n",
    "      print(\"Epoch\", epoch)\n",
    "      print('F1: ', f1_total/l)\n",
    "      print('EM: ', em_total/l)  "
   ]
  },
  {
   "cell_type": "code",
   "execution_count": null,
   "metadata": {},
   "outputs": [],
   "source": []
  }
 ],
 "metadata": {
  "accelerator": "GPU",
  "colab": {
   "background_execution": "on",
   "collapsed_sections": [],
   "machine_shape": "hm",
   "name": "BanglaRQA_Training.ipynb",
   "provenance": []
  },
  "gpuClass": "standard",
  "kernelspec": {
   "display_name": "Python 3 (ipykernel)",
   "language": "python",
   "name": "python3"
  },
  "language_info": {
   "codemirror_mode": {
    "name": "ipython",
    "version": 3
   },
   "file_extension": ".py",
   "mimetype": "text/x-python",
   "name": "python",
   "nbconvert_exporter": "python",
   "pygments_lexer": "ipython3",
   "version": "3.9.15"
  },
  "widgets": {
   "application/vnd.jupyter.widget-state+json": {
    "0ac9fe4b06cc40078428fc3bfdff884d": {
     "model_module": "@jupyter-widgets/controls",
     "model_module_version": "1.5.0",
     "model_name": "DescriptionStyleModel",
     "state": {
      "_model_module": "@jupyter-widgets/controls",
      "_model_module_version": "1.5.0",
      "_model_name": "DescriptionStyleModel",
      "_view_count": null,
      "_view_module": "@jupyter-widgets/base",
      "_view_module_version": "1.2.0",
      "_view_name": "StyleView",
      "description_width": ""
     }
    },
    "0ffddd64ccb94c5183d13cbe0f13620f": {
     "model_module": "@jupyter-widgets/controls",
     "model_module_version": "1.5.0",
     "model_name": "HTMLModel",
     "state": {
      "_dom_classes": [],
      "_model_module": "@jupyter-widgets/controls",
      "_model_module_version": "1.5.0",
      "_model_name": "HTMLModel",
      "_view_count": null,
      "_view_module": "@jupyter-widgets/controls",
      "_view_module_version": "1.5.0",
      "_view_name": "HTMLView",
      "description": "",
      "description_tooltip": null,
      "layout": "IPY_MODEL_1d2624eefc9f4e408d2e5df7d2c5db8f",
      "placeholder": "​",
      "style": "IPY_MODEL_da7d3398a4c74c03bf57b013617b218e",
      "value": " 1.74k/1.74k [00:00&lt;00:00, 68.6kB/s]"
     }
    },
    "14d9c19ddffb47cea2130c7e4b983e72": {
     "model_module": "@jupyter-widgets/controls",
     "model_module_version": "1.5.0",
     "model_name": "ProgressStyleModel",
     "state": {
      "_model_module": "@jupyter-widgets/controls",
      "_model_module_version": "1.5.0",
      "_model_name": "ProgressStyleModel",
      "_view_count": null,
      "_view_module": "@jupyter-widgets/base",
      "_view_module_version": "1.2.0",
      "_view_name": "StyleView",
      "bar_color": null,
      "description_width": ""
     }
    },
    "1d2624eefc9f4e408d2e5df7d2c5db8f": {
     "model_module": "@jupyter-widgets/base",
     "model_module_version": "1.2.0",
     "model_name": "LayoutModel",
     "state": {
      "_model_module": "@jupyter-widgets/base",
      "_model_module_version": "1.2.0",
      "_model_name": "LayoutModel",
      "_view_count": null,
      "_view_module": "@jupyter-widgets/base",
      "_view_module_version": "1.2.0",
      "_view_name": "LayoutView",
      "align_content": null,
      "align_items": null,
      "align_self": null,
      "border": null,
      "bottom": null,
      "display": null,
      "flex": null,
      "flex_flow": null,
      "grid_area": null,
      "grid_auto_columns": null,
      "grid_auto_flow": null,
      "grid_auto_rows": null,
      "grid_column": null,
      "grid_gap": null,
      "grid_row": null,
      "grid_template_areas": null,
      "grid_template_columns": null,
      "grid_template_rows": null,
      "height": null,
      "justify_content": null,
      "justify_items": null,
      "left": null,
      "margin": null,
      "max_height": null,
      "max_width": null,
      "min_height": null,
      "min_width": null,
      "object_fit": null,
      "object_position": null,
      "order": null,
      "overflow": null,
      "overflow_x": null,
      "overflow_y": null,
      "padding": null,
      "right": null,
      "top": null,
      "visibility": null,
      "width": null
     }
    },
    "1fed79e6f7d541699ce59acf155c126f": {
     "model_module": "@jupyter-widgets/controls",
     "model_module_version": "1.5.0",
     "model_name": "FloatProgressModel",
     "state": {
      "_dom_classes": [],
      "_model_module": "@jupyter-widgets/controls",
      "_model_module_version": "1.5.0",
      "_model_name": "FloatProgressModel",
      "_view_count": null,
      "_view_module": "@jupyter-widgets/controls",
      "_view_module_version": "1.5.0",
      "_view_name": "ProgressView",
      "bar_style": "success",
      "description": "",
      "description_tooltip": null,
      "layout": "IPY_MODEL_411668f7d85f4319bf74a979c778c284",
      "max": 1786,
      "min": 0,
      "orientation": "horizontal",
      "style": "IPY_MODEL_52e7bbfadff44594820cc46af2b9f077",
      "value": 1786
     }
    },
    "20618a489eb842729828a70961752951": {
     "model_module": "@jupyter-widgets/base",
     "model_module_version": "1.2.0",
     "model_name": "LayoutModel",
     "state": {
      "_model_module": "@jupyter-widgets/base",
      "_model_module_version": "1.2.0",
      "_model_name": "LayoutModel",
      "_view_count": null,
      "_view_module": "@jupyter-widgets/base",
      "_view_module_version": "1.2.0",
      "_view_name": "LayoutView",
      "align_content": null,
      "align_items": null,
      "align_self": null,
      "border": null,
      "bottom": null,
      "display": null,
      "flex": null,
      "flex_flow": null,
      "grid_area": null,
      "grid_auto_columns": null,
      "grid_auto_flow": null,
      "grid_auto_rows": null,
      "grid_column": null,
      "grid_gap": null,
      "grid_row": null,
      "grid_template_areas": null,
      "grid_template_columns": null,
      "grid_template_rows": null,
      "height": null,
      "justify_content": null,
      "justify_items": null,
      "left": null,
      "margin": null,
      "max_height": null,
      "max_width": null,
      "min_height": null,
      "min_width": null,
      "object_fit": null,
      "object_position": null,
      "order": null,
      "overflow": null,
      "overflow_x": null,
      "overflow_y": null,
      "padding": null,
      "right": null,
      "top": null,
      "visibility": null,
      "width": null
     }
    },
    "21a622cb9fe1409e856ddea510961df5": {
     "model_module": "@jupyter-widgets/controls",
     "model_module_version": "1.5.0",
     "model_name": "ProgressStyleModel",
     "state": {
      "_model_module": "@jupyter-widgets/controls",
      "_model_module_version": "1.5.0",
      "_model_name": "ProgressStyleModel",
      "_view_count": null,
      "_view_module": "@jupyter-widgets/base",
      "_view_module_version": "1.2.0",
      "_view_name": "StyleView",
      "bar_color": null,
      "description_width": ""
     }
    },
    "3231402a9a784d6588dba90cb34fbcb8": {
     "model_module": "@jupyter-widgets/controls",
     "model_module_version": "1.5.0",
     "model_name": "HBoxModel",
     "state": {
      "_dom_classes": [],
      "_model_module": "@jupyter-widgets/controls",
      "_model_module_version": "1.5.0",
      "_model_name": "HBoxModel",
      "_view_count": null,
      "_view_module": "@jupyter-widgets/controls",
      "_view_module_version": "1.5.0",
      "_view_name": "HBoxView",
      "box_style": "",
      "children": [
       "IPY_MODEL_70135d4b8cd54a289d0fa90648a0f94d",
       "IPY_MODEL_9f84ee1c23a6484c91b119ec1bb62807",
       "IPY_MODEL_62d4eb95cd3d4d1390dde86eb9614d7c"
      ],
      "layout": "IPY_MODEL_9c3e86a77197490c81899b4be90bb04f"
     }
    },
    "346c864c0dae4c7884a7f45a820a604b": {
     "model_module": "@jupyter-widgets/base",
     "model_module_version": "1.2.0",
     "model_name": "LayoutModel",
     "state": {
      "_model_module": "@jupyter-widgets/base",
      "_model_module_version": "1.2.0",
      "_model_name": "LayoutModel",
      "_view_count": null,
      "_view_module": "@jupyter-widgets/base",
      "_view_module_version": "1.2.0",
      "_view_name": "LayoutView",
      "align_content": null,
      "align_items": null,
      "align_self": null,
      "border": null,
      "bottom": null,
      "display": null,
      "flex": null,
      "flex_flow": null,
      "grid_area": null,
      "grid_auto_columns": null,
      "grid_auto_flow": null,
      "grid_auto_rows": null,
      "grid_column": null,
      "grid_gap": null,
      "grid_row": null,
      "grid_template_areas": null,
      "grid_template_columns": null,
      "grid_template_rows": null,
      "height": null,
      "justify_content": null,
      "justify_items": null,
      "left": null,
      "margin": null,
      "max_height": null,
      "max_width": null,
      "min_height": null,
      "min_width": null,
      "object_fit": null,
      "object_position": null,
      "order": null,
      "overflow": null,
      "overflow_x": null,
      "overflow_y": null,
      "padding": null,
      "right": null,
      "top": null,
      "visibility": null,
      "width": null
     }
    },
    "369daf1bf4c74da9bfa8665f80e6b137": {
     "model_module": "@jupyter-widgets/base",
     "model_module_version": "1.2.0",
     "model_name": "LayoutModel",
     "state": {
      "_model_module": "@jupyter-widgets/base",
      "_model_module_version": "1.2.0",
      "_model_name": "LayoutModel",
      "_view_count": null,
      "_view_module": "@jupyter-widgets/base",
      "_view_module_version": "1.2.0",
      "_view_name": "LayoutView",
      "align_content": null,
      "align_items": null,
      "align_self": null,
      "border": null,
      "bottom": null,
      "display": null,
      "flex": null,
      "flex_flow": null,
      "grid_area": null,
      "grid_auto_columns": null,
      "grid_auto_flow": null,
      "grid_auto_rows": null,
      "grid_column": null,
      "grid_gap": null,
      "grid_row": null,
      "grid_template_areas": null,
      "grid_template_columns": null,
      "grid_template_rows": null,
      "height": null,
      "justify_content": null,
      "justify_items": null,
      "left": null,
      "margin": null,
      "max_height": null,
      "max_width": null,
      "min_height": null,
      "min_width": null,
      "object_fit": null,
      "object_position": null,
      "order": null,
      "overflow": null,
      "overflow_x": null,
      "overflow_y": null,
      "padding": null,
      "right": null,
      "top": null,
      "visibility": null,
      "width": null
     }
    },
    "376638383b2049878c003cedb9b46b43": {
     "model_module": "@jupyter-widgets/controls",
     "model_module_version": "1.5.0",
     "model_name": "DescriptionStyleModel",
     "state": {
      "_model_module": "@jupyter-widgets/controls",
      "_model_module_version": "1.5.0",
      "_model_name": "DescriptionStyleModel",
      "_view_count": null,
      "_view_module": "@jupyter-widgets/base",
      "_view_module_version": "1.2.0",
      "_view_name": "StyleView",
      "description_width": ""
     }
    },
    "39abd6a7e7cb483a960c7690a52e0ee8": {
     "model_module": "@jupyter-widgets/controls",
     "model_module_version": "1.5.0",
     "model_name": "ProgressStyleModel",
     "state": {
      "_model_module": "@jupyter-widgets/controls",
      "_model_module_version": "1.5.0",
      "_model_name": "ProgressStyleModel",
      "_view_count": null,
      "_view_module": "@jupyter-widgets/base",
      "_view_module_version": "1.2.0",
      "_view_name": "StyleView",
      "bar_color": null,
      "description_width": ""
     }
    },
    "3c7222c3562c4262950367a0c8dcbad0": {
     "model_module": "@jupyter-widgets/controls",
     "model_module_version": "1.5.0",
     "model_name": "DescriptionStyleModel",
     "state": {
      "_model_module": "@jupyter-widgets/controls",
      "_model_module_version": "1.5.0",
      "_model_name": "DescriptionStyleModel",
      "_view_count": null,
      "_view_module": "@jupyter-widgets/base",
      "_view_module_version": "1.2.0",
      "_view_name": "StyleView",
      "description_width": ""
     }
    },
    "3dc66634831b405f81e99d6d18e1e81c": {
     "model_module": "@jupyter-widgets/base",
     "model_module_version": "1.2.0",
     "model_name": "LayoutModel",
     "state": {
      "_model_module": "@jupyter-widgets/base",
      "_model_module_version": "1.2.0",
      "_model_name": "LayoutModel",
      "_view_count": null,
      "_view_module": "@jupyter-widgets/base",
      "_view_module_version": "1.2.0",
      "_view_name": "LayoutView",
      "align_content": null,
      "align_items": null,
      "align_self": null,
      "border": null,
      "bottom": null,
      "display": null,
      "flex": null,
      "flex_flow": null,
      "grid_area": null,
      "grid_auto_columns": null,
      "grid_auto_flow": null,
      "grid_auto_rows": null,
      "grid_column": null,
      "grid_gap": null,
      "grid_row": null,
      "grid_template_areas": null,
      "grid_template_columns": null,
      "grid_template_rows": null,
      "height": null,
      "justify_content": null,
      "justify_items": null,
      "left": null,
      "margin": null,
      "max_height": null,
      "max_width": null,
      "min_height": null,
      "min_width": null,
      "object_fit": null,
      "object_position": null,
      "order": null,
      "overflow": null,
      "overflow_x": null,
      "overflow_y": null,
      "padding": null,
      "right": null,
      "top": null,
      "visibility": null,
      "width": null
     }
    },
    "3e8e792cbed54a2db7ba337e9078d17d": {
     "model_module": "@jupyter-widgets/controls",
     "model_module_version": "1.5.0",
     "model_name": "FloatProgressModel",
     "state": {
      "_dom_classes": [],
      "_model_module": "@jupyter-widgets/controls",
      "_model_module_version": "1.5.0",
      "_model_name": "FloatProgressModel",
      "_view_count": null,
      "_view_module": "@jupyter-widgets/controls",
      "_view_module_version": "1.5.0",
      "_view_name": "ProgressView",
      "bar_style": "success",
      "description": "",
      "description_tooltip": null,
      "layout": "IPY_MODEL_d369c529d87d4ed0994f9e6b0f8aa9ed",
      "max": 1829,
      "min": 0,
      "orientation": "horizontal",
      "style": "IPY_MODEL_21a622cb9fe1409e856ddea510961df5",
      "value": 1829
     }
    },
    "411668f7d85f4319bf74a979c778c284": {
     "model_module": "@jupyter-widgets/base",
     "model_module_version": "1.2.0",
     "model_name": "LayoutModel",
     "state": {
      "_model_module": "@jupyter-widgets/base",
      "_model_module_version": "1.2.0",
      "_model_name": "LayoutModel",
      "_view_count": null,
      "_view_module": "@jupyter-widgets/base",
      "_view_module_version": "1.2.0",
      "_view_name": "LayoutView",
      "align_content": null,
      "align_items": null,
      "align_self": null,
      "border": null,
      "bottom": null,
      "display": null,
      "flex": null,
      "flex_flow": null,
      "grid_area": null,
      "grid_auto_columns": null,
      "grid_auto_flow": null,
      "grid_auto_rows": null,
      "grid_column": null,
      "grid_gap": null,
      "grid_row": null,
      "grid_template_areas": null,
      "grid_template_columns": null,
      "grid_template_rows": null,
      "height": null,
      "justify_content": null,
      "justify_items": null,
      "left": null,
      "margin": null,
      "max_height": null,
      "max_width": null,
      "min_height": null,
      "min_width": null,
      "object_fit": null,
      "object_position": null,
      "order": null,
      "overflow": null,
      "overflow_x": null,
      "overflow_y": null,
      "padding": null,
      "right": null,
      "top": null,
      "visibility": null,
      "width": null
     }
    },
    "4b27bf73b972429697dac3d7447f6c73": {
     "model_module": "@jupyter-widgets/base",
     "model_module_version": "1.2.0",
     "model_name": "LayoutModel",
     "state": {
      "_model_module": "@jupyter-widgets/base",
      "_model_module_version": "1.2.0",
      "_model_name": "LayoutModel",
      "_view_count": null,
      "_view_module": "@jupyter-widgets/base",
      "_view_module_version": "1.2.0",
      "_view_name": "LayoutView",
      "align_content": null,
      "align_items": null,
      "align_self": null,
      "border": null,
      "bottom": null,
      "display": null,
      "flex": null,
      "flex_flow": null,
      "grid_area": null,
      "grid_auto_columns": null,
      "grid_auto_flow": null,
      "grid_auto_rows": null,
      "grid_column": null,
      "grid_gap": null,
      "grid_row": null,
      "grid_template_areas": null,
      "grid_template_columns": null,
      "grid_template_rows": null,
      "height": null,
      "justify_content": null,
      "justify_items": null,
      "left": null,
      "margin": null,
      "max_height": null,
      "max_width": null,
      "min_height": null,
      "min_width": null,
      "object_fit": null,
      "object_position": null,
      "order": null,
      "overflow": null,
      "overflow_x": null,
      "overflow_y": null,
      "padding": null,
      "right": null,
      "top": null,
      "visibility": null,
      "width": null
     }
    },
    "5062541be19b4940976cba19fc85bcb3": {
     "model_module": "@jupyter-widgets/controls",
     "model_module_version": "1.5.0",
     "model_name": "HBoxModel",
     "state": {
      "_dom_classes": [],
      "_model_module": "@jupyter-widgets/controls",
      "_model_module_version": "1.5.0",
      "_model_name": "HBoxModel",
      "_view_count": null,
      "_view_module": "@jupyter-widgets/controls",
      "_view_module_version": "1.5.0",
      "_view_name": "HBoxView",
      "box_style": "",
      "children": [
       "IPY_MODEL_51ce890b836740318df0b4c7f930d21c",
       "IPY_MODEL_3e8e792cbed54a2db7ba337e9078d17d",
       "IPY_MODEL_dd6bc024a76443369afb4f4fc8cd5bba"
      ],
      "layout": "IPY_MODEL_20618a489eb842729828a70961752951"
     }
    },
    "511bdbaf396c41f18a96847840f20a8d": {
     "model_module": "@jupyter-widgets/controls",
     "model_module_version": "1.5.0",
     "model_name": "HTMLModel",
     "state": {
      "_dom_classes": [],
      "_model_module": "@jupyter-widgets/controls",
      "_model_module_version": "1.5.0",
      "_model_name": "HTMLModel",
      "_view_count": null,
      "_view_module": "@jupyter-widgets/controls",
      "_view_module_version": "1.5.0",
      "_view_name": "HTMLView",
      "description": "",
      "description_tooltip": null,
      "layout": "IPY_MODEL_be45e88f4267455eaeab6fe2375771ce",
      "placeholder": "​",
      "style": "IPY_MODEL_3c7222c3562c4262950367a0c8dcbad0",
      "value": " 1.06M/1.06M [00:00&lt;00:00, 20.9MB/s]"
     }
    },
    "51ce890b836740318df0b4c7f930d21c": {
     "model_module": "@jupyter-widgets/controls",
     "model_module_version": "1.5.0",
     "model_name": "HTMLModel",
     "state": {
      "_dom_classes": [],
      "_model_module": "@jupyter-widgets/controls",
      "_model_module_version": "1.5.0",
      "_model_name": "HTMLModel",
      "_view_count": null,
      "_view_module": "@jupyter-widgets/controls",
      "_view_module_version": "1.5.0",
      "_view_name": "HTMLView",
      "description": "",
      "description_tooltip": null,
      "layout": "IPY_MODEL_369daf1bf4c74da9bfa8665f80e6b137",
      "placeholder": "​",
      "style": "IPY_MODEL_fdc18b90b7554021be6c66b08e58c5e9",
      "value": "Downloading tokenizer_config.json: 100%"
     }
    },
    "52e7bbfadff44594820cc46af2b9f077": {
     "model_module": "@jupyter-widgets/controls",
     "model_module_version": "1.5.0",
     "model_name": "ProgressStyleModel",
     "state": {
      "_model_module": "@jupyter-widgets/controls",
      "_model_module_version": "1.5.0",
      "_model_name": "ProgressStyleModel",
      "_view_count": null,
      "_view_module": "@jupyter-widgets/base",
      "_view_module_version": "1.2.0",
      "_view_name": "StyleView",
      "bar_color": null,
      "description_width": ""
     }
    },
    "5a2c21bec52644bc97f982203d379048": {
     "model_module": "@jupyter-widgets/base",
     "model_module_version": "1.2.0",
     "model_name": "LayoutModel",
     "state": {
      "_model_module": "@jupyter-widgets/base",
      "_model_module_version": "1.2.0",
      "_model_name": "LayoutModel",
      "_view_count": null,
      "_view_module": "@jupyter-widgets/base",
      "_view_module_version": "1.2.0",
      "_view_name": "LayoutView",
      "align_content": null,
      "align_items": null,
      "align_self": null,
      "border": null,
      "bottom": null,
      "display": null,
      "flex": null,
      "flex_flow": null,
      "grid_area": null,
      "grid_auto_columns": null,
      "grid_auto_flow": null,
      "grid_auto_rows": null,
      "grid_column": null,
      "grid_gap": null,
      "grid_row": null,
      "grid_template_areas": null,
      "grid_template_columns": null,
      "grid_template_rows": null,
      "height": null,
      "justify_content": null,
      "justify_items": null,
      "left": null,
      "margin": null,
      "max_height": null,
      "max_width": null,
      "min_height": null,
      "min_width": null,
      "object_fit": null,
      "object_position": null,
      "order": null,
      "overflow": null,
      "overflow_x": null,
      "overflow_y": null,
      "padding": null,
      "right": null,
      "top": null,
      "visibility": null,
      "width": null
     }
    },
    "60613851ac8946478363669cc7407076": {
     "model_module": "@jupyter-widgets/controls",
     "model_module_version": "1.5.0",
     "model_name": "HTMLModel",
     "state": {
      "_dom_classes": [],
      "_model_module": "@jupyter-widgets/controls",
      "_model_module_version": "1.5.0",
      "_model_name": "HTMLModel",
      "_view_count": null,
      "_view_module": "@jupyter-widgets/controls",
      "_view_module_version": "1.5.0",
      "_view_name": "HTMLView",
      "description": "",
      "description_tooltip": null,
      "layout": "IPY_MODEL_8a286c9c5e1247aa9d9c9eec3a04b881",
      "placeholder": "​",
      "style": "IPY_MODEL_0ac9fe4b06cc40078428fc3bfdff884d",
      "value": "Downloading special_tokens_map.json: 100%"
     }
    },
    "61d1ac8d5dc049199b4363fa5ffd3dec": {
     "model_module": "@jupyter-widgets/base",
     "model_module_version": "1.2.0",
     "model_name": "LayoutModel",
     "state": {
      "_model_module": "@jupyter-widgets/base",
      "_model_module_version": "1.2.0",
      "_model_name": "LayoutModel",
      "_view_count": null,
      "_view_module": "@jupyter-widgets/base",
      "_view_module_version": "1.2.0",
      "_view_name": "LayoutView",
      "align_content": null,
      "align_items": null,
      "align_self": null,
      "border": null,
      "bottom": null,
      "display": null,
      "flex": null,
      "flex_flow": null,
      "grid_area": null,
      "grid_auto_columns": null,
      "grid_auto_flow": null,
      "grid_auto_rows": null,
      "grid_column": null,
      "grid_gap": null,
      "grid_row": null,
      "grid_template_areas": null,
      "grid_template_columns": null,
      "grid_template_rows": null,
      "height": null,
      "justify_content": null,
      "justify_items": null,
      "left": null,
      "margin": null,
      "max_height": null,
      "max_width": null,
      "min_height": null,
      "min_width": null,
      "object_fit": null,
      "object_position": null,
      "order": null,
      "overflow": null,
      "overflow_x": null,
      "overflow_y": null,
      "padding": null,
      "right": null,
      "top": null,
      "visibility": null,
      "width": null
     }
    },
    "62d4eb95cd3d4d1390dde86eb9614d7c": {
     "model_module": "@jupyter-widgets/controls",
     "model_module_version": "1.5.0",
     "model_name": "HTMLModel",
     "state": {
      "_dom_classes": [],
      "_model_module": "@jupyter-widgets/controls",
      "_model_module_version": "1.5.0",
      "_model_name": "HTMLModel",
      "_view_count": null,
      "_view_module": "@jupyter-widgets/controls",
      "_view_module_version": "1.5.0",
      "_view_name": "HTMLView",
      "description": "",
      "description_tooltip": null,
      "layout": "IPY_MODEL_f2417786bd4d4e388d2ecad6c5b52db3",
      "placeholder": "​",
      "style": "IPY_MODEL_d0a04c37b2e746fd92e61bf86ad46b13",
      "value": " 659/659 [00:00&lt;00:00, 23.2kB/s]"
     }
    },
    "70135d4b8cd54a289d0fa90648a0f94d": {
     "model_module": "@jupyter-widgets/controls",
     "model_module_version": "1.5.0",
     "model_name": "HTMLModel",
     "state": {
      "_dom_classes": [],
      "_model_module": "@jupyter-widgets/controls",
      "_model_module_version": "1.5.0",
      "_model_name": "HTMLModel",
      "_view_count": null,
      "_view_module": "@jupyter-widgets/controls",
      "_view_module_version": "1.5.0",
      "_view_name": "HTMLView",
      "description": "",
      "description_tooltip": null,
      "layout": "IPY_MODEL_61d1ac8d5dc049199b4363fa5ffd3dec",
      "placeholder": "​",
      "style": "IPY_MODEL_a16b132d38524ad4b6a584d4d36851af",
      "value": "Downloading config.json: 100%"
     }
    },
    "821728b9d5c84906a7bc7f2783632111": {
     "model_module": "@jupyter-widgets/controls",
     "model_module_version": "1.5.0",
     "model_name": "HBoxModel",
     "state": {
      "_dom_classes": [],
      "_model_module": "@jupyter-widgets/controls",
      "_model_module_version": "1.5.0",
      "_model_name": "HBoxModel",
      "_view_count": null,
      "_view_module": "@jupyter-widgets/controls",
      "_view_module_version": "1.5.0",
      "_view_name": "HBoxView",
      "box_style": "",
      "children": [
       "IPY_MODEL_ec369ae1d04d4401ba8de45017620118",
       "IPY_MODEL_fe94ed5a21864dcc8858bf4729466af2",
       "IPY_MODEL_511bdbaf396c41f18a96847840f20a8d"
      ],
      "layout": "IPY_MODEL_f9b471b93879435b8f83c56608c1438e"
     }
    },
    "8a286c9c5e1247aa9d9c9eec3a04b881": {
     "model_module": "@jupyter-widgets/base",
     "model_module_version": "1.2.0",
     "model_name": "LayoutModel",
     "state": {
      "_model_module": "@jupyter-widgets/base",
      "_model_module_version": "1.2.0",
      "_model_name": "LayoutModel",
      "_view_count": null,
      "_view_module": "@jupyter-widgets/base",
      "_view_module_version": "1.2.0",
      "_view_name": "LayoutView",
      "align_content": null,
      "align_items": null,
      "align_self": null,
      "border": null,
      "bottom": null,
      "display": null,
      "flex": null,
      "flex_flow": null,
      "grid_area": null,
      "grid_auto_columns": null,
      "grid_auto_flow": null,
      "grid_auto_rows": null,
      "grid_column": null,
      "grid_gap": null,
      "grid_row": null,
      "grid_template_areas": null,
      "grid_template_columns": null,
      "grid_template_rows": null,
      "height": null,
      "justify_content": null,
      "justify_items": null,
      "left": null,
      "margin": null,
      "max_height": null,
      "max_width": null,
      "min_height": null,
      "min_width": null,
      "object_fit": null,
      "object_position": null,
      "order": null,
      "overflow": null,
      "overflow_x": null,
      "overflow_y": null,
      "padding": null,
      "right": null,
      "top": null,
      "visibility": null,
      "width": null
     }
    },
    "8aaa7aa829014601b968f40657630fcb": {
     "model_module": "@jupyter-widgets/base",
     "model_module_version": "1.2.0",
     "model_name": "LayoutModel",
     "state": {
      "_model_module": "@jupyter-widgets/base",
      "_model_module_version": "1.2.0",
      "_model_name": "LayoutModel",
      "_view_count": null,
      "_view_module": "@jupyter-widgets/base",
      "_view_module_version": "1.2.0",
      "_view_name": "LayoutView",
      "align_content": null,
      "align_items": null,
      "align_self": null,
      "border": null,
      "bottom": null,
      "display": null,
      "flex": null,
      "flex_flow": null,
      "grid_area": null,
      "grid_auto_columns": null,
      "grid_auto_flow": null,
      "grid_auto_rows": null,
      "grid_column": null,
      "grid_gap": null,
      "grid_row": null,
      "grid_template_areas": null,
      "grid_template_columns": null,
      "grid_template_rows": null,
      "height": null,
      "justify_content": null,
      "justify_items": null,
      "left": null,
      "margin": null,
      "max_height": null,
      "max_width": null,
      "min_height": null,
      "min_width": null,
      "object_fit": null,
      "object_position": null,
      "order": null,
      "overflow": null,
      "overflow_x": null,
      "overflow_y": null,
      "padding": null,
      "right": null,
      "top": null,
      "visibility": null,
      "width": null
     }
    },
    "8c55dd731d6a493bb8168418b295ee86": {
     "model_module": "@jupyter-widgets/controls",
     "model_module_version": "1.5.0",
     "model_name": "DescriptionStyleModel",
     "state": {
      "_model_module": "@jupyter-widgets/controls",
      "_model_module_version": "1.5.0",
      "_model_name": "DescriptionStyleModel",
      "_view_count": null,
      "_view_module": "@jupyter-widgets/base",
      "_view_module_version": "1.2.0",
      "_view_name": "StyleView",
      "description_width": ""
     }
    },
    "8e16ea1f21024093b6d8fe5409e2f567": {
     "model_module": "@jupyter-widgets/base",
     "model_module_version": "1.2.0",
     "model_name": "LayoutModel",
     "state": {
      "_model_module": "@jupyter-widgets/base",
      "_model_module_version": "1.2.0",
      "_model_name": "LayoutModel",
      "_view_count": null,
      "_view_module": "@jupyter-widgets/base",
      "_view_module_version": "1.2.0",
      "_view_name": "LayoutView",
      "align_content": null,
      "align_items": null,
      "align_self": null,
      "border": null,
      "bottom": null,
      "display": null,
      "flex": null,
      "flex_flow": null,
      "grid_area": null,
      "grid_auto_columns": null,
      "grid_auto_flow": null,
      "grid_auto_rows": null,
      "grid_column": null,
      "grid_gap": null,
      "grid_row": null,
      "grid_template_areas": null,
      "grid_template_columns": null,
      "grid_template_rows": null,
      "height": null,
      "justify_content": null,
      "justify_items": null,
      "left": null,
      "margin": null,
      "max_height": null,
      "max_width": null,
      "min_height": null,
      "min_width": null,
      "object_fit": null,
      "object_position": null,
      "order": null,
      "overflow": null,
      "overflow_x": null,
      "overflow_y": null,
      "padding": null,
      "right": null,
      "top": null,
      "visibility": null,
      "width": null
     }
    },
    "92b26897c3214876b301b2be59e5dfe8": {
     "model_module": "@jupyter-widgets/controls",
     "model_module_version": "1.5.0",
     "model_name": "DescriptionStyleModel",
     "state": {
      "_model_module": "@jupyter-widgets/controls",
      "_model_module_version": "1.5.0",
      "_model_name": "DescriptionStyleModel",
      "_view_count": null,
      "_view_module": "@jupyter-widgets/base",
      "_view_module_version": "1.2.0",
      "_view_name": "StyleView",
      "description_width": ""
     }
    },
    "9b2b81f52282420f8dbee029890a5afa": {
     "model_module": "@jupyter-widgets/controls",
     "model_module_version": "1.5.0",
     "model_name": "ProgressStyleModel",
     "state": {
      "_model_module": "@jupyter-widgets/controls",
      "_model_module_version": "1.5.0",
      "_model_name": "ProgressStyleModel",
      "_view_count": null,
      "_view_module": "@jupyter-widgets/base",
      "_view_module_version": "1.2.0",
      "_view_name": "StyleView",
      "bar_color": null,
      "description_width": ""
     }
    },
    "9c3e86a77197490c81899b4be90bb04f": {
     "model_module": "@jupyter-widgets/base",
     "model_module_version": "1.2.0",
     "model_name": "LayoutModel",
     "state": {
      "_model_module": "@jupyter-widgets/base",
      "_model_module_version": "1.2.0",
      "_model_name": "LayoutModel",
      "_view_count": null,
      "_view_module": "@jupyter-widgets/base",
      "_view_module_version": "1.2.0",
      "_view_name": "LayoutView",
      "align_content": null,
      "align_items": null,
      "align_self": null,
      "border": null,
      "bottom": null,
      "display": null,
      "flex": null,
      "flex_flow": null,
      "grid_area": null,
      "grid_auto_columns": null,
      "grid_auto_flow": null,
      "grid_auto_rows": null,
      "grid_column": null,
      "grid_gap": null,
      "grid_row": null,
      "grid_template_areas": null,
      "grid_template_columns": null,
      "grid_template_rows": null,
      "height": null,
      "justify_content": null,
      "justify_items": null,
      "left": null,
      "margin": null,
      "max_height": null,
      "max_width": null,
      "min_height": null,
      "min_width": null,
      "object_fit": null,
      "object_position": null,
      "order": null,
      "overflow": null,
      "overflow_x": null,
      "overflow_y": null,
      "padding": null,
      "right": null,
      "top": null,
      "visibility": null,
      "width": null
     }
    },
    "9f84ee1c23a6484c91b119ec1bb62807": {
     "model_module": "@jupyter-widgets/controls",
     "model_module_version": "1.5.0",
     "model_name": "FloatProgressModel",
     "state": {
      "_dom_classes": [],
      "_model_module": "@jupyter-widgets/controls",
      "_model_module_version": "1.5.0",
      "_model_name": "FloatProgressModel",
      "_view_count": null,
      "_view_module": "@jupyter-widgets/controls",
      "_view_module_version": "1.5.0",
      "_view_name": "ProgressView",
      "bar_style": "success",
      "description": "",
      "description_tooltip": null,
      "layout": "IPY_MODEL_8e16ea1f21024093b6d8fe5409e2f567",
      "max": 659,
      "min": 0,
      "orientation": "horizontal",
      "style": "IPY_MODEL_9b2b81f52282420f8dbee029890a5afa",
      "value": 659
     }
    },
    "a16b132d38524ad4b6a584d4d36851af": {
     "model_module": "@jupyter-widgets/controls",
     "model_module_version": "1.5.0",
     "model_name": "DescriptionStyleModel",
     "state": {
      "_model_module": "@jupyter-widgets/controls",
      "_model_module_version": "1.5.0",
      "_model_name": "DescriptionStyleModel",
      "_view_count": null,
      "_view_module": "@jupyter-widgets/base",
      "_view_module_version": "1.2.0",
      "_view_name": "StyleView",
      "description_width": ""
     }
    },
    "adb7919bca584fa99f3495244fe8e45c": {
     "model_module": "@jupyter-widgets/base",
     "model_module_version": "1.2.0",
     "model_name": "LayoutModel",
     "state": {
      "_model_module": "@jupyter-widgets/base",
      "_model_module_version": "1.2.0",
      "_model_name": "LayoutModel",
      "_view_count": null,
      "_view_module": "@jupyter-widgets/base",
      "_view_module_version": "1.2.0",
      "_view_name": "LayoutView",
      "align_content": null,
      "align_items": null,
      "align_self": null,
      "border": null,
      "bottom": null,
      "display": null,
      "flex": null,
      "flex_flow": null,
      "grid_area": null,
      "grid_auto_columns": null,
      "grid_auto_flow": null,
      "grid_auto_rows": null,
      "grid_column": null,
      "grid_gap": null,
      "grid_row": null,
      "grid_template_areas": null,
      "grid_template_columns": null,
      "grid_template_rows": null,
      "height": null,
      "justify_content": null,
      "justify_items": null,
      "left": null,
      "margin": null,
      "max_height": null,
      "max_width": null,
      "min_height": null,
      "min_width": null,
      "object_fit": null,
      "object_position": null,
      "order": null,
      "overflow": null,
      "overflow_x": null,
      "overflow_y": null,
      "padding": null,
      "right": null,
      "top": null,
      "visibility": null,
      "width": null
     }
    },
    "b569b62daa284013b0fb94acd9e0568f": {
     "model_module": "@jupyter-widgets/base",
     "model_module_version": "1.2.0",
     "model_name": "LayoutModel",
     "state": {
      "_model_module": "@jupyter-widgets/base",
      "_model_module_version": "1.2.0",
      "_model_name": "LayoutModel",
      "_view_count": null,
      "_view_module": "@jupyter-widgets/base",
      "_view_module_version": "1.2.0",
      "_view_name": "LayoutView",
      "align_content": null,
      "align_items": null,
      "align_self": null,
      "border": null,
      "bottom": null,
      "display": null,
      "flex": null,
      "flex_flow": null,
      "grid_area": null,
      "grid_auto_columns": null,
      "grid_auto_flow": null,
      "grid_auto_rows": null,
      "grid_column": null,
      "grid_gap": null,
      "grid_row": null,
      "grid_template_areas": null,
      "grid_template_columns": null,
      "grid_template_rows": null,
      "height": null,
      "justify_content": null,
      "justify_items": null,
      "left": null,
      "margin": null,
      "max_height": null,
      "max_width": null,
      "min_height": null,
      "min_width": null,
      "object_fit": null,
      "object_position": null,
      "order": null,
      "overflow": null,
      "overflow_x": null,
      "overflow_y": null,
      "padding": null,
      "right": null,
      "top": null,
      "visibility": null,
      "width": null
     }
    },
    "be45e88f4267455eaeab6fe2375771ce": {
     "model_module": "@jupyter-widgets/base",
     "model_module_version": "1.2.0",
     "model_name": "LayoutModel",
     "state": {
      "_model_module": "@jupyter-widgets/base",
      "_model_module_version": "1.2.0",
      "_model_name": "LayoutModel",
      "_view_count": null,
      "_view_module": "@jupyter-widgets/base",
      "_view_module_version": "1.2.0",
      "_view_name": "LayoutView",
      "align_content": null,
      "align_items": null,
      "align_self": null,
      "border": null,
      "bottom": null,
      "display": null,
      "flex": null,
      "flex_flow": null,
      "grid_area": null,
      "grid_auto_columns": null,
      "grid_auto_flow": null,
      "grid_auto_rows": null,
      "grid_column": null,
      "grid_gap": null,
      "grid_row": null,
      "grid_template_areas": null,
      "grid_template_columns": null,
      "grid_template_rows": null,
      "height": null,
      "justify_content": null,
      "justify_items": null,
      "left": null,
      "margin": null,
      "max_height": null,
      "max_width": null,
      "min_height": null,
      "min_width": null,
      "object_fit": null,
      "object_position": null,
      "order": null,
      "overflow": null,
      "overflow_x": null,
      "overflow_y": null,
      "padding": null,
      "right": null,
      "top": null,
      "visibility": null,
      "width": null
     }
    },
    "bf445bb92da64d3097d1c81efa1ae201": {
     "model_module": "@jupyter-widgets/controls",
     "model_module_version": "1.5.0",
     "model_name": "HBoxModel",
     "state": {
      "_dom_classes": [],
      "_model_module": "@jupyter-widgets/controls",
      "_model_module_version": "1.5.0",
      "_model_name": "HBoxModel",
      "_view_count": null,
      "_view_module": "@jupyter-widgets/controls",
      "_view_module_version": "1.5.0",
      "_view_name": "HBoxView",
      "box_style": "",
      "children": [
       "IPY_MODEL_60613851ac8946478363669cc7407076",
       "IPY_MODEL_1fed79e6f7d541699ce59acf155c126f",
       "IPY_MODEL_0ffddd64ccb94c5183d13cbe0f13620f"
      ],
      "layout": "IPY_MODEL_4b27bf73b972429697dac3d7447f6c73"
     }
    },
    "c45fae7cd08645aa97161e157f05fcc8": {
     "model_module": "@jupyter-widgets/controls",
     "model_module_version": "1.5.0",
     "model_name": "HBoxModel",
     "state": {
      "_dom_classes": [],
      "_model_module": "@jupyter-widgets/controls",
      "_model_module_version": "1.5.0",
      "_model_name": "HBoxModel",
      "_view_count": null,
      "_view_module": "@jupyter-widgets/controls",
      "_view_module_version": "1.5.0",
      "_view_name": "HBoxView",
      "box_style": "",
      "children": [
       "IPY_MODEL_eddca892685246efb472264072966f71",
       "IPY_MODEL_ce3790ab239c4490bca99fa715033366",
       "IPY_MODEL_c588b06f7fe5424cad51ed493a0d51ac"
      ],
      "layout": "IPY_MODEL_3dc66634831b405f81e99d6d18e1e81c"
     }
    },
    "c588b06f7fe5424cad51ed493a0d51ac": {
     "model_module": "@jupyter-widgets/controls",
     "model_module_version": "1.5.0",
     "model_name": "HTMLModel",
     "state": {
      "_dom_classes": [],
      "_model_module": "@jupyter-widgets/controls",
      "_model_module_version": "1.5.0",
      "_model_name": "HTMLModel",
      "_view_count": null,
      "_view_module": "@jupyter-widgets/controls",
      "_view_module_version": "1.5.0",
      "_view_name": "HTMLView",
      "description": "",
      "description_tooltip": null,
      "layout": "IPY_MODEL_5a2c21bec52644bc97f982203d379048",
      "placeholder": "​",
      "style": "IPY_MODEL_e8b84dc390234d8781a193a6cbca6e21",
      "value": " 945M/945M [00:15&lt;00:00, 71.9MB/s]"
     }
    },
    "ce3790ab239c4490bca99fa715033366": {
     "model_module": "@jupyter-widgets/controls",
     "model_module_version": "1.5.0",
     "model_name": "FloatProgressModel",
     "state": {
      "_dom_classes": [],
      "_model_module": "@jupyter-widgets/controls",
      "_model_module_version": "1.5.0",
      "_model_name": "FloatProgressModel",
      "_view_count": null,
      "_view_module": "@jupyter-widgets/controls",
      "_view_module_version": "1.5.0",
      "_view_name": "ProgressView",
      "bar_style": "success",
      "description": "",
      "description_tooltip": null,
      "layout": "IPY_MODEL_d024078b847d49f19450fba433ae1b81",
      "max": 990441433,
      "min": 0,
      "orientation": "horizontal",
      "style": "IPY_MODEL_14d9c19ddffb47cea2130c7e4b983e72",
      "value": 990441433
     }
    },
    "d024078b847d49f19450fba433ae1b81": {
     "model_module": "@jupyter-widgets/base",
     "model_module_version": "1.2.0",
     "model_name": "LayoutModel",
     "state": {
      "_model_module": "@jupyter-widgets/base",
      "_model_module_version": "1.2.0",
      "_model_name": "LayoutModel",
      "_view_count": null,
      "_view_module": "@jupyter-widgets/base",
      "_view_module_version": "1.2.0",
      "_view_name": "LayoutView",
      "align_content": null,
      "align_items": null,
      "align_self": null,
      "border": null,
      "bottom": null,
      "display": null,
      "flex": null,
      "flex_flow": null,
      "grid_area": null,
      "grid_auto_columns": null,
      "grid_auto_flow": null,
      "grid_auto_rows": null,
      "grid_column": null,
      "grid_gap": null,
      "grid_row": null,
      "grid_template_areas": null,
      "grid_template_columns": null,
      "grid_template_rows": null,
      "height": null,
      "justify_content": null,
      "justify_items": null,
      "left": null,
      "margin": null,
      "max_height": null,
      "max_width": null,
      "min_height": null,
      "min_width": null,
      "object_fit": null,
      "object_position": null,
      "order": null,
      "overflow": null,
      "overflow_x": null,
      "overflow_y": null,
      "padding": null,
      "right": null,
      "top": null,
      "visibility": null,
      "width": null
     }
    },
    "d0a04c37b2e746fd92e61bf86ad46b13": {
     "model_module": "@jupyter-widgets/controls",
     "model_module_version": "1.5.0",
     "model_name": "DescriptionStyleModel",
     "state": {
      "_model_module": "@jupyter-widgets/controls",
      "_model_module_version": "1.5.0",
      "_model_name": "DescriptionStyleModel",
      "_view_count": null,
      "_view_module": "@jupyter-widgets/base",
      "_view_module_version": "1.2.0",
      "_view_name": "StyleView",
      "description_width": ""
     }
    },
    "d369c529d87d4ed0994f9e6b0f8aa9ed": {
     "model_module": "@jupyter-widgets/base",
     "model_module_version": "1.2.0",
     "model_name": "LayoutModel",
     "state": {
      "_model_module": "@jupyter-widgets/base",
      "_model_module_version": "1.2.0",
      "_model_name": "LayoutModel",
      "_view_count": null,
      "_view_module": "@jupyter-widgets/base",
      "_view_module_version": "1.2.0",
      "_view_name": "LayoutView",
      "align_content": null,
      "align_items": null,
      "align_self": null,
      "border": null,
      "bottom": null,
      "display": null,
      "flex": null,
      "flex_flow": null,
      "grid_area": null,
      "grid_auto_columns": null,
      "grid_auto_flow": null,
      "grid_auto_rows": null,
      "grid_column": null,
      "grid_gap": null,
      "grid_row": null,
      "grid_template_areas": null,
      "grid_template_columns": null,
      "grid_template_rows": null,
      "height": null,
      "justify_content": null,
      "justify_items": null,
      "left": null,
      "margin": null,
      "max_height": null,
      "max_width": null,
      "min_height": null,
      "min_width": null,
      "object_fit": null,
      "object_position": null,
      "order": null,
      "overflow": null,
      "overflow_x": null,
      "overflow_y": null,
      "padding": null,
      "right": null,
      "top": null,
      "visibility": null,
      "width": null
     }
    },
    "da7d3398a4c74c03bf57b013617b218e": {
     "model_module": "@jupyter-widgets/controls",
     "model_module_version": "1.5.0",
     "model_name": "DescriptionStyleModel",
     "state": {
      "_model_module": "@jupyter-widgets/controls",
      "_model_module_version": "1.5.0",
      "_model_name": "DescriptionStyleModel",
      "_view_count": null,
      "_view_module": "@jupyter-widgets/base",
      "_view_module_version": "1.2.0",
      "_view_name": "StyleView",
      "description_width": ""
     }
    },
    "dd6bc024a76443369afb4f4fc8cd5bba": {
     "model_module": "@jupyter-widgets/controls",
     "model_module_version": "1.5.0",
     "model_name": "HTMLModel",
     "state": {
      "_dom_classes": [],
      "_model_module": "@jupyter-widgets/controls",
      "_model_module_version": "1.5.0",
      "_model_name": "HTMLModel",
      "_view_count": null,
      "_view_module": "@jupyter-widgets/controls",
      "_view_module_version": "1.5.0",
      "_view_name": "HTMLView",
      "description": "",
      "description_tooltip": null,
      "layout": "IPY_MODEL_346c864c0dae4c7884a7f45a820a604b",
      "placeholder": "​",
      "style": "IPY_MODEL_8c55dd731d6a493bb8168418b295ee86",
      "value": " 1.79k/1.79k [00:00&lt;00:00, 75.9kB/s]"
     }
    },
    "e8b84dc390234d8781a193a6cbca6e21": {
     "model_module": "@jupyter-widgets/controls",
     "model_module_version": "1.5.0",
     "model_name": "DescriptionStyleModel",
     "state": {
      "_model_module": "@jupyter-widgets/controls",
      "_model_module_version": "1.5.0",
      "_model_name": "DescriptionStyleModel",
      "_view_count": null,
      "_view_module": "@jupyter-widgets/base",
      "_view_module_version": "1.2.0",
      "_view_name": "StyleView",
      "description_width": ""
     }
    },
    "ec369ae1d04d4401ba8de45017620118": {
     "model_module": "@jupyter-widgets/controls",
     "model_module_version": "1.5.0",
     "model_name": "HTMLModel",
     "state": {
      "_dom_classes": [],
      "_model_module": "@jupyter-widgets/controls",
      "_model_module_version": "1.5.0",
      "_model_name": "HTMLModel",
      "_view_count": null,
      "_view_module": "@jupyter-widgets/controls",
      "_view_module_version": "1.5.0",
      "_view_name": "HTMLView",
      "description": "",
      "description_tooltip": null,
      "layout": "IPY_MODEL_b569b62daa284013b0fb94acd9e0568f",
      "placeholder": "​",
      "style": "IPY_MODEL_376638383b2049878c003cedb9b46b43",
      "value": "Downloading spiece.model: 100%"
     }
    },
    "eddca892685246efb472264072966f71": {
     "model_module": "@jupyter-widgets/controls",
     "model_module_version": "1.5.0",
     "model_name": "HTMLModel",
     "state": {
      "_dom_classes": [],
      "_model_module": "@jupyter-widgets/controls",
      "_model_module_version": "1.5.0",
      "_model_name": "HTMLModel",
      "_view_count": null,
      "_view_module": "@jupyter-widgets/controls",
      "_view_module_version": "1.5.0",
      "_view_name": "HTMLView",
      "description": "",
      "description_tooltip": null,
      "layout": "IPY_MODEL_8aaa7aa829014601b968f40657630fcb",
      "placeholder": "​",
      "style": "IPY_MODEL_92b26897c3214876b301b2be59e5dfe8",
      "value": "Downloading pytorch_model.bin: 100%"
     }
    },
    "f2417786bd4d4e388d2ecad6c5b52db3": {
     "model_module": "@jupyter-widgets/base",
     "model_module_version": "1.2.0",
     "model_name": "LayoutModel",
     "state": {
      "_model_module": "@jupyter-widgets/base",
      "_model_module_version": "1.2.0",
      "_model_name": "LayoutModel",
      "_view_count": null,
      "_view_module": "@jupyter-widgets/base",
      "_view_module_version": "1.2.0",
      "_view_name": "LayoutView",
      "align_content": null,
      "align_items": null,
      "align_self": null,
      "border": null,
      "bottom": null,
      "display": null,
      "flex": null,
      "flex_flow": null,
      "grid_area": null,
      "grid_auto_columns": null,
      "grid_auto_flow": null,
      "grid_auto_rows": null,
      "grid_column": null,
      "grid_gap": null,
      "grid_row": null,
      "grid_template_areas": null,
      "grid_template_columns": null,
      "grid_template_rows": null,
      "height": null,
      "justify_content": null,
      "justify_items": null,
      "left": null,
      "margin": null,
      "max_height": null,
      "max_width": null,
      "min_height": null,
      "min_width": null,
      "object_fit": null,
      "object_position": null,
      "order": null,
      "overflow": null,
      "overflow_x": null,
      "overflow_y": null,
      "padding": null,
      "right": null,
      "top": null,
      "visibility": null,
      "width": null
     }
    },
    "f9b471b93879435b8f83c56608c1438e": {
     "model_module": "@jupyter-widgets/base",
     "model_module_version": "1.2.0",
     "model_name": "LayoutModel",
     "state": {
      "_model_module": "@jupyter-widgets/base",
      "_model_module_version": "1.2.0",
      "_model_name": "LayoutModel",
      "_view_count": null,
      "_view_module": "@jupyter-widgets/base",
      "_view_module_version": "1.2.0",
      "_view_name": "LayoutView",
      "align_content": null,
      "align_items": null,
      "align_self": null,
      "border": null,
      "bottom": null,
      "display": null,
      "flex": null,
      "flex_flow": null,
      "grid_area": null,
      "grid_auto_columns": null,
      "grid_auto_flow": null,
      "grid_auto_rows": null,
      "grid_column": null,
      "grid_gap": null,
      "grid_row": null,
      "grid_template_areas": null,
      "grid_template_columns": null,
      "grid_template_rows": null,
      "height": null,
      "justify_content": null,
      "justify_items": null,
      "left": null,
      "margin": null,
      "max_height": null,
      "max_width": null,
      "min_height": null,
      "min_width": null,
      "object_fit": null,
      "object_position": null,
      "order": null,
      "overflow": null,
      "overflow_x": null,
      "overflow_y": null,
      "padding": null,
      "right": null,
      "top": null,
      "visibility": null,
      "width": null
     }
    },
    "fdc18b90b7554021be6c66b08e58c5e9": {
     "model_module": "@jupyter-widgets/controls",
     "model_module_version": "1.5.0",
     "model_name": "DescriptionStyleModel",
     "state": {
      "_model_module": "@jupyter-widgets/controls",
      "_model_module_version": "1.5.0",
      "_model_name": "DescriptionStyleModel",
      "_view_count": null,
      "_view_module": "@jupyter-widgets/base",
      "_view_module_version": "1.2.0",
      "_view_name": "StyleView",
      "description_width": ""
     }
    },
    "fe94ed5a21864dcc8858bf4729466af2": {
     "model_module": "@jupyter-widgets/controls",
     "model_module_version": "1.5.0",
     "model_name": "FloatProgressModel",
     "state": {
      "_dom_classes": [],
      "_model_module": "@jupyter-widgets/controls",
      "_model_module_version": "1.5.0",
      "_model_name": "FloatProgressModel",
      "_view_count": null,
      "_view_module": "@jupyter-widgets/controls",
      "_view_module_version": "1.5.0",
      "_view_name": "ProgressView",
      "bar_style": "success",
      "description": "",
      "description_tooltip": null,
      "layout": "IPY_MODEL_adb7919bca584fa99f3495244fe8e45c",
      "max": 1111492,
      "min": 0,
      "orientation": "horizontal",
      "style": "IPY_MODEL_39abd6a7e7cb483a960c7690a52e0ee8",
      "value": 1111492
     }
    }
   }
  }
 },
 "nbformat": 4,
 "nbformat_minor": 4
}
